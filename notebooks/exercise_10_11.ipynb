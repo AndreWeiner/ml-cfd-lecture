{
 "cells": [
  {
   "cell_type": "markdown",
   "id": "worldwide-ballet",
   "metadata": {},
   "source": [
    "![CC](https://i.creativecommons.org/l/by/4.0/88x31.png)\n",
    "\n",
    "This work is licensed under a [Creative Commons Attribution 4.0 International License](http://creativecommons.org/licenses/by/4.0/).\n",
    "\n",
    "# Controlling the flow past a cylinder with OpenFOAM and PyTorch\n",
    "\n",
    "This exercise consists of two parts, which are meant to be solved in two individual sessions. We will implement two active flow control approaches to reduce drag and lift forces acting on the surface of a circular cylinder in a stream. The base simulation is the same as in exercises 2 and 9. In both control approaches, the flow is actuated by rotating the cylinder. The rotation is easily implemented in a CFD simulation by modifying the velocity boundary condition applied to the *cylinder* patch. Say that $u_\\perp$ is the signed cross-radial speed of the cylinder's surface. Then the surface velocity vector field $\\mathbf{u}_\\perp$ is obtained by multiplying the speed with tangential unit vector $\\mathbf{t}_\\perp (\\mathbf{x})$:\n",
    "$$\n",
    "  \\mathbf{u}_\\perp = u_\\perp \\mathbf{t}_\\perp (\\mathbf{x}),\n",
    "$$\n",
    "where $\\mathbf{t}_\\perp (\\mathbf{x})$ is tangential to the cylinder's surface (note that the simulation is 2D, so there is only one sensible tangent). The two control approaches vary in the way how they determine $u_\\perp$. In open-loop control, the control law is a function of time, e.g., $u_\\perp = u_\\perp (t)$. The closed-loop control law is a function of the pressure sensors $\\mathbf{p}$, e.g., $u_\\perp = u_\\perp (\\mathbf{p})$."
   ]
  },
  {
   "cell_type": "markdown",
   "id": "b45e3114",
   "metadata": {},
   "source": [
    "## Open-loop active flow control\n",
    "\n",
    "As observed in exercise 2, the uncontrolled flow past the cylinder at $Re=100$ yields almost perfectly sinusoidal lift and drag curves in the quasi-steady state (neglecting the non-zero mean). Therefore, we could try to interrupt the natural vortex shedding by rotating the cylinder periodically in alternating directions. A suitable control law might be:\n",
    "$$\n",
    "  u_\\perp (t) = A \\mathrm{sin}(2\\pi f t),\n",
    "$$\n",
    "where the amplitude $A$ and the frequency $f$ are adjustable parameters. To implement this new velocity boundary condition, we use OpenFOAM's [inline expressions for dictionaries](https://www.openfoam.com/news/main-news/openfoam-v1912/pre-processing#pre-processing-expressions-syntax). To get started, create a dedicated folder and make a copy of the base simulation:\n",
    "```\n",
    "mkdir exercises/openloop_control\n",
    "cp -r test_cases/cylinder2D/ exercises/openloop_control/A2f6\n",
    "```\n",
    "The velocity boundary condition is specified in the *0.org/U* dictionary. Open the dictionary and make the following modifications:\n",
    "\n",
    "1. currently, there is one entry for the *cylinder*, *top*, and *bottom* patches, because the same boundary condition is applied to these patches; remove the *cylinder* patch from the joint entry and create a new separate entry only for *cylinder*\n",
    "2. use the *exprFixedValue* type boundary condition as follows:\n",
    "```\n",
    "cylinder\n",
    "{\n",
    "  type        exprFixedValue;\n",
    "  value       $internalField;\n",
    "  amplitude   2.0;\n",
    "  frequency   6.0;\n",
    "  valueExpr   \"(vector(0, 0, 1) ^ face()) / area() * ???\";\n",
    "}\n",
    "```\n",
    "Variables can be accessed using the syntax `$variable`. E.g., `$frequency` becomes 6.0 in the example above. The expression `(vector(0, 0, 1) ^ face()) / area()` computes the tangential unit vector. The only missing piece is the expression for $u_\\perp (t)$ in place of the three question marks. You can find the names for the required mathematical functions in the [documentation](https://www.openfoam.com/documentation/guides/latest/doc/openfoam-guide-expression-syntax.html).\n",
    "\n",
    "One additional modification of the workflow is necessary when running the simulation with the Singularity container. The default workflow expects the Singularity image to be stored in the simulation's parent folder, but for this exercise, we created one more subfolder, namely *openloop_control*. To modify the default behavior, open the *Allrun.singularity* script and change/add the following lines:\n",
    "```\n",
    "# replace . ../../functions with\n",
    ". ../../../functions\n",
    "# and add the line\n",
    "setImage \"../../../of2106.sif\"\n",
    "# before using the image for the first time\n",
    "```\n",
    "Once the execution is complete, open the case in ParaView:\n",
    "```\n",
    "paraview post.foam\n",
    "```\n",
    "and apply the following steps to check if the control works:\n",
    "1. set *Case Type* to *Decomposed Case*\n",
    "2. under *Mesh Regions*, select only the cylinder patch\n",
    "3. click *Apply*\n",
    "4. create a *Glyph* filter and set the *Scale Array* to *U*\n",
    "5. click the play button and observe the surface velocity field\n",
    "\n",
    "If the control is implemented correctly, we can now check its effect on the forces acting on the cylinder. To do so, create a new Jupyter notebook, load the drag and lift coefficients as in previous exercises, and plot the controlled against the un-controlled coefficients. \n",
    "\n",
    "Finally, create one or two additional parameter variations in terms of $f$ and $A$, and repeat the process of evaluating the force coefficients."
   ]
  },
  {
   "cell_type": "markdown",
   "id": "likely-english",
   "metadata": {},
   "source": [
    "## Closed-loop active flow control"
   ]
  },
  {
   "cell_type": "markdown",
   "id": "c23a94b4",
   "metadata": {},
   "source": []
  }
 ],
 "metadata": {
  "kernelspec": {
   "display_name": "Python 3",
   "language": "python",
   "name": "python3"
  },
  "language_info": {
   "codemirror_mode": {
    "name": "ipython",
    "version": 3
   },
   "file_extension": ".py",
   "mimetype": "text/x-python",
   "name": "python",
   "nbconvert_exporter": "python",
   "pygments_lexer": "ipython3",
   "version": "3.8.10"
  }
 },
 "nbformat": 4,
 "nbformat_minor": 5
}
