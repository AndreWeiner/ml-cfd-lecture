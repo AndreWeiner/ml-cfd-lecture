{
 "cells": [
  {
   "cell_type": "markdown",
   "id": "imported-scout",
   "metadata": {},
   "source": [
    "![CC](https://i.creativecommons.org/l/by/4.0/88x31.png)\n",
    "\n",
    "This work is licensed under a [Creative Commons Attribution 4.0 International License](http://creativecommons.org/licenses/by/4.0/).\n",
    "\n",
    "# Reduced-order modeling of the flow past a cylinder in flowTorch\n",
    "\n",
    "**Note: this exercise still needs to be updated for the winter term 2022/2023.**\n",
    "\n",
    "In this exercise, we build a reduced-order model (ROM) of the flow past a cylinder using the singular value decomposition (SVD) for dimensionality reduction and a cluster-based network model (CNM) to advance the reduced state in time. For both SVD and CNM, we use the implementation available in the *flowTorch* package.\n",
    "\n",
    "## Performing the simulation\n",
    "\n",
    "The starting point for this exercise is the 2D cylinder simulation available in the *test_cases* folder. The goal is to double the Reynolds number in the modified workflow, so let's create a copy of the base simulation and give it a sensible name:\n",
    "\n",
    "```\n",
    "cp -r test_cases/cylinder2D/ exercises/cylinder2D_Re200\n",
    "```\n",
    "\n",
    "Before we can run the simulation, some input dictionaries need to be modified:\n",
    "\n",
    "- adjust the inlet velocity vector such that the new Reynolds number is $Re=U_{in}d/\\nu = 200$\n",
    "- in the function object computing the lift and drag coefficients, adjust the reference speed\n",
    "\n",
    "To start the simulation, execute the *Allrun.singularity* script.\n",
    "\n",
    "## Inspecting lift and drag coefficients\n",
    "\n",
    "As in exercise 2, load and plot lift and drag coefficients. Compared to exercise 1, what differences do you notice?\n",
    "\n",
    "## Creating a ROM\n",
    "\n",
    "The main aid to build a ROM in flowTorch is the tutorial *CNM of the flow past a circular cylinder* available in the [flowTorch documentation](https://flowmodelingcontrol.github.io/flowtorch-docs/1.0/notebooks/cnm_cylinder.html). Following the tutorial,\n",
    "\n",
    "- create a datamatrix based on the masked magnitude of the velocity field ([torch.linalg.norm()](https://pytorch.org/docs/stable/generated/torch.linalg.norm.html)); use only snapshots with $t>1s$\n",
    "- create an *SVDEncoder* instance; use a rank truncation of 30\n",
    "- create a CNM model; use 40 clusters and a model order of 4\n",
    "- create a prediction of the reduced state's temporal evolution; plot the first two dimensions of the visited centroids\n",
    "- reconstruct selected snapshots and compare them visually against the simulation data\n",
    "\n",
    "**Congratulations! This completes the ninth exercise session.**"
   ]
  },
  {
   "cell_type": "markdown",
   "id": "943511ef",
   "metadata": {},
   "source": []
  }
 ],
 "metadata": {
  "kernelspec": {
   "display_name": "Python 3",
   "language": "python",
   "name": "python3"
  },
  "language_info": {
   "codemirror_mode": {
    "name": "ipython",
    "version": 3
   },
   "file_extension": ".py",
   "mimetype": "text/x-python",
   "name": "python",
   "nbconvert_exporter": "python",
   "pygments_lexer": "ipython3",
   "version": "3.8.10"
  }
 },
 "nbformat": 4,
 "nbformat_minor": 5
}
