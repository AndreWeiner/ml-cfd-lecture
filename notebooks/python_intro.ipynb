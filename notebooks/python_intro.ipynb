{
 "cells": [
  {
   "cell_type": "markdown",
   "id": "a91d6677-6c76-480a-b7ea-c8ff19940948",
   "metadata": {},
   "source": [
    "# A brief introduction to Python programming\n",
    "## Overview\n",
    "This notebook aims to explain frequently used functions and methods in this lecture as well as in the exercise. The following topics will be covered:\n",
    "<br>\n",
    "1. Commonly used built-in functions in the lecture  \n",
    "    1.1. zip()  \n",
    "    1.2 enumerate()  \n",
    "    1.3 Lambda expressions  <br><br>\n",
    "2. List comprehensions  \n",
    "    2.1 General usage  \n",
    "    2.2 List comprehensions vs. for-loops <br><br>\n",
    "3. Matplotlib library  \n",
    "    3.1 Line plots  \n",
    "    3.2 Scatter plots  \n",
    "    3.3 Contour and contourf plots  \n",
    "    3.4 Creating subfigures   <br><br>\n",
    "4. PyTorch library  \n",
    "    4.1 Tensors  \n",
    "    4.2 Common tensor operations used in the lecture  \n",
    "      - Algebraic operations  \n",
    "      - flatten()  \n",
    "      - reshape()  \n",
    "      - squeeze() and unsqueeze()  \n",
    "      - zeros() vs. zeros_like()  \n",
    "      - min() vs. argmin()  \n",
    "      - Combining tensor operations <br><br>\n",
    "5. Pandas library  \n",
    "    - read_csv()  <br><br>\n",
    "6. Object-orientated programming in python  \n",
    "    6.1 General structure and initialization  \n",
    "    6.2 Inheritance\n",
    "    6.3 Decorators  <br><br>\n",
    "7. Dealing with error messages and debugging code  <br><br>\n",
    "8. References\n",
    "    \n",
    "For more in-depth information, feel free to check out the [references](#references) at the end of this notebook."
   ]
  },
  {
   "cell_type": "markdown",
   "id": "d9c2b894-f744-4894-9b1f-35575aa305d1",
   "metadata": {},
   "source": [
    "## 1. Commonly used built-in functions\n",
    "When programming in python, there are a variety of build-in functions available. While some of these functions are intuitive to use, e.g. `abs()` for computing the absolute value of a number, others may be harder to understand. This section will discuss `zip()`, `enumerate()` and `lambda` expressions.\n",
    "\n",
    "### 1.1 zip()\n",
    "The `zip()` function iterates over given iterables, e.g. lists. For each item in the list it creates a tuple combining the items of all given input lists element-wise. `zip()` returns an object, so in order to access the elements of the list, the object either needs to be converted using the `list()` function or by de-referencing it using the `*` operator. It's important to note that in case of different lengths, `zip()` stops when reached the end of the shortest list. The `zip()` function is very useful when iterating over multiple lists within a loop."
   ]
  },
  {
   "cell_type": "code",
   "execution_count": 29,
   "id": "b0c2fac3-9db7-4e92-b5f4-b205b5b09976",
   "metadata": {},
   "outputs": [
    {
     "ename": "TypeError",
     "evalue": "'zip' object is not subscriptable",
     "output_type": "error",
     "traceback": [
      "\u001b[0;31m---------------------------------------------------------------------------\u001b[0m",
      "\u001b[0;31mTypeError\u001b[0m                                 Traceback (most recent call last)",
      "Input \u001b[0;32mIn [29]\u001b[0m, in \u001b[0;36m<cell line: 9>\u001b[0;34m()\u001b[0m\n\u001b[1;32m      6\u001b[0m zipped_list \u001b[38;5;241m=\u001b[39m \u001b[38;5;28mzip\u001b[39m(a, b)\n\u001b[1;32m      8\u001b[0m \u001b[38;5;66;03m# zip() returns an object, if we try to access the elements directly it will give us an error\u001b[39;00m\n\u001b[0;32m----> 9\u001b[0m \u001b[38;5;28mprint\u001b[39m(\u001b[38;5;124m\"\u001b[39m\u001b[38;5;124m1st element of the zipped lists: \u001b[39m\u001b[38;5;124m\"\u001b[39m, \u001b[43mzipped_list\u001b[49m\u001b[43m[\u001b[49m\u001b[38;5;241;43m0\u001b[39;49m\u001b[43m]\u001b[49m)\n",
      "\u001b[0;31mTypeError\u001b[0m: 'zip' object is not subscriptable"
     ]
    }
   ],
   "source": [
    "# make two lists\n",
    "a = [1, 2, 3]\n",
    "b = [\"a\", \"b\", \"c\"]\n",
    "\n",
    "# create a list with elements of both lists\n",
    "zipped_list = zip(a, b)\n",
    "\n",
    "# zip() returns an object, if we try to access the elements directly it will give us an error\n",
    "print(\"1st element of the zipped lists: \", zipped_list[0])"
   ]
  },
  {
   "cell_type": "code",
   "execution_count": 30,
   "id": "a944d41f-0e72-4395-af43-d3c92bec8d27",
   "metadata": {},
   "outputs": [
    {
     "name": "stdout",
     "output_type": "stream",
     "text": [
      "1st element of the zipped lists:  (1, 'a')\n"
     ]
    }
   ],
   "source": [
    "# in order to access the elements, either convert to list() or use the * operator such as *zipped_list\n",
    "l = list(zipped_list)\n",
    "\n",
    "# now we can access the list elements\n",
    "print(\"1st element of the zipped lists: \", l[0])"
   ]
  },
  {
   "cell_type": "code",
   "execution_count": 31,
   "id": "a1a936bc-74d4-4902-9586-be56f1a894bf",
   "metadata": {},
   "outputs": [
    {
     "name": "stdout",
     "output_type": "stream",
     "text": [
      "zipped list:  (1, 'a') (2, 'b')\n"
     ]
    }
   ],
   "source": [
    "# example if one list is shorter than the other\n",
    "a = [1, 2, 3]\n",
    "b = [\"a\", \"b\"]\n",
    "\n",
    "# this time we use the *-operator for de-referencing\n",
    "print(\"zipped list: \", *zip(a, b))"
   ]
  },
  {
   "cell_type": "code",
   "execution_count": 32,
   "id": "1de6a749-b1f3-4bfd-9219-37c484e1a6d8",
   "metadata": {},
   "outputs": [
    {
     "data": {
      "image/png": "[encoded data removed]",
      "text/plain": [
       "<Figure size 432x288 with 1 Axes>"
      ]
     },
     "metadata": {
      "needs_background": "light"
     },
     "output_type": "display_data"
    }
   ],
   "source": [
    "# example for using zip() in a for-loop\n",
    "from numpy import linspace\n",
    "import matplotlib.pyplot as plt\n",
    "\n",
    "# create some data\n",
    "x_data = linspace(0, 5, 5)\n",
    "y_data = linspace(0, 0.1, 5)\n",
    "\n",
    "# let's use zip() to plot the data\n",
    "for x, y in zip(x_data, y_data):\n",
    "    plt.scatter(x, y)\n",
    "    plt.xlabel(\"x\")\n",
    "    plt.ylabel(\"y\")"
   ]
  },
  {
   "cell_type": "markdown",
   "id": "82cde119-0b8a-40ce-947e-31965fae4e61",
   "metadata": {},
   "source": [
    "In the previous example, the [matplotlib](https://matplotlib.org/stable/index.html) library was used to create a scatter plot of the data. This library will be covered in [section 3](#plt) in more detail. Also, [section 7](#debugging) provides some information on how to deal with error messages in python.\n",
    "\n",
    "### 1.2 enumerate()\n",
    "While `zip()` combines the elements of multiple iterators to one list of tuples, `enumerate()` takes one iterator, e.g. a list, and returns a tuple. The tuple consists of the list element itself and a counter, starting at zero by default. Therefore, the counter variable represents the index of the element within the list."
   ]
  },
  {
   "cell_type": "code",
   "execution_count": 21,
   "id": "d484f47e-ceed-4c60-93f5-0789fcc7e6ee",
   "metadata": {},
   "outputs": [
    {
     "name": "stdout",
     "output_type": "stream",
     "text": [
      "x[0] = 1\n",
      "x[1] = 2\n",
      "x[2] = 3\n",
      "x[3] = 4\n"
     ]
    }
   ],
   "source": [
    "x = [1, 2, 3, 4]\n",
    "y = [\"a\", \"b\", \"c\"]\n",
    "\n",
    "# counter starts at zero\n",
    "for idx, item in enumerate(x):\n",
    "    print(f\"x[{idx}] = {item}\")"
   ]
  },
  {
   "cell_type": "code",
   "execution_count": 22,
   "id": "9881109f-c681-4282-b086-a0dfa39073cb",
   "metadata": {},
   "outputs": [
    {
     "name": "stdout",
     "output_type": "stream",
     "text": [
      "(5, 'a')\n",
      "(6, 'b')\n",
      "(7, 'c')\n"
     ]
    }
   ],
   "source": [
    "# alternatively the start of counter can be set to a different number\n",
    "for number, item in enumerate(y, start=5):\n",
    "    print((number, item))"
   ]
  },
  {
   "cell_type": "markdown",
   "id": "1007fa65-d91a-4922-8cab-25b44f94f3ad",
   "metadata": {},
   "source": [
    "### 1.3 Lambda expressions\n",
    "Lambda expressions are small functions, which are created by using the `lambda` keyword. In contrast to \"normal\" functions, lambda-functions are limited in their complexity and contain only a single line of code. This makes them perfect for small, simple tasks such as keyword arguments. The general syntax of creating a lambda expression is: <br>\n",
    "    `lambda argument_1, argument_2, ..., argument_N: what_to_do`<br><br>\n",
    "There are a variety of cases where lambda expressions come in handy, possible usages might be:\n",
    "1. defining functions for repeatedly executed tasks in only one line, e.g. `function = lambda x: x+5`. The function can then be executed as usual by passing an argument, e.g. `function(10)`. The parameter can alternatively be passed directly into the lambda function, such as `(lambda x: x+5)(20)`, which would give the result `25`. In this case, the lambda expression as well as the parameters have to be set in parentheses.\n",
    "2. a much more common use of lambda functions are keyword arguments. Here the lambda function can be used e.g. for sorting a list following a certain pattern.\n"
   ]
  },
  {
   "cell_type": "code",
   "execution_count": 24,
   "id": "2dd265d2-a58f-4148-be3d-9cae56f659de",
   "metadata": {},
   "outputs": [
    {
     "name": "stdout",
     "output_type": "stream",
     "text": [
      "using lambda as normal function: 3 + 6 = 9\n",
      "executing lambda directly: 3 + 6 = 9\n",
      "\n",
      "sorted list without key:  ['case_0', 'case_1', 'case_10', 'case_5']\n",
      "sorted list with lambda function as key:  ['case_0', 'case_1', 'case_5', 'case_10']\n"
     ]
    }
   ],
   "source": [
    "# example for possible usages of the lambda expression: creating a function that adds 2 parameters\n",
    "x, y = 3, 6\n",
    "\n",
    "# use lambda function as normal function\n",
    "fct = lambda a, b: a+b\n",
    "print(f\"using lambda as normal function: {x} + {y} = {fct(x, y)}\")\n",
    "\n",
    "# use parentheses to execute the lambda function directly\n",
    "print(f\"executing lambda directly: {x} + {y} = {(lambda a, b: a+b)(x, y)}\")\n",
    "\n",
    "# or apply lambda function for keyword arguments, e.g. for sorting list of strings containing file names of cases to import\n",
    "list_with_str = [\"case_5\", \"case_1\", \"case_10\", \"case_0\"]\n",
    "\n",
    "# sort without key creates a problem since the sort() function sorts character-wise and 1 < 5; which leads to a wrongly sorted list\n",
    "sorted_list = sorted(list_with_str)\n",
    "print(\"\\nsorted list without key: \", sorted_list)\n",
    "\n",
    "# to mitigate this issue, it's better to use lambda function as key for sorting a list of strings -> now it's sorted correctly\n",
    "sorted_list_lambda = sorted(list_with_str, key=lambda case: float(case.split(\"_\")[-1]))\n",
    "print(\"sorted list with lambda function as key: \", sorted_list_lambda)"
   ]
  },
  {
   "cell_type": "markdown",
   "id": "c0bf5498-fe85-4bbb-9042-4c93086b1b43",
   "metadata": {},
   "source": [
    "## 2. List comprehensions\n",
    "### 2.1 General usage\n",
    "List comprehensions are an efficient way of creating new lists without the need of using for-loops. Especially, if the task needs to be repeated multiple times, list comprehensions are clear and efficient while usually beeing faster than a for-loop. If the task gets more complicated however, e.g. involves multiple conditional statements, list comprehensions quickly become hard to read making it prone to errors (and also hard debug). The general syntax of list comprehensions is:<br>\n",
    "`list = [what_to_do_for_each_element_of_the_list for some_variable in name_of_the_list if some_condition]`<br><br>\n",
    "The conditional statements are optional, if there exist an `else` as well, then the conditional statement needs to be located at the beginning of the list comprehension:<br>\n",
    "`list = [what_to_do_for_each_element_of_the_list if some_condition else do_sth_else for some_variable in name_of_the_list]`<br><br>"
   ]
  },
  {
   "cell_type": "code",
   "execution_count": 54,
   "id": "5a8ffd1e-ef6e-4268-a509-6586d2c2cb5e",
   "metadata": {},
   "outputs": [
    {
     "name": "stdout",
     "output_type": "stream",
     "text": [
      "[2, 3, 4, 5, 6]\n",
      "[2, 3, 4, 5, 6]\n"
     ]
    }
   ],
   "source": [
    "# 1st example\n",
    "x = [1, 2, 3, 4, 5]\n",
    "\n",
    "# using a for loop to add 1 to each element of the list\n",
    "new_list = []\n",
    "for element in x:\n",
    "    new_list.append(element+1)\n",
    "    \n",
    "print(new_list)\n",
    "\n",
    "# same operation using list comprehension\n",
    "new_list = [element+1 for element in x]\n",
    "\n",
    "print(new_list)"
   ]
  },
  {
   "cell_type": "code",
   "execution_count": 61,
   "id": "bce22834-ecdd-44b8-877a-3077bfd08374",
   "metadata": {},
   "outputs": [
    {
     "name": "stdout",
     "output_type": "stream",
     "text": [
      "length of original list:  100\n",
      "length of filtered list using for-loop:  84\n",
      "length of filtered list using list comprehension:  84\n",
      "length of list using list after replacing all zeros:  100\n"
     ]
    }
   ],
   "source": [
    "# 2nd example: using condition to filter out all non-zero elements of an array\n",
    "import torch as pt\n",
    "\n",
    "# generate some random numbers around zero\n",
    "random_numbers = pt.randint(low=-3, high=3, size=(100, 1))\n",
    "print(\"length of original list: \", len(random_numbers))\n",
    "\n",
    "# using a for-loop to filter out zeros\n",
    "non_zero_elements = []\n",
    "for element in random_numbers:\n",
    "    if element != 0:\n",
    "        non_zero_elements.append(element.item())\n",
    "        \n",
    "print(\"length of filtered list using for-loop: \", len(non_zero_elements))\n",
    "\n",
    "# same but using list comprehension\n",
    "non_zero_elements = [element.item() for element in random_numbers if element != 0]\n",
    "print(\"length of filtered list using list comprehension: \", len(non_zero_elements))\n",
    "\n",
    "# list comprehension with an else statement. In this case we want to replace all zero elements with 1 instead of filtering them out:\n",
    "non_zero_elements = [element.item() if element != 0 else 1 for element in random_numbers]\n",
    "print(\"length of list using list after replacing all zeros: \", len(non_zero_elements))"
   ]
  },
  {
   "cell_type": "markdown",
   "id": "e8135534-3066-41a7-ab48-f7ceeb5d3a87",
   "metadata": {},
   "source": [
    "### 2.2 List comprehensions vs. for-loops\n",
    "In a lot of cases, list comprehensions are more efficient than using to for-loops, while at the same time making the code shorter and clearer. For more complex tasks however, list comprehensions quickly get unreadable. In the next step, we want to see how much faster a list comprehension actually is, compared to a for-loop. Therefore, we use the same function as before to filter out zeros of an array, firstly by using a loop and secondly by using list comprehension. The `timeit` module provides a useful function to get the mean execution time. In the following, both cases are executed 10000 times."
   ]
  },
  {
   "cell_type": "code",
   "execution_count": 62,
   "id": "f08fd001-28bc-4685-96e3-4a8525b83e17",
   "metadata": {},
   "outputs": [],
   "source": [
    "# using same example as before to filter out zeros\n",
    "import torch as pt\n",
    "\n",
    "def for_loop(numbers: pt.Tensor) -> list:\n",
    "    non_zero_elements = []\n",
    "    for element in random_numbers:\n",
    "        # if the element is not zero -> append to a list\n",
    "        if element != 0:\n",
    "            non_zero_elements.append(float(element))\n",
    "    return non_zero_elements\n",
    "\n",
    "# generate array with 1000 random numbers between [-10, 10]\n",
    "random_numbers = pt.randint(low=-10, high=10, size=(1000, 1))"
   ]
  },
  {
   "cell_type": "markdown",
   "id": "8cc8b149-f3c2-4fdc-87ad-7f8700ba4a8a",
   "metadata": {},
   "source": [
    "Now use the `timeit` module to time the execution times:"
   ]
  },
  {
   "cell_type": "code",
   "execution_count": 2,
   "id": "866bbaaf-b6cd-4adb-8d65-9814a0e1c289",
   "metadata": {},
   "outputs": [
    {
     "name": "stdout",
     "output_type": "stream",
     "text": [
      "4.09 ms ± 35.7 µs per loop (mean ± std. dev. of 7 runs, 10,000 loops each)\n"
     ]
    }
   ],
   "source": [
    "# -n = number of executions\n",
    "%timeit -n 10000 for_loop(random_numbers)"
   ]
  },
  {
   "cell_type": "code",
   "execution_count": 3,
   "id": "b3edaae8-6979-4e0a-bb5b-b7204796ab12",
   "metadata": {},
   "outputs": [
    {
     "name": "stdout",
     "output_type": "stream",
     "text": [
      "3.56 ms ± 67.9 µs per loop (mean ± std. dev. of 7 runs, 10,000 loops each)\n"
     ]
    }
   ],
   "source": [
    "%timeit -n 10000 [float(element) for element in random_numbers if element != 0]"
   ]
  },
  {
   "cell_type": "markdown",
   "id": "76ef67d1-dafd-459e-a17e-ec008dfdd8e1",
   "metadata": {},
   "source": [
    "As can be seen by this little example, using list comprehension instead of for-loops is $\\approx15\\%$ faster than using a for-loop (for this specific example though).\n",
    "\n",
    "## 3. Matplotlib <a id=\"plt\"></a>\n",
    "[Matplotlib](https://matplotlib.org/stable/index.html) is a library for creating plots and visualizing data. This section deals with the basic usage of matplotlib in order to create simple plots, a more thorough introduction can be found in the [references](#references).\n",
    "### 3.1 Line plots  \n",
    "Simple line plots can be created with the method `plot()` located in `matplotlib.pyplot`:"
   ]
  },
  {
   "cell_type": "code",
   "execution_count": 171,
   "id": "4deebb77-59b6-4d32-9608-b6b12448aa58",
   "metadata": {},
   "outputs": [
    {
     "data": {
      "image/png": "[encoded data removed]",
      "text/plain": [
       "<Figure size 432x288 with 1 Axes>"
      ]
     },
     "metadata": {
      "needs_background": "light"
     },
     "output_type": "display_data"
    }
   ],
   "source": [
    "import matplotlib.pyplot as plt\n",
    "import torch as pt\n",
    "\n",
    "# create some data\n",
    "x = pt.linspace(0, 6, 100)\n",
    "y = pt.sin(x)\n",
    "y2 = pt.cos(x)\n",
    "\n",
    "# now let's plot the data\n",
    "plt.plot(x, y, color=\"black\", label=\"$sin(x)$\")\n",
    "\n",
    "# we can customize the lines as well\n",
    "plt.plot(x, y2, color=\"red\", label=\"$cos(x)$\", marker=\"o\", fillstyle=\"none\", linestyle=\"None\")\n",
    "\n",
    "# add axis labels, a legend and a title\n",
    "plt.legend()\n",
    "plt.xlabel(\"x\")\n",
    "plt.ylabel(\"y\")\n",
    "plt.title(\"$sin(x)$ vs. $cos(x)$\")\n",
    "\n",
    "# in order to diplay the plot, we need to call the show() method\n",
    "plt.show()"
   ]
  },
  {
   "cell_type": "markdown",
   "id": "2553d210-8e55-4c73-b689-7e3a55dc3570",
   "metadata": {},
   "source": [
    "### 3.2 Scatter plots \n",
    "In the same way, we can create scatter plots using the `scatter` method:"
   ]
  },
  {
   "cell_type": "code",
   "execution_count": 173,
   "id": "526e0f9e-ad04-4b15-94d8-f53747739d41",
   "metadata": {},
   "outputs": [
    {
     "data": {
      "image/png": "[encoded data removed]",
      "text/plain": [
       "<Figure size 432x288 with 1 Axes>"
      ]
     },
     "metadata": {
      "needs_background": "light"
     },
     "output_type": "display_data"
    }
   ],
   "source": [
    "# this time, let's plot the data as scatter plot, s = size of markers\n",
    "plt.scatter(x, y, color=\"black\", label=\"$sin(x)$\", s=5, marker=\"s\")\n",
    "plt.scatter(x, y2, color=\"red\", label=\"$cos(x)$\", s=20, marker=\"o\", facecolors=\"none\")\n",
    "\n",
    "# zoom in a little bit by setting new x- and y-limits\n",
    "plt.xlim(1.75, 5.75)\n",
    "plt.ylim(-1.05, 0.5)\n",
    "\n",
    "# the rest is the same...\n",
    "plt.legend()\n",
    "plt.xlabel(\"x\")\n",
    "plt.ylabel(\"y\")\n",
    "plt.title(\"$sin(x)$ vs. $cos(x)$\")\n",
    "plt.show()"
   ]
  },
  {
   "cell_type": "markdown",
   "id": "a4e5c5a4-2284-4b6a-ba6c-a2fe9fc38f67",
   "metadata": {},
   "source": [
    "### 3.3 Contour and contourf plots \n",
    "Further, contour plots can be created in order to visualize $3D-$data with the `contour()` method:"
   ]
  },
  {
   "cell_type": "code",
   "execution_count": 175,
   "id": "ec2575ed-7ffa-43ac-843e-89273fe3040d",
   "metadata": {},
   "outputs": [
    {
     "data": {
      "image/png": "[encoded data removed]",
      "text/plain": [
       "<Figure size 432x288 with 2 Axes>"
      ]
     },
     "metadata": {
      "needs_background": "light"
     },
     "output_type": "display_data"
    }
   ],
   "source": [
    "from numpy import meshgrid\n",
    "# create 3D-data\n",
    "x = pt.linspace(0, 1, 100)\n",
    "y = pt.linspace(10, 20, 100)\n",
    "\n",
    "# in order to get one datapoint for each (x, y) tuple, we create a grid of (x, y) tuples with meshgrid\n",
    "x_new, y_new = meshgrid(x, y)\n",
    "\n",
    "# now we can use the grid to generate a matrix of data in z-direction, so for each (x, y) tuple there exist one z data point\n",
    "z = x_new**2 * y_new**2\n",
    "\n",
    "# now create contour plot, levels = number of isolines in the plot\n",
    "plt.contour(x, y, z, levels=30)\n",
    "\n",
    "# again we can add some labels and a colorbar\n",
    "plt.xlabel(\"x\")\n",
    "plt.ylabel(\"y\")\n",
    "plt.colorbar()\n",
    "plt.show()\n"
   ]
  },
  {
   "cell_type": "code",
   "execution_count": 176,
   "id": "13527d12-5b07-4edf-927e-3cab16901900",
   "metadata": {},
   "outputs": [
    {
     "data": {
      "image/png": "[encoded data removed]",
      "text/plain": [
       "<Figure size 432x288 with 2 Axes>"
      ]
     },
     "metadata": {
      "needs_background": "light"
     },
     "output_type": "display_data"
    }
   ],
   "source": [
    "# alternatively, we can use the contourf() method for making 3D-plots:\n",
    "plt.contourf(x, y, z)\n",
    "plt.xlabel(\"x\")\n",
    "plt.ylabel(\"y\")\n",
    "\n",
    "# in general, the colorbar can be further customized\n",
    "cbar = plt.colorbar()\n",
    "cbar.set_label(label=\"$z$\", fontsize=12)\n",
    "plt.show()"
   ]
  },
  {
   "cell_type": "markdown",
   "id": "a836e94c-bdb1-4cfb-92e7-2c9022f78c0c",
   "metadata": {},
   "source": [
    "### 3.4 Creating subfigures\n",
    "Instead of only creating one plot at a time, matplotlib provides a `subplots()` method for creating multiple plots within one figure, which also allows us to customize our plots further. There exists a variety of options, which can be found in the [subfigures](https://matplotlib.org/stable/api/_as_gen/matplotlib.pyplot.subplots.html) documentaion of matplotlib. A possible implementation may be:"
   ]
  },
  {
   "cell_type": "code",
   "execution_count": 166,
   "id": "83e841f3-8bd2-4b1a-8ee1-c2007117f4c8",
   "metadata": {},
   "outputs": [
    {
     "data": {
      "image/png": "[encoded data removed]",
      "text/plain": [
       "<Figure size 1440x288 with 2 Axes>"
      ]
     },
     "metadata": {
      "needs_background": "light"
     },
     "output_type": "display_data"
    }
   ],
   "source": [
    "# use the data we already created when plotting the sin(x) and cos(x), but this time we want thme to be in seperate plots\n",
    "x = pt.linspace(0, 6, 100)\n",
    "y = pt.sin(x)\n",
    "y_2 = pt.cos(x)\n",
    "\n",
    "# now we create a subfigure with 2 columns and one row, but both plots should have the same y-axis and we want the figure to have a size of 20x4 (width x heigth)\n",
    "fig, ax = plt.subplots(nrows=1, ncols=2, figsize=(20, 4), sharey=True)\n",
    "\n",
    "# let's plot the data ax referes to the axis on which we want to plot the data (counting from left -> right)\n",
    "ax[0].plot(x, y, color=\"black\", label=\"$sin(x)$\")\n",
    "ax[1].plot(x, y, color=\"red\", label=\"$cos(x)$\")\n",
    "\n",
    "# when adding labels, the method is now called with a 'set_...' in front of the methods\n",
    "ax[0].set_ylabel(\"$y$\", usetex=True, fontsize=16)\n",
    "\n",
    "# we can increase the space between the x-ticks and the axis label using the keyword 'labelpad' as well\n",
    "ax[0].set_xlabel(\"$x$\", usetex=True, fontsize=16, labelpad=25)\n",
    "ax[1].set_xlabel(\"$x$\", usetex=True, fontsize=16, labelpad=10)\n",
    "\n",
    "# we can set different subtitles as well\n",
    "ax[0].set_title(\"$sin(x)$\")\n",
    "ax[1].set_title(\"$cos(x)$\")\n",
    "\n",
    "# and also customize the legend\n",
    "ax[0].legend(loc=\"upper right\", fontsize=14)\n",
    "ax[1].legend(loc=\"lower left\", fontsize=10)\n",
    "\n",
    "# and adjust the white space between the subplots, so it looks a little bit nicer\n",
    "fig.tight_layout()\n",
    "fig.subplots_adjust(wspace=0.05, top=0.9)\n",
    "\n",
    "plt.show()"
   ]
  },
  {
   "cell_type": "markdown",
   "id": "849473c7-5798-43a1-bd9d-8ab57caedee1",
   "metadata": {},
   "source": [
    "## 4. PyTorch\n",
    "### 4.1 Tensors  <a id=\"tensors\"></a>\n",
    "The [Pytorch](https://pytorch.org/docs/stable/index.html) library provides efficient data structures for operating with large amounts of data, e.g. tensors as well as tools for deep learning and neural networks. Thes following section gives a brief overview on what tensors are and how to how to operate with them. [Tensors](https://pytorch.org/docs/stable/tensors.html) store elemtents of a certain type, e.g. floating point numbers in a multi-dimensional matrix. In general, tensors need to be initialized for example with zeros before operating with them, similar to [numpy arrays](https://numpy.org/doc/stable/reference/generated/numpy.array.html). The size of a tensor is defined when initailizing the tensor using the keyword argument `size`. TODO: docs verlinken"
   ]
  },
  {
   "cell_type": "code",
   "execution_count": 2,
   "id": "5a811278-30ea-4f6a-8857-ae069e1466d1",
   "metadata": {},
   "outputs": [
    {
     "name": "stdout",
     "output_type": "stream",
     "text": [
      "1x1 tensor:\n",
      " tensor([[0.]])\n",
      "\n",
      "3x1 column vector:\n",
      " tensor([[0.],\n",
      "        [0.],\n",
      "        [0.]])\n",
      "\n",
      "3x3 matrix:\n",
      " tensor([[1., 1., 1.],\n",
      "        [1., 1., 1.],\n",
      "        [1., 1., 1.]])\n"
     ]
    }
   ],
   "source": [
    "import torch as pt\n",
    "\n",
    "# creating a 1x1 tensor filled with zeros, the size argument takes a tuple with (number of rows, number of columns)\n",
    "t = pt.zeros(size=(1, 1))\n",
    "print(\"1x1 tensor:\\n\", t)\n",
    "\n",
    "# similarily, we can create an column vector [x, y, z]^T filled with zeros\n",
    "t = pt.zeros(size=(3, 1))\n",
    "print(\"\\n3x1 column vector:\\n\", t)\n",
    "\n",
    "# in the same way, we can also create a 3x3 matrix filled with ones\n",
    "t = pt.ones(size=(3, 3))\n",
    "print(\"\\n3x3 matrix:\\n\", t)"
   ]
  },
  {
   "cell_type": "markdown",
   "id": "c84e8605-3374-40bc-ab3f-178fb1f2436e",
   "metadata": {},
   "source": [
    "Alternatively, other data types such as lists can be converted to tensors. It is important that the list elements have to be of the same data type."
   ]
  },
  {
   "cell_type": "code",
   "execution_count": 21,
   "id": "df86f6d0-ef87-4414-839f-d96dbcc0a54f",
   "metadata": {},
   "outputs": [
    {
     "name": "stdout",
     "output_type": "stream",
     "text": [
      "original list:\n",
      " [1, 2, 3]\n",
      "\n",
      "converted to tensor:\n",
      " tensor([1, 2, 3])\n",
      "\n",
      "original list:\n",
      " [[1, 2], [3, 4]]\n",
      "\n",
      "converted to tensor:\n",
      " tensor([[1, 2],\n",
      "        [3, 4]])\n"
     ]
    }
   ],
   "source": [
    "# creating a list and converting it to a tensor\n",
    "a = [1, 2, 3]\n",
    "a_tensor = pt.tensor(a)\n",
    "print(\"original list:\\n\", a)\n",
    "print(\"\\nconverted to tensor:\\n\", a_tensor)\n",
    "\n",
    "# this also works for nested lists\n",
    "b = [[1, 2], [3, 4]]\n",
    "b_tensor = pt.tensor(b)\n",
    "print(\"\\noriginal list:\\n\", b)\n",
    "print(\"\\nconverted to tensor:\\n\", b_tensor)"
   ]
  },
  {
   "cell_type": "markdown",
   "id": "2c469cc7-a278-4ee5-b90b-7d3900d9d6e7",
   "metadata": {},
   "source": [
    "When converting lists to tensors, there can occur some problems as shown in the following examples:"
   ]
  },
  {
   "cell_type": "code",
   "execution_count": 41,
   "id": "52bd4d3d-39ff-4387-8ff8-869c5e4116ee",
   "metadata": {},
   "outputs": [
    {
     "ename": "TypeError",
     "evalue": "new(): invalid data type 'str'",
     "output_type": "error",
     "traceback": [
      "\u001b[0;31m---------------------------------------------------------------------------\u001b[0m",
      "\u001b[0;31mTypeError\u001b[0m                                 Traceback (most recent call last)",
      "Input \u001b[0;32mIn [41]\u001b[0m, in \u001b[0;36m<cell line: 3>\u001b[0;34m()\u001b[0m\n\u001b[1;32m      1\u001b[0m \u001b[38;5;66;03m# all list elements have to be of the same data type, otherwise an error occurs:\u001b[39;00m\n\u001b[1;32m      2\u001b[0m a \u001b[38;5;241m=\u001b[39m [\u001b[38;5;241m1\u001b[39m, \u001b[38;5;241m2\u001b[39m, \u001b[38;5;124m\"\u001b[39m\u001b[38;5;124ma\u001b[39m\u001b[38;5;124m\"\u001b[39m]\n\u001b[0;32m----> 3\u001b[0m b \u001b[38;5;241m=\u001b[39m \u001b[43mpt\u001b[49m\u001b[38;5;241;43m.\u001b[39;49m\u001b[43mtensor\u001b[49m\u001b[43m(\u001b[49m\u001b[43ma\u001b[49m\u001b[43m)\u001b[49m\n",
      "\u001b[0;31mTypeError\u001b[0m: new(): invalid data type 'str'"
     ]
    }
   ],
   "source": [
    "# all list elements have to be of the same data type, otherwise an error occurs:\n",
    "a = [1, 2, \"a\"]\n",
    "b = pt.tensor(a)"
   ]
  },
  {
   "cell_type": "code",
   "execution_count": 78,
   "id": "e8ccd821-35ee-4f54-b710-cf71cf912963",
   "metadata": {},
   "outputs": [
    {
     "ename": "ValueError",
     "evalue": "expected sequence of length 2 at dim 1 (got 3)",
     "output_type": "error",
     "traceback": [
      "\u001b[0;31m---------------------------------------------------------------------------\u001b[0m",
      "\u001b[0;31mValueError\u001b[0m                                Traceback (most recent call last)",
      "Input \u001b[0;32mIn [78]\u001b[0m, in \u001b[0;36m<cell line: 5>\u001b[0;34m()\u001b[0m\n\u001b[1;32m      2\u001b[0m a \u001b[38;5;241m=\u001b[39m [[\u001b[38;5;241m1\u001b[39m, \u001b[38;5;241m2\u001b[39m], [\u001b[38;5;241m3\u001b[39m, \u001b[38;5;241m4\u001b[39m, \u001b[38;5;241m5\u001b[39m]]\n\u001b[1;32m      4\u001b[0m \u001b[38;5;66;03m# this is not working, because 1st element is 2 long and 2nd element has a length of 3\u001b[39;00m\n\u001b[0;32m----> 5\u001b[0m b \u001b[38;5;241m=\u001b[39m \u001b[43mpt\u001b[49m\u001b[38;5;241;43m.\u001b[39;49m\u001b[43mtensor\u001b[49m\u001b[43m(\u001b[49m\u001b[43ma\u001b[49m\u001b[43m)\u001b[49m\n",
      "\u001b[0;31mValueError\u001b[0m: expected sequence of length 2 at dim 1 (got 3)"
     ]
    }
   ],
   "source": [
    "# also if nested lists are to be converted, the dimensions have to be consistent throughout the list\n",
    "a = [[1, 2], [3, 4, 5]]\n",
    "\n",
    "# this is not working, because 1st element is 2 long and 2nd element has a length of 3\n",
    "b = pt.tensor(a)"
   ]
  },
  {
   "cell_type": "markdown",
   "id": "7c5a1eaf-6c93-4baf-8a21-f7a09730c66e",
   "metadata": {},
   "source": [
    "### accessing tensor elements\n",
    "When initializing a tensor, the size of the tensor needs to be defined. The general syntax for the `size` argument is `size=(dim=0, dim=1, dim=2, ...)`, the first dimension `dim=0` refers to the number of rows and `dim=1` to the number of columns. The $3^{rd}$ dimension denotes the number of elements within each element of the (dim=0 * dim=1) sized matrix and so on. When operating with tensors, single elements can be accessed as well as complete columns, rows or matrices within the tensor, which will be illustrated by the following examples. A more comprehensive introduction can be found in the [Pytorch docs](https://pytorch.org/tutorials/beginner/introyt/tensors_deeper_tutorial.html) for tensors."
   ]
  },
  {
   "cell_type": "code",
   "execution_count": 47,
   "id": "2ec6823c-fdd1-4323-9b4d-7980d3bed429",
   "metadata": {},
   "outputs": [
    {
     "name": "stdout",
     "output_type": "stream",
     "text": [
      "3x3 tensor with random numbers:\n",
      " tensor([[-0.9653, -1.2316, -0.4817],\n",
      "        [ 0.5675, -0.1082, -0.5523],\n",
      "        [ 1.3883, -0.2398, -0.6280]])\n"
     ]
    }
   ],
   "source": [
    "# create a 2x3 tensor filled with random numbers\n",
    "random_tensor = pt.randn(size=(3, 3))\n",
    "\n",
    "# this tensor has 3 rows and 3 columns\n",
    "print(\"3x3 tensor with random numbers:\\n\", random_tensor)"
   ]
  },
  {
   "cell_type": "code",
   "execution_count": 79,
   "id": "52f3ed8e-529b-44c0-8e9a-2e75679faad7",
   "metadata": {},
   "outputs": [
    {
     "name": "stdout",
     "output_type": "stream",
     "text": [
      "2nd element of 1st row:  tensor(0.3186)\n",
      "last element of 1st row: tensor(0.6096)\n",
      "\n",
      "all columns of 1st row: tensor([0.1626, 0.3186, 0.3383, 0.6096])\n",
      "all rows of 2nd colunm: tensor([0.3186, 0.1732, 0.1504, 0.1674])\n",
      "\n",
      "2x2 matrix of tensor:\n",
      " tensor([[0.1626, 0.3186],\n",
      "        [0.1272, 0.1732]])\n",
      "\n",
      "2x2 matrix of tensor:\n",
      " tensor([[0.1732, 0.9283, 0.1613],\n",
      "        [0.1504, 0.2836, 0.8600],\n",
      "        [0.1674, 0.4228, 0.7884]])\n"
     ]
    }
   ],
   "source": [
    "# now let's access the 2nd element of the first row (indices start at zero)\n",
    "print(\"2nd element of 1st row: \", random_tensor[0, 1])\n",
    "\n",
    "# we can also access the last element of the 1st row by using [-1] as index:\n",
    "print(\"last element of 1st row:\", random_tensor[0, -1])\n",
    "\n",
    "# complete rows or columns can be accessed by using [:]\n",
    "print(\"\\nall columns of 1st row:\", random_tensor[0, :])\n",
    "print(\"all rows of 2nd colunm:\", random_tensor[:, 1])\n",
    "\n",
    "# now lets get the a 2x2 submatrix of the tensoor containing the rows 1, 2 and columns 1, 2:\n",
    "print(\"\\n2x2 matrix of tensor:\\n\", random_tensor[:2, :2])\n",
    "\n",
    "# similarily, we can get the elements of the last two rows and columns:\n",
    "print(\"\\n2x2 matrix of tensor:\\n\", random_tensor[1:, 1:])"
   ]
  },
  {
   "cell_type": "code",
   "execution_count": 60,
   "id": "0a54991b-9139-477b-a17c-b3e8d085fbac",
   "metadata": {},
   "outputs": [
    {
     "name": "stdout",
     "output_type": "stream",
     "text": [
      "original tensor:\n",
      " tensor([[0.1626, 0.3186, 0.3383, 0.6096],\n",
      "        [0.1272, 0.1732, 0.9283, 0.1613],\n",
      "        [0.7222, 0.1504, 0.2836, 0.8600],\n",
      "        [0.4421, 0.1674, 0.4228, 0.7884]])\n",
      "\n",
      "rows 1-3 & columns 2-4:\n",
      " tensor([[0.9283, 0.1613],\n",
      "        [0.2836, 0.8600]])\n"
     ]
    }
   ],
   "source": [
    "# further, we can specify ranges which we want to access\n",
    "random_tensor = pt.rand(size=(4, 4))\n",
    "print(\"original tensor:\\n\", random_tensor)\n",
    "      \n",
    "# get columns 1-3 and rows 2-4\n",
    "print(\"\\nrows 1-3 & columns 2-4:\\n\", random_tensor[1:3, 2:4])"
   ]
  },
  {
   "cell_type": "markdown",
   "id": "100f2d3d-7bed-446a-8fc8-cb4f00c73872",
   "metadata": {},
   "source": [
    "As can be seen in this example, when using the range `[1:3, 2:4]`, the stop indices `3, 4` are exluded resulting in a 2x2 tensor as output. In general, the size of a tensor can be determined by using the `size()` method:"
   ]
  },
  {
   "cell_type": "code",
   "execution_count": 61,
   "id": "57fa6f4b-9a2c-4b1f-a09e-ae29ef034315",
   "metadata": {},
   "outputs": [
    {
     "name": "stdout",
     "output_type": "stream",
     "text": [
      "size of the original tensor:  torch.Size([4, 4])\n",
      "\n",
      "size of the submatrix within the tensor:  torch.Size([2, 2])\n"
     ]
    }
   ],
   "source": [
    "# get the size of this tensor\n",
    "print(\"size of the original tensor: \", random_tensor.size())\n",
    "print(\"\\nsize of the submatrix within the tensor: \", random_tensor[1:3, 2:4].size())"
   ]
  },
  {
   "cell_type": "markdown",
   "id": "c7b2a831-d32e-4357-931d-59d3df32d699",
   "metadata": {},
   "source": [
    "### 4.2. Common tensor operations\n",
    "### Algebraic operations\n",
    "A great advantage of using tensors is the fact that algebraic operations, such as elements-wise addition, can easily be done using `+, -, *, /`:"
   ]
  },
  {
   "cell_type": "code",
   "execution_count": 76,
   "id": "4ca167cf-8c8f-4e73-8f78-10dc3fd4f9cb",
   "metadata": {},
   "outputs": [
    {
     "name": "stdout",
     "output_type": "stream",
     "text": [
      "tensor([2, 3, 4])\n",
      "\n",
      "x =  tensor([[0, 3, 3],\n",
      "        [2, 3, 2]])\n",
      "\n",
      "y =  tensor([[4, 3, 0],\n",
      "        [1, 3, 1]])\n",
      "\n",
      "x + y =  tensor([[4, 6, 3],\n",
      "        [3, 6, 3]])\n"
     ]
    }
   ],
   "source": [
    "# create two tensors\n",
    "a = pt.tensor([1, 2, 3])\n",
    "b = pt.tensor([1, 1, 1])\n",
    "\n",
    "# now add them element-wise:\n",
    "c = a + b\n",
    "print(c)\n",
    "\n",
    "# of course, this can be extended to higher dimensions:\n",
    "x = pt.randint(low=0, high=5, size=(2, 3))\n",
    "y = pt.randint(low=0, high=5, size=(2, 3))\n",
    "print(\"\\nx = \", x)\n",
    "print(\"\\ny = \", y)\n",
    "print(\"\\nx + y = \", x + y)"
   ]
  },
  {
   "cell_type": "code",
   "execution_count": 80,
   "id": "79fd6216-4898-477c-843e-4a1333eb83c5",
   "metadata": {},
   "outputs": [
    {
     "name": "stdout",
     "output_type": "stream",
     "text": [
      "x = \n",
      " tensor([[0, 2, 1],\n",
      "        [0, 0, 1]])\n",
      "\n",
      "y = \n",
      " tensor([[2],\n",
      "        [0],\n",
      "        [2]])\n",
      "\n",
      "x * y = \n",
      " tensor([[2],\n",
      "        [2]])\n"
     ]
    }
   ],
   "source": [
    "# a matrix-vector product can be computed using @\n",
    "x = pt.randint(low=0, high=3, size=(2, 3))\n",
    "y = pt.randint(low=0, high=3, size=(3, 1))\n",
    "print(\"x = \\n\", x)\n",
    "print(\"\\ny = \\n\", y)\n",
    "\n",
    "# compute the matrix-vector product of x and y\n",
    "print(\"\\nx * y = \\n\", x @ y)"
   ]
  },
  {
   "cell_type": "markdown",
   "id": "76a4b533-2c0f-461a-a9a3-05efc68d5782",
   "metadata": {},
   "source": [
    "### flatten() \n",
    "The `flatten()` method reshapes an arbitrary $n-$dimensional tensor to a one-dimensional tensor:"
   ]
  },
  {
   "cell_type": "code",
   "execution_count": 88,
   "id": "5c7f9b2b-cdcc-4d81-866d-70114a88d79b",
   "metadata": {},
   "outputs": [
    {
     "name": "stdout",
     "output_type": "stream",
     "text": [
      "original tensor:\n",
      " tensor([[0.6856, 0.5376, 0.8368],\n",
      "        [0.3005, 0.0751, 0.9667]])\n",
      "\n",
      "flattened tensor:\n",
      " tensor([0.6856, 0.5376, 0.8368, 0.3005, 0.0751, 0.9667])\n",
      "\n",
      "size of original tensor: torch.Size([2, 3])\n",
      "size of flattened tensor: torch.Size([6])\n"
     ]
    }
   ],
   "source": [
    "# create tensor\n",
    "x = pt.rand(size=(2, 3))\n",
    "\n",
    "# then flatten the tensor\n",
    "y = x.flatten()\n",
    "\n",
    "print(\"original tensor:\\n\", x)\n",
    "print(\"\\nflattened tensor:\\n\", y)\n",
    "print(\"\\nsize of original tensor:\", x.size())\n",
    "print(\"size of flattened tensor:\", y.size())"
   ]
  },
  {
   "cell_type": "markdown",
   "id": "2dccd061-c671-4b84-8a1e-acfe072d64f3",
   "metadata": {},
   "source": [
    "### reshape()\n",
    "In contrast to `flatten()`, `reshape()` can be used to reshape a tensor to specific dimensions instead of reshaping it to a one-dimensional tensor. An important requirement for using the `reshape()` method is that the output tensor has the same number of elements as the input tensor."
   ]
  },
  {
   "cell_type": "code",
   "execution_count": 3,
   "id": "913011ae-2fa1-4b0f-9074-b20df5200f0c",
   "metadata": {},
   "outputs": [
    {
     "name": "stdout",
     "output_type": "stream",
     "text": [
      "original tensor:\n",
      " tensor([[0.0510, 0.3916],\n",
      "        [0.9759, 0.0697],\n",
      "        [0.4798, 0.7123],\n",
      "        [0.2831, 0.3457],\n",
      "        [0.6900, 0.9297],\n",
      "        [0.9801, 0.6811]])\n",
      "\n",
      "reshaped tensor:\n",
      " tensor([[0.0510, 0.3916, 0.9759, 0.0697, 0.4798, 0.7123, 0.2831, 0.3457, 0.6900,\n",
      "         0.9297, 0.9801, 0.6811]])\n",
      "\n",
      "reshaped tensor:\n",
      " tensor([[0.0510, 0.3916, 0.9759, 0.0697],\n",
      "        [0.4798, 0.7123, 0.2831, 0.3457],\n",
      "        [0.6900, 0.9297, 0.9801, 0.6811]])\n"
     ]
    }
   ],
   "source": [
    "# create tensor with 6 rows and 2 columns\n",
    "x = pt.rand(size=(6, 2))\n",
    "print(\"original tensor:\\n\", x)\n",
    "\n",
    "# reshape it to a row-vector\n",
    "y = pt.reshape(x, shape=(1, 12))\n",
    "print(\"\\nreshaped tensor:\\n\", y)\n",
    "\n",
    "# alternatively, reshape it to a matrix with 3 rows and 4 columns\n",
    "z = pt.reshape(x, shape=(3, 4))\n",
    "print(\"\\nreshaped tensor:\\n\", z)"
   ]
  },
  {
   "cell_type": "markdown",
   "id": "c9514101-af69-4ee9-810e-102936589328",
   "metadata": {},
   "source": [
    "When using `reshape()` the dimensions have to match, meaning the number of elements need to be the same. The following will not work:"
   ]
  },
  {
   "cell_type": "code",
   "execution_count": 4,
   "id": "dc3769e0-5464-41e9-af95-4486b2151868",
   "metadata": {},
   "outputs": [
    {
     "ename": "RuntimeError",
     "evalue": "shape '[3, 3]' is invalid for input of size 12",
     "output_type": "error",
     "traceback": [
      "\u001b[0;31m---------------------------------------------------------------------------\u001b[0m",
      "\u001b[0;31mRuntimeError\u001b[0m                              Traceback (most recent call last)",
      "Input \u001b[0;32mIn [4]\u001b[0m, in \u001b[0;36m<cell line: 5>\u001b[0;34m()\u001b[0m\n\u001b[1;32m      2\u001b[0m x \u001b[38;5;241m=\u001b[39m pt\u001b[38;5;241m.\u001b[39mrand(size\u001b[38;5;241m=\u001b[39m(\u001b[38;5;241m6\u001b[39m, \u001b[38;5;241m2\u001b[39m))\n\u001b[1;32m      4\u001b[0m \u001b[38;5;66;03m# this will not work since x has 6*2=12 elements and y would only have 3*3=9 elements\u001b[39;00m\n\u001b[0;32m----> 5\u001b[0m y \u001b[38;5;241m=\u001b[39m \u001b[43mpt\u001b[49m\u001b[38;5;241;43m.\u001b[39;49m\u001b[43mreshape\u001b[49m\u001b[43m(\u001b[49m\u001b[43mx\u001b[49m\u001b[43m,\u001b[49m\u001b[43m \u001b[49m\u001b[43mshape\u001b[49m\u001b[38;5;241;43m=\u001b[39;49m\u001b[43m(\u001b[49m\u001b[38;5;241;43m3\u001b[39;49m\u001b[43m,\u001b[49m\u001b[43m \u001b[49m\u001b[38;5;241;43m3\u001b[39;49m\u001b[43m)\u001b[49m\u001b[43m)\u001b[49m\n",
      "\u001b[0;31mRuntimeError\u001b[0m: shape '[3, 3]' is invalid for input of size 12"
     ]
    }
   ],
   "source": [
    "# create tensor\n",
    "x = pt.rand(size=(6, 2))\n",
    "\n",
    "# this will not work since x has 6*2=12 elements and y would only have 3*3=9 elements\n",
    "y = pt.reshape(x, shape=(3, 3))"
   ]
  },
  {
   "cell_type": "markdown",
   "id": "a0f40806-acca-4496-9cc6-434c6b6ef56c",
   "metadata": {},
   "source": [
    "### squeeze() and unsqueeze()\n",
    "The `squeeze()` method removes dimensions with the size of $1$ from a tensor. If we have for example a $3x2x1-$ dimensional tensor, using the `squeeze()` method would lead to a tensor with the dimensions of $3x2$ by removing the $3^{rd}$ dimension (since the $3^{rd}$ dimension is $1$). If there exist multiple dimensions with the size of $1$, using `squeeze()` removes all of them. A specific dimension which shall be removed can be specified by the keyword argment `dim`, in case this is unwanted. The `squeeze()` method is frequently used, e.g. when passing features into a neural network, as shown in [lecture 3](https://github.com/AndreWeiner/ml-cfd-lecture/blob/main/notebooks/ml_intro.ipynb). Consequently, the `unsqueeze()` method inserts a dimension of the size $1$ at a specified dimension of the input tensor."
   ]
  },
  {
   "cell_type": "code",
   "execution_count": 90,
   "id": "5e141f4d-390a-48dd-9e9b-f9c410f01fca",
   "metadata": {},
   "outputs": [
    {
     "name": "stdout",
     "output_type": "stream",
     "text": [
      "original tensor:\n",
      " tensor([[0.9195],\n",
      "        [0.0074],\n",
      "        [0.3794]])\n",
      "\n",
      "squeezed tensor:\n",
      " tensor([0.9195, 0.0074, 0.3794])\n",
      "\n",
      "unsqueezed tensor (dim=0):\n",
      " tensor([[0.9195, 0.0074, 0.3794]])\n",
      "\n",
      "unsqueezed tensor (dim=1):\n",
      " tensor([[0.9195],\n",
      "        [0.0074],\n",
      "        [0.3794]])\n",
      "\n",
      "size of original tensor: torch.Size([3, 1])\n",
      "size of squeezed tensor: torch.Size([3])\n",
      "size of unsqueezed tensor (dim=0): torch.Size([1, 3])\n",
      "size of unsqueezed tensor (dim=0): torch.Size([3, 1])\n"
     ]
    }
   ],
   "source": [
    "# create tensor\n",
    "x = pt.rand(size=(3, 1))\n",
    "\n",
    "# then squeeze the tensor\n",
    "y = x.squeeze()\n",
    "\n",
    "# unsqueeze the tensor in \"row\"-dimension\n",
    "z = y.unsqueeze(dim=0)\n",
    "\n",
    "# unsqueeze the tensor in \"column\"-dimension\n",
    "z_2 = y.unsqueeze(dim=1)\n",
    "\n",
    "print(\"original tensor:\\n\", x)\n",
    "print(\"\\nsqueezed tensor:\\n\", y)\n",
    "print(\"\\nunsqueezed tensor (dim=0):\\n\", z)\n",
    "print(\"\\nunsqueezed tensor (dim=1):\\n\", z_2)\n",
    "\n",
    "print(\"\\nsize of original tensor:\", x.size())\n",
    "print(\"size of squeezed tensor:\", y.size())\n",
    "print(\"size of unsqueezed tensor (dim=0):\", z.size())\n",
    "print(\"size of unsqueezed tensor (dim=0):\", z_2.size())"
   ]
  },
  {
   "cell_type": "code",
   "execution_count": 7,
   "id": "b41c97aa-ba86-4531-809b-61ed011f7629",
   "metadata": {},
   "outputs": [
    {
     "name": "stdout",
     "output_type": "stream",
     "text": [
      "original tensor:\n",
      " tensor([[[[0.0249, 0.6773]],\n",
      "\n",
      "         [[0.7910, 0.5663]],\n",
      "\n",
      "         [[0.2787, 0.2979]]]])\n",
      "\n",
      "squeezed tensor:\n",
      " tensor([[0.0249, 0.6773],\n",
      "        [0.7910, 0.5663],\n",
      "        [0.2787, 0.2979]])\n",
      "\n",
      "squeezed tensor for 3rd dim:\n",
      " tensor([[[0.0249, 0.6773],\n",
      "         [0.7910, 0.5663],\n",
      "         [0.2787, 0.2979]]])\n",
      "\n",
      "size of original tensor: torch.Size([1, 3, 1, 2])\n",
      "size of squeezed tensor: torch.Size([3, 2])\n",
      "size of squeezed tensor for 3rd dim: torch.Size([1, 3, 2])\n"
     ]
    }
   ],
   "source": [
    "# by using the keyword argument 'dim', the dimension to be removed can be specified in case there exist multiple dimensions with the size of 1\n",
    "x = pt.rand(size=(1, 3, 1, 2))\n",
    "\n",
    "# remove all dimesions with the size of 1\n",
    "y = x.squeeze()\n",
    "\n",
    "# only remove the last dimension\n",
    "z = x.squeeze(dim=2)\n",
    "\n",
    "print(\"original tensor:\\n\", x)\n",
    "print(\"\\nsqueezed tensor:\\n\", y)\n",
    "print(\"\\nsqueezed tensor for 3rd dim:\\n\", z)\n",
    "\n",
    "print(\"\\nsize of original tensor:\", x.size())\n",
    "print(\"size of squeezed tensor:\", y.size())\n",
    "print(\"size of squeezed tensor for 3rd dim:\", z.size())"
   ]
  },
  {
   "cell_type": "markdown",
   "id": "520f7f6f-c7bf-46b5-8bb4-20f6d7d88bcf",
   "metadata": {},
   "source": [
    "### zeros() vs. zeros_like()\n",
    "In the previous examples, tensors were always initialized with zeros using the `zeros()` method. The `zeros_like()` method, however, is an efficient way to generate a tensor filled with zeros by using another tensor. For example, consider having a tensor $x$ filled with some values and we want to create a tensor $y$, which has the same size of $x$ but filled with zeros. Instead of using `y = pt.zeros(size=x.size())` we can create $y$ as <br> `y = pt.zeros_like(x)`."
   ]
  },
  {
   "cell_type": "code",
   "execution_count": 12,
   "id": "a80f8421-72cc-4ae8-a7c2-041acaecac6e",
   "metadata": {},
   "outputs": [
    {
     "name": "stdout",
     "output_type": "stream",
     "text": [
      "tensor initialized with zeros:\n",
      " tensor([[0., 0.],\n",
      "        [0., 0.]])\n",
      "\n",
      "tensor initialized with random numbers:\n",
      " tensor([[0.5156, 0.3358],\n",
      "        [0.3833, 0.7853]])\n",
      "\n",
      "using zeros_like() method:\n",
      " tensor([[0., 0.],\n",
      "        [0., 0.]])\n"
     ]
    }
   ],
   "source": [
    "# creating a tensor filled with zeros\n",
    "x = pt.zeros(size=(2, 2))\n",
    "\n",
    "# create tensor filled with some random numbers\n",
    "y = pt.rand(size=(2, 2))\n",
    "\n",
    "# use zeros_like() to create tensor of the same shape as y, but filled with zeros\n",
    "z = pt.zeros_like(y)\n",
    "\n",
    "print(\"tensor initialized with zeros:\\n\", x)\n",
    "print(\"\\ntensor initialized with random numbers:\\n\", y)\n",
    "print(\"\\nusing zeros_like() method:\\n\", z)"
   ]
  },
  {
   "cell_type": "markdown",
   "id": "a0066c69-dbcf-48c2-bbad-b85ac877c9f5",
   "metadata": {},
   "source": [
    "### min() vs. argmin() \n",
    "The `min()` method in torch returns the minimum of a $n-$dimensional tensor. In a lot of cases, additionally the position of the minimum element is required. To get the index of the minimum element, we can use the `argmin()` method of torch. The maximum element and it's position can analogously be determined by using `max()` and `argmax()` respectively."
   ]
  },
  {
   "cell_type": "code",
   "execution_count": 19,
   "id": "9067a27b-004e-41f8-8c15-68080579ebe4",
   "metadata": {},
   "outputs": [
    {
     "name": "stdout",
     "output_type": "stream",
     "text": [
      "x =  tensor([[0.7917, 0.9942, 0.4726, 0.0970, 0.4695]])\n",
      "min(x) = 0.0970 at position 3\n"
     ]
    }
   ],
   "source": [
    "# creating tensor filled with random numbers\n",
    "x = pt.rand(size=(1, 5))\n",
    "\n",
    "print(\"x = \", x)\n",
    "print(f\"min(x) = {'{:.4f}'.format(pt.min(x).item())} at position {pt.argmin(x).item()}\")"
   ]
  },
  {
   "cell_type": "markdown",
   "id": "34aa1d6f-c022-435e-8421-6403f015cfb7",
   "metadata": {},
   "source": [
    "### Combining tensor operations\n",
    "We only looked at single tensor operations so far. When programming in python, however, we can combine these methods in order shorten the code while at the same time making it more efficient. The following example illustrates a possible implementation for calculating the $L_2-$norm of a vector:"
   ]
  },
  {
   "cell_type": "code",
   "execution_count": 42,
   "id": "b863c52e-a42d-419d-ba0f-82b21a06f3d2",
   "metadata": {},
   "outputs": [
    {
     "name": "stdout",
     "output_type": "stream",
     "text": [
      "L2(x, y) =  0.23877061903476715\n",
      "L2(x, y) =  0.23877061903476715\n"
     ]
    }
   ],
   "source": [
    "# let's define two vectors\n",
    "x = pt.rand(size=(3, 1))\n",
    "y = pt.rand(size=(3, 1))\n",
    "\n",
    "# now we want to calculate the L2-norm between the vector elements without combining methods\n",
    "l2 = x-y\n",
    "l2 = l2.square()\n",
    "l2 = l2.mean()\n",
    "print(\"L2(x, y) = \", l2.item())\n",
    "\n",
    "# a more clear and efficient way:\n",
    "print(\"L2(x, y) = \", (x-y).square().mean().item())"
   ]
  },
  {
   "cell_type": "code",
   "execution_count": 51,
   "id": "4a0006a5-a695-4ae8-a43e-35a19cebee72",
   "metadata": {},
   "outputs": [],
   "source": [
    "# let's compare these two implementations wrt efficiency\n",
    "def compute_sequential(x, y):\n",
    "    l2 = x-y\n",
    "    l2 = l2.square()\n",
    "    l2 = l2.mean()\n",
    "    return l2.item()\n",
    "\n",
    "def combine_methods(x, y):\n",
    "    return (x-y).square().mean().item()\n",
    "\n",
    "# define some larger tensors filled with random numbers\n",
    "x = pt.rand(size=(100, 100))\n",
    "y = pt.rand(size=(100, 100))"
   ]
  },
  {
   "cell_type": "code",
   "execution_count": 56,
   "id": "baa90ee3-dcc6-48d9-a167-5e230ecc10f3",
   "metadata": {},
   "outputs": [
    {
     "name": "stdout",
     "output_type": "stream",
     "text": [
      "21 µs ± 167 ns per loop (mean ± std. dev. of 5 runs, 10,000 loops each)\n"
     ]
    }
   ],
   "source": [
    "# now time the execution\n",
    "%timeit -n 10000 -r 5 compute_sequential(x, y)"
   ]
  },
  {
   "cell_type": "code",
   "execution_count": 60,
   "id": "b7262ab3-3533-4c21-951a-f1a6d9324bb8",
   "metadata": {},
   "outputs": [
    {
     "name": "stdout",
     "output_type": "stream",
     "text": [
      "12.9 µs ± 205 ns per loop (mean ± std. dev. of 5 runs, 10,000 loops each)\n"
     ]
    }
   ],
   "source": [
    "%timeit -n 10000 -r 5 combine_methods(x, y)"
   ]
  },
  {
   "cell_type": "markdown",
   "id": "122fa1a7-9ad2-448a-8bea-9598f25d12b7",
   "metadata": {},
   "source": [
    "It can be seen, that combining tensor operations is not only clearer and shorter, it makes the code run more efficiently as well. The improvement for this example was is about $\\approx 63 \\%$  \n",
    "\n",
    "## 5. Pandas\n",
    "[Pandas](https://pandas.pydata.org/) is a library providing many tools for data analysis. In Pandas so called $DataFrames$ are largely used, which is a similar way of structuring data as in the built-in `dict()` method of python. Since Pandas provides a vast amount of tools, within this section only the `read_csv()` method, which is frequently used throughout the lecture and exercise, shall be presented. \n",
    "### read_csv()\n",
    "The `read_csv()` method of pandas can be used to read in $.csv$ files containing data. Although the method is named `read_csv()`, other file types can be read in as well, while the data within the files can be seperated by any arbitrary seperator. This seperator has to be specified as keyword argument when calling the method. The following example illustrates a possible use of the `read_csv()` method, therefore we assume having a file called $polar.txt$ which containes the following data:"
   ]
  },
  {
   "cell_type": "raw",
   "id": "2ce5d42b-187f-4f61-b617-86a13c965634",
   "metadata": {},
   "source": [
    "  \n",
    "       XFOIL         Version 6.93\n",
    "  \n",
    " Calculated polar for: NACA 67-414                                     \n",
    "  \n",
    " 1 1 Reynolds number fixed          Mach number fixed         \n",
    "  \n",
    " xtrf =   1.000 (top)        1.000 (bottom)  \n",
    " Mach =   0.500     Re =     5.000 e 6     Ncrit =  13.000 13.000\n",
    "  \n",
    "  alpha     CL        CD       CDp       CM    Top_Xtr Bot_Xtr    CQ       CDq  \n",
    " ------- -------- --------- --------- -------- ------- ------- -------- --------\n",
    "   0.000   0.4239 0.0032031 0.0010239  -0.1011  0.7862  0.7914  0.00000  0.00000\n",
    "   0.250   0.4581 0.0032021 0.0010260  -0.1015  0.7833  0.7957  0.00000  0.00000\n",
    "   0.500   0.4914 0.0032155 0.0010364  -0.1017  0.7799  0.7989  0.00000  0.00000\n",
    "   0.750   0.5251 0.0032287 0.0010587  -0.1020  0.7757  0.8017  0.00000  0.00000\n",
    "   1.000   0.5594 0.0032471 0.0010826  -0.1024  0.7717  0.8043  0.00000  0.00000\n",
    "   1.250   0.5917 0.0032885 0.0011012  -0.1023  0.7661  0.8058  0.00000  0.00000\n",
    "   1.500   0.6259 0.0032757 0.0011005  -0.1027  0.7603  0.8069  0.00000  0.00000\n",
    "   1.750   0.6575 0.0032830 0.0011012  -0.1025  0.7521  0.8084  0.00000  0.00000\n",
    "   2.000   0.6872 0.0033220 0.0011216  -0.1018  0.7399  0.8093  0.00000  0.00000"
   ]
  },
  {
   "cell_type": "markdown",
   "id": "22a13c35-ca3e-437c-ac27-2fead62d8a32",
   "metadata": {},
   "source": [
    "Now, we want to read in this data using the `read_csv()` method. Firstly, we need to get rid of the header since it contains no relevant data. This can be achieved by using the keyword `skiprow=9`, meaning we want to ignore whatever data is in row $0-9$. Secondly, we have to define the seperator as white space `sep=r\"\\s+\"`, because our data is not seperated by commas, which is the default value for the `read_csv()` method. Lastly, we want the names of the columns in the file to be the names in the dataframe in order to access them later by name. This can be done using the keyword `header=0`, meaning we want the strings in the $1^{st}$ row to be set as column names (we neglect the rows $0...9$, therefore pandas starts to read in at row $10$ of the original data file). Since we don't have an actual file which we can import, the following code is not executable, but it shows how one would load this file:"
   ]
  },
  {
   "cell_type": "raw",
   "id": "0bccacc3-dc6b-43bf-915d-0168a1e3588e",
   "metadata": {},
   "source": [
    "from pandas import read_csv\n",
    "\n",
    "# let's import this file\n",
    "data = read_csv(path, sep=r\"\\s+\", skiprows=9, header=0)\n",
    "\n",
    "# we can print out the first few lines to see if we did everything correcly using data.head():\n",
    "print(data.head())\n",
    "\n",
    "# which prints:\n",
    "\n",
    "     alpha        CL         CD  ...  Bot_Xtr        CQ       CDq\n",
    "0  -------  --------  ---------  ...  -------  --------  --------\n",
    "1   -4.000   -0.0300  0.0065171  ...   0.0279   0.00000   0.00000\n",
    "2   -3.750   -0.0013  0.0064072  ...   0.0307   0.00000   0.00000\n",
    "3   -3.500    0.0279  0.0063133  ...   0.0324   0.00000   0.00000\n",
    "4   -3.250    0.0572  0.0062132  ...   0.0358   0.00000   0.00000\n",
    "\n",
    "[5 rows x 9 columns]"
   ]
  },
  {
   "cell_type": "markdown",
   "id": "f0f12955-02f1-478e-a547-d14fa43cb51a",
   "metadata": {},
   "source": [
    "Alternatively, we can specify which columns we want to read in using the keyword `usecols` and change the names of these columns as well with the keyword `names`:"
   ]
  },
  {
   "cell_type": "raw",
   "id": "d1f6646c-5642-4192-a7b4-7b5ee850c3f8",
   "metadata": {},
   "source": [
    "# only read in the 1st two columns and give them a different name\n",
    "data = read_csv(path, sep=r\"\\s+\", skiprows=9, header=0, usecols=[0, 1], names=[\"aoa\", \"cl\"])\n",
    "\n",
    "\n",
    "# which gives us the result:\n",
    "\n",
    "      aoa       cl\n",
    "0  -------  --------\n",
    "1   -4.000   -0.0300\n",
    "2   -3.750   -0.0013\n",
    "3   -3.500    0.0279\n",
    "4   -3.250    0.0572"
   ]
  },
  {
   "cell_type": "markdown",
   "id": "9d6b0af1-b617-4bcd-8440-b00d400cca7e",
   "metadata": {},
   "source": [
    "The data in the dataframe can now be accessed by the names of the columns, similarily to dicts, e.g. by typing `aoa = data[\"aoa\"]`, we would assign all the data of the $aoa$ column to the variable $aoa$."
   ]
  },
  {
   "cell_type": "markdown",
   "id": "fb048ca3-f1a1-4f0e-8355-54d4b51a0f81",
   "metadata": {},
   "source": [
    "## 6. Object-orientated programming in python  \n",
    "As many other programming languages, phython supports object-orientated programming. The following section gives a brief overview of object-orientated programming in python.\n",
    "### 6.1 General structure and initialization  \n",
    "In python classes are defined with the keyword `class`. The class itself needs to have an `.__init__()` method in order to initialize attributes and methods."
   ]
  },
  {
   "cell_type": "code",
   "execution_count": 62,
   "id": "2a5d7c8b-87fe-4e76-a56f-df569662da12",
   "metadata": {},
   "outputs": [
    {
     "name": "stdout",
     "output_type": "stream",
     "text": [
      "new attribute of out class: 42\n"
     ]
    }
   ],
   "source": [
    "# let's define a simple class\n",
    "class SimpleClass():\n",
    "    # currently the __init__() method is empty, so the class won't do anything\n",
    "    def __init__(self):\n",
    "        pass\n",
    "    \n",
    "# the class can now be instantiated\n",
    "new_class = SimpleClass()\n",
    "\n",
    "# and we can add some attributes\n",
    "new_class.new_attribute = 42\n",
    "\n",
    "print(\"new attribute of out class:\", new_class.new_attribute)"
   ]
  },
  {
   "cell_type": "markdown",
   "id": "a7749d9b-4fd5-4d72-8bce-d40d70db4935",
   "metadata": {},
   "source": [
    "The keyword `self` represents the instance of the class and is required for accessing any attributes or methods of the class."
   ]
  },
  {
   "cell_type": "code",
   "execution_count": 44,
   "id": "2fc3e851-d647-438c-98aa-de32861a09d0",
   "metadata": {},
   "outputs": [
    {
     "name": "stdout",
     "output_type": "stream",
     "text": [
      "x, y = 1, 2\n",
      "1 + 2 = 3\n",
      "5 + 37 = 42\n"
     ]
    }
   ],
   "source": [
    "# we can initialize a class directly with attributes and methods as well:\n",
    "class AddNumbers():\n",
    "    # in this case, the value for y is given by default\n",
    "    def __init__(self, x, y = 2):\n",
    "        self.x = x\n",
    "        self.y = y\n",
    "    \n",
    "    # method for adding two numbers\n",
    "    def add_two_numbers(self):\n",
    "        return self.x + self.y\n",
    "    \n",
    "# since the value for y is given by default we can instanciate the class only ba passing in x as argument\n",
    "add = AddNumbers(x=1)\n",
    "print(f\"x, y = {add.x}, {add.y}\")\n",
    "print(f\"{add.x} + {add.y} = {add.add_two_numbers()}\")\n",
    "\n",
    "# alternatively, we can assign values for x and y when creating the instance\n",
    "add_2 = AddNumbers(x=5, y=37)\n",
    "print(f\"{add_2.x} + {add_2.y} = {add_2.add_two_numbers()}\")"
   ]
  },
  {
   "cell_type": "markdown",
   "id": "36c65295-5865-4836-b3ab-6f224f70cd30",
   "metadata": {},
   "source": [
    "### 6.2 Inheritance\n",
    "Python supports inheritance, which allows to inherit methods from other classes. This is quite convinient, because methods which are already implemented can be used and extended without the necessity to write everything from scratch. Considering the previous example, imagine we now want to add two numbers and then compute the mean of it:"
   ]
  },
  {
   "cell_type": "code",
   "execution_count": 64,
   "id": "500fc415-f96a-46a5-a79a-67a951b1da98",
   "metadata": {},
   "outputs": [
    {
     "name": "stdout",
     "output_type": "stream",
     "text": [
      "mean of 5 and 3 =  4.0\n"
     ]
    }
   ],
   "source": [
    "# we could implement a completly new class from scratch...\n",
    "class ComputeMean():\n",
    "    def __init__(self, x, y):\n",
    "        self.x = x\n",
    "        self.y = y\n",
    "    \n",
    "    # method for adding two numbers\n",
    "    def mean_of_two_numbers(self):\n",
    "        return (self.x + self.y) / 2\n",
    "    \n",
    "# now compute the mean of two numbers\n",
    "comp_mean = ComputeMean(5, 3)\n",
    "print(\"mean of 5 and 3 = \", comp_mean.mean_of_two_numbers())"
   ]
  },
  {
   "cell_type": "code",
   "execution_count": 81,
   "id": "58ff961c-fa18-46dd-887b-c4e4a80109e4",
   "metadata": {},
   "outputs": [
    {
     "name": "stdout",
     "output_type": "stream",
     "text": [
      "mean of 8 and 4 =  6.0\n",
      "8 + 4 =  12\n"
     ]
    }
   ],
   "source": [
    "# ... but a more efficient way is inheriting the properties of our previously implemented class 'AddNumbers':\n",
    "class ComputeMean(AddNumbers):\n",
    "    def __init__(self, x, y):\n",
    "        # we need to initialize the parent class with the method 'super()' and also the attributes we want to access\n",
    "        super().__init__(x, y)\n",
    "        \n",
    "    def mean_of_two_numbers(self):\n",
    "        # now we can use the method 'add_two_numbers()' we already implemented in the parent class\n",
    "        return AddNumbers.add_two_numbers(self) / 2\n",
    "    \n",
    "# compute the mean of 8 and 4\n",
    "comp_mean = ComputeMean(8, 4)\n",
    "print(\"mean of 8 and 4 = \", comp_mean.mean_of_two_numbers())\n",
    "\n",
    "# but we can also directly access the 'add_two_numbers' method from the parent class without calling it\n",
    "print(\"8 + 4 = \", comp_mean.add_two_numbers())"
   ]
  },
  {
   "cell_type": "markdown",
   "id": "629c9961-ac85-4632-ba08-acc6e5d75c6d",
   "metadata": {},
   "source": [
    "The parent class from which we want to inherit the properties needs to be passed into our child class as argument, as can be seen in the above examples. Further, we need to initilize the parent class by calling the built-in `super()` method of python. This allows us to access methods and other properties of the parent class without the need to implement them again in the child class. When calling the `super()` method, the attributes we want to initialize need to be passed into the `__init()__` method as well, e.g. the following would not work, since we didn't initialize the attribute `y`:"
   ]
  },
  {
   "cell_type": "code",
   "execution_count": 60,
   "id": "92d448ed-9aef-437b-8359-f2bdf55fc958",
   "metadata": {},
   "outputs": [
    {
     "ename": "TypeError",
     "evalue": "__init__() missing 1 required positional argument: 'x'",
     "output_type": "error",
     "traceback": [
      "\u001b[0;31m---------------------------------------------------------------------------\u001b[0m",
      "\u001b[0;31mTypeError\u001b[0m                                 Traceback (most recent call last)",
      "Input \u001b[0;32mIn [60]\u001b[0m, in \u001b[0;36m<cell line: 10>\u001b[0;34m()\u001b[0m\n\u001b[1;32m      7\u001b[0m         \u001b[38;5;28;01mreturn\u001b[39;00m AddNumbers\u001b[38;5;241m.\u001b[39madd_two_numbers(\u001b[38;5;28mself\u001b[39m) \u001b[38;5;241m/\u001b[39m \u001b[38;5;241m2\u001b[39m\n\u001b[1;32m      9\u001b[0m \u001b[38;5;66;03m# compute the mean of 8 and 4\u001b[39;00m\n\u001b[0;32m---> 10\u001b[0m comp_mean \u001b[38;5;241m=\u001b[39m \u001b[43mComputeMean\u001b[49m\u001b[43m(\u001b[49m\u001b[43mx\u001b[49m\u001b[38;5;241;43m=\u001b[39;49m\u001b[38;5;241;43m4\u001b[39;49m\u001b[43m,\u001b[49m\u001b[43m \u001b[49m\u001b[43my\u001b[49m\u001b[38;5;241;43m=\u001b[39;49m\u001b[38;5;241;43m8\u001b[39;49m\u001b[43m)\u001b[49m\n\u001b[1;32m     11\u001b[0m \u001b[38;5;28mprint\u001b[39m(\u001b[38;5;124m\"\u001b[39m\u001b[38;5;124mmean of 8 and 4 = \u001b[39m\u001b[38;5;124m\"\u001b[39m, comp_mean\u001b[38;5;241m.\u001b[39mmean_of_two_numbers())\n",
      "Input \u001b[0;32mIn [60]\u001b[0m, in \u001b[0;36mComputeMean.__init__\u001b[0;34m(self, x, y)\u001b[0m\n\u001b[1;32m      2\u001b[0m \u001b[38;5;28;01mdef\u001b[39;00m \u001b[38;5;21m__init__\u001b[39m(\u001b[38;5;28mself\u001b[39m, x, y):\n\u001b[1;32m      3\u001b[0m     \u001b[38;5;66;03m# if we forget to initialize the attributes, then we won't have access to it\u001b[39;00m\n\u001b[0;32m----> 4\u001b[0m     \u001b[38;5;28;43msuper\u001b[39;49m\u001b[43m(\u001b[49m\u001b[43m)\u001b[49m\u001b[38;5;241;43m.\u001b[39;49m\u001b[38;5;21;43m__init__\u001b[39;49m\u001b[43m(\u001b[49m\u001b[43m)\u001b[49m\n",
      "\u001b[0;31mTypeError\u001b[0m: __init__() missing 1 required positional argument: 'x'"
     ]
    }
   ],
   "source": [
    "class ComputeMean(AddNumbers):\n",
    "    def __init__(self, x, y):\n",
    "        # if we forget to initialize the attributes, then we won't have access to it\n",
    "        super().__init__()\n",
    "        \n",
    "    def mean_of_two_numbers(self):\n",
    "        return AddNumbers.add_two_numbers(self) / 2\n",
    "    \n",
    "# compute the mean of 8 and 4\n",
    "comp_mean = ComputeMean(x=4, y=8)\n",
    "print(\"mean of 8 and 4 = \", comp_mean.mean_of_two_numbers())"
   ]
  },
  {
   "cell_type": "markdown",
   "id": "986a390d-897d-497c-bea8-9853458afc0c",
   "metadata": {},
   "source": [
    "In the above case, the error message tells us that we missed one positional argument `x`, although our method takes two arguments. This is due to the fact, that the parameter `y` is already set as `y=2` in our parent class as default parameter. Let's assume we now want to initialize our parent class with a different value for `y`:"
   ]
  },
  {
   "cell_type": "code",
   "execution_count": 61,
   "id": "0b209f6b-e0d0-4778-afff-f2877592979a",
   "metadata": {},
   "outputs": [
    {
     "name": "stdout",
     "output_type": "stream",
     "text": [
      "mean of 8 and 4 =  5.0\n"
     ]
    }
   ],
   "source": [
    "class ComputeMean(AddNumbers):\n",
    "    def __init__(self, x, y):\n",
    "        # let's just initialize y and see what happens\n",
    "        super().__init__(y)\n",
    "        \n",
    "    def mean_of_two_numbers(self):\n",
    "        return AddNumbers.add_two_numbers(self) / 2\n",
    "    \n",
    "# compute the mean of 8 and 4\n",
    "comp_mean = ComputeMean(x=4, y=8)\n",
    "print(\"mean of 8 and 4 = \", comp_mean.mean_of_two_numbers())"
   ]
  },
  {
   "cell_type": "markdown",
   "id": "8b72d140-6ef9-4f0e-834e-d5266ee880c5",
   "metadata": {},
   "source": [
    "In this case, the parameter `y` which is passed into our `super().__init__()` method is interpreted as `x`, since the `y` parameter is already set by default and therefore not required. The python interpreter assumes that, if only one argument is given, is has to be the parameter `x`. If we want python to interpret this one parameter as `y`, we have to use a keword argument:"
   ]
  },
  {
   "cell_type": "code",
   "execution_count": 67,
   "id": "f7a2c99b-8775-4d46-89e4-9dac3396ccdb",
   "metadata": {},
   "outputs": [
    {
     "ename": "TypeError",
     "evalue": "__init__() missing 1 required positional argument: 'x'",
     "output_type": "error",
     "traceback": [
      "\u001b[0;31m---------------------------------------------------------------------------\u001b[0m",
      "\u001b[0;31mTypeError\u001b[0m                                 Traceback (most recent call last)",
      "Input \u001b[0;32mIn [67]\u001b[0m, in \u001b[0;36m<cell line: 10>\u001b[0;34m()\u001b[0m\n\u001b[1;32m      7\u001b[0m         \u001b[38;5;28;01mreturn\u001b[39;00m AddNumbers\u001b[38;5;241m.\u001b[39madd_two_numbers(\u001b[38;5;28mself\u001b[39m) \u001b[38;5;241m/\u001b[39m \u001b[38;5;241m2\u001b[39m\n\u001b[1;32m      9\u001b[0m \u001b[38;5;66;03m# compute the mean of 8 and 4\u001b[39;00m\n\u001b[0;32m---> 10\u001b[0m comp_mean \u001b[38;5;241m=\u001b[39m \u001b[43mComputeMean\u001b[49m\u001b[43m(\u001b[49m\u001b[43mx\u001b[49m\u001b[38;5;241;43m=\u001b[39;49m\u001b[38;5;241;43m4\u001b[39;49m\u001b[43m,\u001b[49m\u001b[43m \u001b[49m\u001b[43my\u001b[49m\u001b[38;5;241;43m=\u001b[39;49m\u001b[38;5;241;43m8\u001b[39;49m\u001b[43m)\u001b[49m\n\u001b[1;32m     11\u001b[0m \u001b[38;5;28mprint\u001b[39m(\u001b[38;5;124m\"\u001b[39m\u001b[38;5;124mmean of 8 and 4 = \u001b[39m\u001b[38;5;124m\"\u001b[39m, comp_mean\u001b[38;5;241m.\u001b[39mmean_of_two_numbers())\n",
      "Input \u001b[0;32mIn [67]\u001b[0m, in \u001b[0;36mComputeMean.__init__\u001b[0;34m(self, x, y)\u001b[0m\n\u001b[1;32m      2\u001b[0m \u001b[38;5;28;01mdef\u001b[39;00m \u001b[38;5;21m__init__\u001b[39m(\u001b[38;5;28mself\u001b[39m, x, y):\n\u001b[1;32m      3\u001b[0m     \u001b[38;5;66;03m# this time we specificly initialize the parameter y as y\u001b[39;00m\n\u001b[0;32m----> 4\u001b[0m     \u001b[38;5;28;43msuper\u001b[39;49m\u001b[43m(\u001b[49m\u001b[43m)\u001b[49m\u001b[38;5;241;43m.\u001b[39;49m\u001b[38;5;21;43m__init__\u001b[39;49m\u001b[43m(\u001b[49m\u001b[43my\u001b[49m\u001b[38;5;241;43m=\u001b[39;49m\u001b[43my\u001b[49m\u001b[43m)\u001b[49m\n",
      "\u001b[0;31mTypeError\u001b[0m: __init__() missing 1 required positional argument: 'x'"
     ]
    }
   ],
   "source": [
    "class ComputeMean(AddNumbers):\n",
    "    def __init__(self, x, y):\n",
    "        # this time we specificly initialize the parameter y as y\n",
    "        super().__init__(y=y)\n",
    "        \n",
    "    def mean_of_two_numbers(self):\n",
    "        return AddNumbers.add_two_numbers(self) / 2\n",
    "    \n",
    "# compute the mean of 8 and 4\n",
    "comp_mean = ComputeMean(x=4, y=8)\n",
    "print(\"mean of 8 and 4 = \", comp_mean.mean_of_two_numbers())"
   ]
  },
  {
   "cell_type": "markdown",
   "id": "a361f061-edc9-4978-a71b-4592596ea6de",
   "metadata": {},
   "source": [
    "Now we get the error message again, showing us that we forgot to initialize the `x` parameter.\n",
    "\n",
    "### 6.3 Decorators\n",
    "Functions are represented as objects in python and can therefore be passed into other functions as arguments or returned by functions. Decorators use this property, by taking function object as arguments and then modifiying its behavior. The following examples where adopted from [Python Decorators in 15 Minutes](https://www.youtube.com/watch?v=r7Dtus7N4pI)."
   ]
  },
  {
   "cell_type": "code",
   "execution_count": 69,
   "id": "2e472d80-291b-4d01-8991-b771707949b3",
   "metadata": {},
   "outputs": [
    {
     "name": "stdout",
     "output_type": "stream",
     "text": [
      "function 1\n",
      "function 1\n"
     ]
    }
   ],
   "source": [
    "# let's define a function whhich only prints its name\n",
    "def function1():\n",
    "    print(\"function 1\")\n",
    "    \n",
    "# now we define a function taking another function as argument and then calling this function    \n",
    "def function2(f):\n",
    "    f()\n",
    "    \n",
    "# now we can execute function1...\n",
    "function1()\n",
    "\n",
    "# ... or we can pass function1 into function2 and execute it within function2:\n",
    "function2(function1)"
   ]
  },
  {
   "cell_type": "code",
   "execution_count": 70,
   "id": "84ad9276-5531-4764-af75-dbac5d54b751",
   "metadata": {},
   "outputs": [
    {
     "name": "stdout",
     "output_type": "stream",
     "text": [
      "calling function3 with function1 as argument:\n",
      " <function function3.<locals>.some_wrapper_function at 0x7fed302f6550>\n"
     ]
    }
   ],
   "source": [
    "# we can extend this example by adding another function into our function2\n",
    "def function3(f):\n",
    "    # let's use this function to execute whatever function is passed into function3\n",
    "    def some_wrapper_function():\n",
    "        print(\"starting function\")\n",
    "        f()\n",
    "        print(\"function ended\")\n",
    "\n",
    "    return some_wrapper_function\n",
    "\n",
    "# calling the wrapper function\n",
    "print(\"calling function3 with function1 as argument:\\n\", function3(function1))"
   ]
  },
  {
   "cell_type": "markdown",
   "id": "640d61c0-9e9d-4961-a0dd-a9b0c3247632",
   "metadata": {},
   "source": [
    "As shown in this example, $function1$ is not executed within the $some\\_wrapper\\_function$. This is because $function3$ returns $some\\_wrapper\\_function$ as an object. In order to execute this object, we need to add parenthesis:"
   ]
  },
  {
   "cell_type": "code",
   "execution_count": 71,
   "id": "286a9953-e6e0-47f6-bbf9-51d9d8159594",
   "metadata": {},
   "outputs": [
    {
     "name": "stdout",
     "output_type": "stream",
     "text": [
      "starting function\n",
      "function 1\n",
      "function ended\n"
     ]
    }
   ],
   "source": [
    "# function3 returns an object, still need to execute the function\n",
    "function3(function1)()"
   ]
  },
  {
   "cell_type": "markdown",
   "id": "2387f41e-ba73-46ee-b746-caa2e03bee40",
   "metadata": {},
   "source": [
    "Now we get the expected output. Using this notation, however, can get quite confusing, especially if more complex functions are involved. To avoid this we can assign the returned functioon object to another variable:"
   ]
  },
  {
   "cell_type": "code",
   "execution_count": 72,
   "id": "d5552a33-3859-40bc-b927-082aa64e51a8",
   "metadata": {},
   "outputs": [
    {
     "name": "stdout",
     "output_type": "stream",
     "text": [
      "starting function\n",
      "function 1\n",
      "function ended\n"
     ]
    }
   ],
   "source": [
    "# we can assign the function call to another object, e.g. x and then call x()\n",
    "x = function3(function1)\n",
    "\n",
    "# now the variable x represents the function3 object called with function1 as argument and we can just execute it\n",
    "x()"
   ]
  },
  {
   "cell_type": "markdown",
   "id": "fdd629b9-5dfe-48f6-ac63-161db61e2b8e",
   "metadata": {},
   "source": [
    "Instead of assigning the function object to a variable and then execute this object, python provides a short hand notation called decorators:"
   ]
  },
  {
   "cell_type": "code",
   "execution_count": 73,
   "id": "097296a7-3f2d-4883-8597-ece6519a2c33",
   "metadata": {},
   "outputs": [
    {
     "name": "stdout",
     "output_type": "stream",
     "text": [
      "starting function\n",
      "executing function x using a decorator\n",
      "function ended\n"
     ]
    }
   ],
   "source": [
    "# a decorator is a short notation of executing the fnction object\n",
    "@function3       # this is equivalent to: x = function3(x)\n",
    "def x():\n",
    "    print(\"executing function x using a decorator\")\n",
    "    \n",
    "# since x is an object, we need to add parenthesis to execute it\n",
    "x()"
   ]
  },
  {
   "cell_type": "markdown",
   "id": "ab299f15-c5e1-4fd6-b54e-afdecc50a02d",
   "metadata": {},
   "source": [
    "## 7. Dealing with error messages and debugging code <a id=\"debugging\"></a>\n",
    "When writing code, making mistakes is envidable. The following section deals with common mistakes when writing code and how to interpret and solve error messages. However, the here presented suggestions and examples should be understand just as guidance since everybody follows a slighty different approach when it comes to dealing with bugs.  <br><br>\n",
    "In general, the usage of an integrated development environment (IDE) such as [Visual Studio Code](https://code.visualstudio.com/) or [PyCharm](https://www.jetbrains.com/pycharm/) is highly recommended. IDE's provide useful tools for software development, e.g. a debugger, in which the written code can be debugged. The code can here be executed line-by-line while all relevant information is displayed and directly accessable. Further, IDE's provide useful functionality such as autocomplete and automatically enclosing any open brackets, which makes writing code faster and less prone to errors.  <br><br>\n",
    "When encountering an error, the python interpreter displays an error message, as already shown in some of the previous examples. The error message itself consist of the position of the error (line where the error was encountered) and what the error actually is (error message). In more complex code, python additionally provides a so called $traceback$ of the error, which represents the complete \"path\" from the main script (or function) to the line of code where the error was encountered. <br><br>\n",
    "Let's have a look at some common errors and possible way how to fix them."
   ]
  },
  {
   "cell_type": "code",
   "execution_count": 91,
   "id": "81f8a1f2-7acc-4000-9aac-999663b95cb1",
   "metadata": {},
   "outputs": [
    {
     "ename": "IndentationError",
     "evalue": "unindent does not match any outer indentation level (<tokenize>, line 5)",
     "output_type": "error",
     "traceback": [
      "\u001b[0;36m  File \u001b[0;32m<tokenize>:5\u001b[0;36m\u001b[0m\n\u001b[0;31m    else:\u001b[0m\n\u001b[0m    ^\u001b[0m\n\u001b[0;31mIndentationError\u001b[0m\u001b[0;31m:\u001b[0m unindent does not match any outer indentation level\n"
     ]
    }
   ],
   "source": [
    "# 1st example: indentation error\n",
    "for i in range(3):\n",
    "    if i == 1:\n",
    "        print(i)\n",
    "   else:\n",
    "        print(i+1)"
   ]
  },
  {
   "cell_type": "markdown",
   "id": "dae5d6ee-8ef3-49a7-9d9e-1e2c2dc25717",
   "metadata": {},
   "source": [
    "In this example, the code itself seems to be fine. A look at the end of the error message, however, tells us that there is something wrong with the `else` statement. The `IndentationError` occurs, if the blocks of code are not aligned correctly. We can fix this by adding one space in front of the `else` statement, so that it is aligned with the `if` statement."
   ]
  },
  {
   "cell_type": "code",
   "execution_count": 97,
   "id": "02a85e75-a79d-4bc9-bdf9-763a3fdcc256",
   "metadata": {},
   "outputs": [
    {
     "ename": "ValueError",
     "evalue": "Illegal argument(s) to subplot: (1, 1)",
     "output_type": "error",
     "traceback": [
      "\u001b[0;31m---------------------------------------------------------------------------\u001b[0m",
      "\u001b[0;31mValueError\u001b[0m                                Traceback (most recent call last)",
      "Input \u001b[0;32mIn [97]\u001b[0m, in \u001b[0;36m<cell line: 14>\u001b[0;34m()\u001b[0m\n\u001b[1;32m     15\u001b[0m x \u001b[38;5;241m=\u001b[39m [\u001b[38;5;241m1\u001b[39m, \u001b[38;5;241m2\u001b[39m, \u001b[38;5;241m3\u001b[39m]\n\u001b[1;32m     16\u001b[0m y \u001b[38;5;241m=\u001b[39m [\u001b[38;5;241m0.5\u001b[39m, \u001b[38;5;241m0.8\u001b[39m, \u001b[38;5;241m1.5\u001b[39m]\n\u001b[0;32m---> 17\u001b[0m \u001b[43mplot_data\u001b[49m\u001b[43m(\u001b[49m\u001b[43mx\u001b[49m\u001b[43m,\u001b[49m\u001b[43m \u001b[49m\u001b[43my\u001b[49m\u001b[43m)\u001b[49m\n",
      "Input \u001b[0;32mIn [97]\u001b[0m, in \u001b[0;36mplot_data\u001b[0;34m(x, y)\u001b[0m\n\u001b[1;32m      5\u001b[0m \u001b[38;5;28;01mdef\u001b[39;00m \u001b[38;5;21mplot_data\u001b[39m(x, y):\n\u001b[0;32m----> 6\u001b[0m     fig, ax \u001b[38;5;241m=\u001b[39m \u001b[43mplt\u001b[49m\u001b[38;5;241;43m.\u001b[39;49m\u001b[43msubplot\u001b[49m\u001b[43m(\u001b[49m\u001b[38;5;241;43m1\u001b[39;49m\u001b[43m,\u001b[49m\u001b[43m \u001b[49m\u001b[38;5;241;43m1\u001b[39;49m\u001b[43m)\u001b[49m\n\u001b[1;32m      7\u001b[0m     ax\u001b[38;5;241m.\u001b[39mplot(x, y, color\u001b[38;5;241m=\u001b[39m\u001b[38;5;124m\"\u001b[39m\u001b[38;5;124mblack\u001b[39m\u001b[38;5;124m\"\u001b[39m)\n\u001b[1;32m      8\u001b[0m     ax\u001b[38;5;241m.\u001b[39mset_xlabel(\u001b[38;5;124m\"\u001b[39m\u001b[38;5;124mx\u001b[39m\u001b[38;5;124m\"\u001b[39m)\n",
      "File \u001b[0;32m/usr/lib/python3/dist-packages/matplotlib/pyplot.py:1069\u001b[0m, in \u001b[0;36msubplot\u001b[0;34m(*args, **kwargs)\u001b[0m\n\u001b[1;32m   1064\u001b[0m     cbook\u001b[38;5;241m.\u001b[39m_warn_external(\u001b[38;5;124m\"\u001b[39m\u001b[38;5;124mThe subplot index argument to subplot() appears \u001b[39m\u001b[38;5;124m\"\u001b[39m\n\u001b[1;32m   1065\u001b[0m                          \u001b[38;5;124m\"\u001b[39m\u001b[38;5;124mto be a boolean. Did you intend to use \u001b[39m\u001b[38;5;124m\"\u001b[39m\n\u001b[1;32m   1066\u001b[0m                          \u001b[38;5;124m\"\u001b[39m\u001b[38;5;124msubplots()?\u001b[39m\u001b[38;5;124m\"\u001b[39m)\n\u001b[1;32m   1068\u001b[0m fig \u001b[38;5;241m=\u001b[39m gcf()\n\u001b[0;32m-> 1069\u001b[0m a \u001b[38;5;241m=\u001b[39m \u001b[43mfig\u001b[49m\u001b[38;5;241;43m.\u001b[39;49m\u001b[43madd_subplot\u001b[49m\u001b[43m(\u001b[49m\u001b[38;5;241;43m*\u001b[39;49m\u001b[43margs\u001b[49m\u001b[43m,\u001b[49m\u001b[43m \u001b[49m\u001b[38;5;241;43m*\u001b[39;49m\u001b[38;5;241;43m*\u001b[39;49m\u001b[43mkwargs\u001b[49m\u001b[43m)\u001b[49m\n\u001b[1;32m   1070\u001b[0m bbox \u001b[38;5;241m=\u001b[39m a\u001b[38;5;241m.\u001b[39mbbox\n\u001b[1;32m   1071\u001b[0m byebye \u001b[38;5;241m=\u001b[39m []\n",
      "File \u001b[0;32m/usr/lib/python3/dist-packages/matplotlib/figure.py:1414\u001b[0m, in \u001b[0;36mFigure.add_subplot\u001b[0;34m(self, *args, **kwargs)\u001b[0m\n\u001b[1;32m   1406\u001b[0m         \u001b[38;5;28;01melse\u001b[39;00m:\n\u001b[1;32m   1407\u001b[0m             \u001b[38;5;66;03m# Undocumented convenience behavior:\u001b[39;00m\n\u001b[1;32m   1408\u001b[0m             \u001b[38;5;66;03m# subplot(111); subplot(111, projection='polar')\u001b[39;00m\n\u001b[1;32m   1409\u001b[0m             \u001b[38;5;66;03m# will replace the first with the second.\u001b[39;00m\n\u001b[1;32m   1410\u001b[0m             \u001b[38;5;66;03m# Without this, add_subplot would be simpler and\u001b[39;00m\n\u001b[1;32m   1411\u001b[0m             \u001b[38;5;66;03m# more similar to add_axes.\u001b[39;00m\n\u001b[1;32m   1412\u001b[0m             \u001b[38;5;28mself\u001b[39m\u001b[38;5;241m.\u001b[39m_axstack\u001b[38;5;241m.\u001b[39mremove(ax)\n\u001b[0;32m-> 1414\u001b[0m     a \u001b[38;5;241m=\u001b[39m \u001b[43msubplot_class_factory\u001b[49m\u001b[43m(\u001b[49m\u001b[43mprojection_class\u001b[49m\u001b[43m)\u001b[49m\u001b[43m(\u001b[49m\u001b[38;5;28;43mself\u001b[39;49m\u001b[43m,\u001b[49m\u001b[43m \u001b[49m\u001b[38;5;241;43m*\u001b[39;49m\u001b[43margs\u001b[49m\u001b[43m,\u001b[49m\u001b[43m \u001b[49m\u001b[38;5;241;43m*\u001b[39;49m\u001b[38;5;241;43m*\u001b[39;49m\u001b[43mkwargs\u001b[49m\u001b[43m)\u001b[49m\n\u001b[1;32m   1416\u001b[0m \u001b[38;5;28;01mreturn\u001b[39;00m \u001b[38;5;28mself\u001b[39m\u001b[38;5;241m.\u001b[39m_add_axes_internal(key, a)\n",
      "File \u001b[0;32m/usr/lib/python3/dist-packages/matplotlib/axes/_subplots.py:64\u001b[0m, in \u001b[0;36mSubplotBase.__init__\u001b[0;34m(self, fig, *args, **kwargs)\u001b[0m\n\u001b[1;32m     60\u001b[0m         \u001b[38;5;28mself\u001b[39m\u001b[38;5;241m.\u001b[39m_subplotspec \u001b[38;5;241m=\u001b[39m GridSpec(\n\u001b[1;32m     61\u001b[0m                 rows, cols, figure\u001b[38;5;241m=\u001b[39m\u001b[38;5;28mself\u001b[39m\u001b[38;5;241m.\u001b[39mfigure)[\u001b[38;5;28mint\u001b[39m(num) \u001b[38;5;241m-\u001b[39m \u001b[38;5;241m1\u001b[39m]\n\u001b[1;32m     62\u001b[0m         \u001b[38;5;66;03m# num - 1 for converting from MATLAB to python indexing\u001b[39;00m\n\u001b[1;32m     63\u001b[0m \u001b[38;5;28;01melse\u001b[39;00m:\n\u001b[0;32m---> 64\u001b[0m     \u001b[38;5;28;01mraise\u001b[39;00m \u001b[38;5;167;01mValueError\u001b[39;00m(\u001b[38;5;124mf\u001b[39m\u001b[38;5;124m'\u001b[39m\u001b[38;5;124mIllegal argument(s) to subplot: \u001b[39m\u001b[38;5;132;01m{\u001b[39;00margs\u001b[38;5;132;01m}\u001b[39;00m\u001b[38;5;124m'\u001b[39m)\n\u001b[1;32m     66\u001b[0m \u001b[38;5;28mself\u001b[39m\u001b[38;5;241m.\u001b[39mupdate_params()\n\u001b[1;32m     68\u001b[0m \u001b[38;5;66;03m# _axes_class is set in the subplot_class_factory\u001b[39;00m\n",
      "\u001b[0;31mValueError\u001b[0m: Illegal argument(s) to subplot: (1, 1)"
     ]
    },
    {
     "data": {
      "text/plain": [
       "<Figure size 432x288 with 0 Axes>"
      ]
     },
     "metadata": {},
     "output_type": "display_data"
    }
   ],
   "source": [
    "# 2nd example: how to deal with tracebacks\n",
    "import matplotlib.pyplot as plt\n",
    "\n",
    "# create some function for plotting data\n",
    "def plot_data(x, y):\n",
    "    fig, ax = plt.subplot(1, 1)\n",
    "    ax.plot(x, y, color=\"black\")\n",
    "    ax.set_xlabel(\"x\")\n",
    "    ax.set_ylabel(\"y\")\n",
    "    plt.show()\n",
    "    \n",
    "# 'if __name__==\"__main__\":' means that the following code is only executed when this script is executed as 'main',\n",
    "# but if we call the 'plot_data' function from another script, this won't be executed\n",
    "if __name__==\"__main__\":\n",
    "    x = [1, 2, 3]\n",
    "    y = [0.5, 0.8, 1.5]\n",
    "    plot_data(x, y)\n",
    "    "
   ]
  },
  {
   "cell_type": "markdown",
   "id": "18fc3c49-0f62-44cc-98bd-332864f65214",
   "metadata": {},
   "source": [
    "In this example, the error message looks quite complicated. The last line of the error message tells us that we encountered a `ValueError` due to invalid arguments for the method `plt.subplot()`. Whenever getting an error caused by libraries, it is likely that we made a mistake in our code rather than that the library has a bug, since in general libraries are tested and regularily updated. So in this case it makes sense to start at the top of the error message. The first entry tells us that the error has something to do with calling out `plot_data()` function in the main script. Within this function, the statement `fig, ax = plt.subplot(1, 1)` is listed as next in the error message. Something in this line caused matplotlib to raise an `ValueError` as shown by the $3^{rd}$ entry of the error message. If we take a close look at this error message, we can see that matplotlib prints out the statement `\"The subplot index argument to subplot() appears to be a boolean. Did you intend to use subplots()?\"`. By looking again into our `plot_data()` function, we can see that we typed `plt.subplot()` instead of `plt.subplots()` which then lead to this error. <br><br>\n",
    "In a lot of cases the cause of an error is rather simple as shown in the previous examples. Some commonly made mistakes may be:\n",
    "- forgotten or wrong brackets, e.g. using `()` instead of `[]` when trying to access elements of a list (in contrast to other languages such as Matlab, where `()` is used to access elements)\n",
    "- too many brackets, e.g. because some expression was deleted but the closing bracket is still present: `call_some_method(parameter))`\n",
    "- confusing similar methods, such as `plt.xlabel(\"...\")` vs. `ax.set_xlabel(\"...\")` methods within the matplotlib.pyplot library\n",
    "- using a wrong seperator when reading in files, e.g. with the pandas library\n",
    "- python is quite sensitive to indents (in contrast to other languages such as C++), meaning each block of code needs to be aligned"
   ]
  },
  {
   "cell_type": "markdown",
   "id": "e3868c70-9432-4994-813b-d018e502d365",
   "metadata": {},
   "source": [
    "## 8. References <a id=\"references\"></a>\n",
    "#### python documentation:\n",
    "- [python docs](https://docs.python.org/3.3/library/functions.html) for built-in functions\n",
    "- [python docs](https://docs.python.org/3/tutorial/controlflow.html) for flow control statements\n",
    "- [python docs](https://docs.python.org/3/tutorial/datastructures.html#looping-techniques) for lists\n",
    "- [python docs](https://docs.python.org/3/tutorial/classes.html) for classes (especially section 9.3, 9.5)\n",
    "- [python docs](https://docs.python.org/3/glossary.html#term-decorator) for decorators\n",
    "- [python docs](https://docs.python.org/3.3/library/functions.html#property) for the @property decorator\n",
    "- [flowtorch](https://flowmodelingcontrol.github.io/flowtorch-docs/1.1/index.html) library\n",
    "- [matplotlib](matplotlib](https://matplotlib.org/stable/index.html) library\n",
    "- the [read_csv](https://pandas.pydata.org/docs/reference/api/pandas.read_csv.html) method in pandas\n",
    "- [pandas](https://pandas.pydata.org/docs/user_guide/index.html#user-guide) user guide\n",
    "- [Pytorch docs](https://pytorch.org/docs/stable/index.html) (general)\n",
    "- [Pytorch docs](https://pytorch.org/tutorials/beginner/introyt/tensors_deeper_tutorial.html) for tensors\n",
    "\n",
    "#### other references:\n",
    "- [lambda expressions](https://realpython.com/python-lambda/)\n",
    "- [decorators](https://realpython.com/primer-on-python-decorators/)\n",
    "- [Python Decorators in 15 Minutes](https://www.youtube.com/watch?v=r7Dtus7N4pI) (youtube)"
   ]
  },
  {
   "cell_type": "code",
   "execution_count": null,
   "id": "414d0625-910e-45b1-b959-a5cd9c00fc37",
   "metadata": {},
   "outputs": [],
   "source": []
  }
 ],
 "metadata": {
  "kernelspec": {
   "display_name": "Python 3 (ipykernel)",
   "language": "python",
   "name": "python3"
  },
  "language_info": {
   "codemirror_mode": {
    "name": "ipython",
    "version": 3
   },
   "file_extension": ".py",
   "mimetype": "text/x-python",
   "name": "python",
   "nbconvert_exporter": "python",
   "pygments_lexer": "ipython3",
   "version": "3.8.10"
  }
 },
 "nbformat": 4,
 "nbformat_minor": 5
}
