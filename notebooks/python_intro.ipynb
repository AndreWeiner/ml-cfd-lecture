{
 "cells": [
  {
   "cell_type": "markdown",
   "id": "5a2e094b",
   "metadata": {},
   "source": [
    "![CC](https://i.creativecommons.org/l/by/4.0/88x31.png)\n",
    "\n",
    "This work is licensed under a [Creative Commons Attribution 4.0 International License](http://creativecommons.org/licenses/by/4.0/).\n",
    "\n",
    "Author(s): Janis Geise, Andre Weiner"
   ]
  },
  {
   "cell_type": "markdown",
   "id": "a91d6677-6c76-480a-b7ea-c8ff19940948",
   "metadata": {},
   "source": [
    "# A brief introduction to Python programming\n",
    "\n",
    "## Overview\n",
    "\n",
    "Note that this notebook does not provide a comprehensive introduction to Python programming. It aims to explain Python functionality frequently used throughout lecture and exercise notebooks that students typically struggle with at the beginning. If you are already an experienced Python programmer, feel free to quickly skim through the notebook or to skip it entirely. If you consider yourself as a beginner both in Python and programming in general, we provide a list of resources for self-study at the end of this notebook. The following topics will be covered in this notebook:\n",
    "\n",
    "- Built-in functions and data types\n",
    "- Functions and lambda functions\n",
    "- Object-oriented programming\n",
    "- Plotting with Matplotlib  \n",
    "  - Line plots  \n",
    "  - Scatter plots  \n",
    "  - Contour lines and filled contours\n",
    "  - sub-plots  \n",
    "- PyTorch tensors  \n",
    "  - Working with tensors  \n",
    "  - Common tensor operations\n",
    "- Handling column-like data with Pandas\n",
    "- Understanding error messages\n",
    "- References"
   ]
  },
  {
   "cell_type": "markdown",
   "id": "d9c2b894-f744-4894-9b1f-35575aa305d1",
   "metadata": {},
   "source": [
    "## Built-in functions and data types\n",
    "\n",
    "Python provides a number of [built-in functions](https://docs.python.org/3/library/functions.html) and data types to simplify and accelerate common tasks. While some of these functions and structures are intuitively clear for anyone with basic math and programming knowledge, e.g., `abs()` for computing the absolute value of a number, others may be harder to understand. This section discusses a few heavily-used built-in functions and data structures.\n",
    "\n",
    "### Lists, tuples, and dictionaries\n",
    "\n",
    "Lists in Python are iterable containers in which objects of different types can be stored. Common attributes of lists are that we can iterate through them, append or delete list items, or merge them. In contrast to lists, tuples have a fixed length, which is defined when creating the tuple. Dictionaries are containers for data that come as key-value-pairs. The key might be the name of a person and the value might be the person's email address."
   ]
  },
  {
   "cell_type": "code",
   "execution_count": 54,
   "id": "a4f95dd5",
   "metadata": {},
   "outputs": [
    {
     "name": "stdout",
     "output_type": "stream",
     "text": [
      "['x', 'U']\n",
      "['x', 'U', 'p']\n",
      "The first label is x and the last label is p\n",
      "['U', 'p']\n",
      "['U', 'p', 'x', 'y']\n",
      "('U', 'p')\n",
      "{'x': 'm', 'U': 'm/s'}\n"
     ]
    }
   ],
   "source": [
    "# create a list of strings\n",
    "labels = [\"x\", \"U\"]\n",
    "print(labels)\n",
    "\n",
    "# append another label\n",
    "labels.append(\"p\")\n",
    "print(labels)\n",
    "\n",
    "# get the first and last elements of the list\n",
    "print(f\"The first label is {labels[0]} and the last label is {labels[-1]}\")\n",
    "\n",
    "# delete the first list element\n",
    "del labels[0]\n",
    "print(labels)\n",
    "\n",
    "# append one list to another\n",
    "print(labels + [\"x\", \"y\"])\n",
    "\n",
    "# convert a list to a tuple\n",
    "labels_tuple = tuple(labels)\n",
    "print(labels_tuple)\n",
    "\n",
    "# store the unit associated with the label in a dictionary\n",
    "labels_and_units = {}\n",
    "labels_and_units[\"x\"] = \"m\"\n",
    "labels_and_units[\"U\"] = \"m/s\"\n",
    "print(labels_and_units)"
   ]
  },
  {
   "cell_type": "code",
   "execution_count": 55,
   "id": "bbe8fefd",
   "metadata": {},
   "outputs": [
    {
     "ename": "AttributeError",
     "evalue": "'tuple' object has no attribute 'append'",
     "output_type": "error",
     "traceback": [
      "\u001b[0;31m---------------------------------------------------------------------------\u001b[0m",
      "\u001b[0;31mAttributeError\u001b[0m                            Traceback (most recent call last)",
      "Cell \u001b[0;32mIn [55], line 2\u001b[0m\n\u001b[1;32m      1\u001b[0m \u001b[39m# the length of a tuple is fixed\u001b[39;00m\n\u001b[0;32m----> 2\u001b[0m labels_tuple\u001b[39m.\u001b[39;49mappend(\u001b[39m\"\u001b[39m\u001b[39ma\u001b[39m\u001b[39m\"\u001b[39m)\n",
      "\u001b[0;31mAttributeError\u001b[0m: 'tuple' object has no attribute 'append'"
     ]
    }
   ],
   "source": [
    "# the length of a tuple is fixed\n",
    "labels_tuple.append(\"a\")"
   ]
  },
  {
   "cell_type": "markdown",
   "id": "2619325b",
   "metadata": {},
   "source": [
    "### Looping through iterables\n",
    "\n",
    "Both lists and tuples are iterables, meaning that we can iterate/loop through them. There are a number of strategies to iterate through one or multiple iterables, which are demonstrated in the next cell."
   ]
  },
  {
   "cell_type": "code",
   "execution_count": null,
   "id": "b6a4ce39",
   "metadata": {},
   "outputs": [
    {
     "name": "stdout",
     "output_type": "stream",
     "text": [
      "Label 0: U\n",
      "Label 1: p\n"
     ]
    }
   ],
   "source": [
    "# classical C-like looping:\n",
    "# 1. determine the length of the list  with len()\n",
    "# 2. create an iterator of indices starting from 0\n",
    "# 3. use the loop variable i to access list elements\n",
    "for i in range(len(labels)):\n",
    "    print(f\"Label {i}: {labels[i]}\")"
   ]
  },
  {
   "cell_type": "code",
   "execution_count": null,
   "id": "c8f17afd",
   "metadata": {},
   "outputs": [
    {
     "name": "stdout",
     "output_type": "stream",
     "text": [
      "U\n",
      "p\n"
     ]
    }
   ],
   "source": [
    "# a much more \"Pythonic\" way of looping over the list items\n",
    "for label in labels:\n",
    "    print(label)"
   ]
  },
  {
   "cell_type": "code",
   "execution_count": null,
   "id": "3a929fe2",
   "metadata": {},
   "outputs": [
    {
     "name": "stdout",
     "output_type": "stream",
     "text": [
      "Label 0: U\n",
      "Label 1: p\n"
     ]
    }
   ],
   "source": [
    "# in case the list index is really needed, use enumerate()\n",
    "for i, label in enumerate(labels):\n",
    "    print(f\"Label {i}: {label}\")"
   ]
  },
  {
   "cell_type": "code",
   "execution_count": null,
   "id": "1c9d0db7",
   "metadata": {},
   "outputs": [
    {
     "name": "stdout",
     "output_type": "stream",
     "text": [
      "U in m/s\n",
      "p in Pa\n"
     ]
    }
   ],
   "source": [
    "# Pythonic loop over multiple iterables\n",
    "units = (\"m/s\", \"Pa\")\n",
    "for label, unit in zip(labels, units):\n",
    "    print(f\"{label} in {unit}\")"
   ]
  },
  {
   "cell_type": "code",
   "execution_count": null,
   "id": "4b1567aa",
   "metadata": {},
   "outputs": [
    {
     "name": "stdout",
     "output_type": "stream",
     "text": [
      "Label 0: U in m/s\n",
      "Label 1: p in Pa\n"
     ]
    }
   ],
   "source": [
    "# the same as above combined with enumerate\n",
    "for i, (label, unit) in enumerate(zip(labels, units)):\n",
    "    print(f\"Label {i}: {label} in {unit}\")"
   ]
  },
  {
   "cell_type": "markdown",
   "id": "520382c9",
   "metadata": {},
   "source": [
    "Both `zip()` and `enumerate()` return iterators. In contrast to lists or tuples, the content of iterators is only retrieved or created when it is really needed. For example, if we want to load and process large files stored on the hard drive, an iterator allows loading and processing one file after the other in order to reduce the memory consumption. However, in most cases considered here, we can simply convert the iterator into a list or tuple."
   ]
  },
  {
   "cell_type": "code",
   "execution_count": null,
   "id": "a7707147",
   "metadata": {},
   "outputs": [
    {
     "name": "stdout",
     "output_type": "stream",
     "text": [
      "[('U', 'm/s'), ('p', 'Pa')]\n",
      "<zip object at 0x7f12697a6f80>\n"
     ]
    },
    {
     "ename": "TypeError",
     "evalue": "'zip' object is not subscriptable",
     "output_type": "error",
     "traceback": [
      "\u001b[0;31m---------------------------------------------------------------------------\u001b[0m",
      "\u001b[0;31mTypeError\u001b[0m                                 Traceback (most recent call last)",
      "Cell \u001b[0;32mIn [25], line 8\u001b[0m\n\u001b[1;32m      6\u001b[0m \u001b[39mprint\u001b[39m(labels_and_units)\n\u001b[1;32m      7\u001b[0m \u001b[39m# moreover, we don't have an index-based access to the iterator\u001b[39;00m\n\u001b[0;32m----> 8\u001b[0m \u001b[39mprint\u001b[39m(labels_and_units[\u001b[39m0\u001b[39;49m])\n",
      "\u001b[0;31mTypeError\u001b[0m: 'zip' object is not subscriptable"
     ]
    }
   ],
   "source": [
    "# create an iterator for labels and units\n",
    "labels_and_units = zip(labels, units)\n",
    "\n",
    "# convert the iterator to a list of tuples and print the list\n",
    "print(list(labels_and_units))\n",
    "\n",
    "# printing the iterator directly does not have the desired effect\n",
    "print(labels_and_units)\n",
    "\n",
    "# moreover, we don't have an index-based access to the iterator\n",
    "print(labels_and_units[0])"
   ]
  },
  {
   "cell_type": "markdown",
   "id": "6b15aef1",
   "metadata": {},
   "source": [
    "A common error source when working with `zip()` is the handling of iterables with varying lengths. The iteration stops when the length of the shorted iterable passed to `zip()` is reached."
   ]
  },
  {
   "cell_type": "code",
   "execution_count": null,
   "id": "b0c2fac3-9db7-4e92-b5f4-b205b5b09976",
   "metadata": {},
   "outputs": [
    {
     "name": "stdout",
     "output_type": "stream",
     "text": [
      "('U', 'm/s') ('p', 'Pa')\n"
     ]
    }
   ],
   "source": [
    "labels.append(\"x\")\n",
    "# we unpack the iterator for printing using *\n",
    "print(*zip(labels, units))"
   ]
  },
  {
   "cell_type": "markdown",
   "id": "ba7bdc0b",
   "metadata": {},
   "source": [
    "Looping over the keys and values of a dictionary works in a similar way as described for list and tuples. The methods `keys()`, `values()`, and `items()` provide us with iterators for the dictionary's keys, values, or key-value-pairs, respectively. Similar to the index-based access to the content of lists and tuples, we can access the value associated with a key using the `[]` operator."
   ]
  },
  {
   "cell_type": "code",
   "execution_count": null,
   "id": "7c0c1b3a",
   "metadata": {},
   "outputs": [
    {
     "name": "stdout",
     "output_type": "stream",
     "text": [
      "The unit of x is m\n",
      "The unit of U is m/s\n",
      "The unit of x is m\n",
      "The unit of U is m/s\n",
      "The unit of x is m\n",
      "The unit of U is m/s\n"
     ]
    }
   ],
   "source": [
    "# for each key/label, print its value/unit\n",
    "for key in labels_and_units.keys():\n",
    "    print(f\"The unit of {key} is {labels_and_units[key]}\")\n",
    "\n",
    "# loop over keys and values with zip\n",
    "for key, value in zip(labels_and_units.keys(), labels_and_units.values()):\n",
    "    print(f\"The unit of {key} is {value}\")\n",
    "\n",
    "# even short than above\n",
    "for key, value in labels_and_units.items():\n",
    "    print(f\"The unit of {key} is {value}\")"
   ]
  },
  {
   "cell_type": "markdown",
   "id": "7bc08c49",
   "metadata": {},
   "source": [
    "### List and dictionary comprehensions\n",
    "\n",
    "Comprehensions are an efficient way of creating new lists or dictionaries without for-loops. Especially, if a task needs to be repeated multiple times, comprehensions are short, clear and efficient. The general syntax is:\n",
    "\n",
    "```\n",
    "# list comprehension\n",
    "result = [result_based_on_item for item in iterable]\n",
    "# dictionary comprehension\n",
    "result = {key_base_on_item : value_base_on_item for item in iterable}\n",
    "```"
   ]
  },
  {
   "cell_type": "code",
   "execution_count": null,
   "id": "92e5f8a6",
   "metadata": {},
   "outputs": [
    {
     "name": "stdout",
     "output_type": "stream",
     "text": [
      "[0, 1, 4, 9, 16, 25, 36, 49, 64, 81]\n",
      "{0: '(0)', 1: '(1)', 4: '(4)', 9: '(9)', 16: '(16)', 25: '(25)', 36: '(36)', 49: '(49)', 64: '(64)', 81: '(81)'}\n"
     ]
    }
   ],
   "source": [
    "# create a list of squared values\n",
    "list_of_numbers = [i**2 for i in range(10)]\n",
    "print(list_of_numbers)\n",
    "\n",
    "# create dictionary with string representations\n",
    "numbers_as_strings = {i : f\"({i})\" for i in list_of_numbers}\n",
    "print(numbers_as_strings)"
   ]
  },
  {
   "cell_type": "markdown",
   "id": "79ecb378",
   "metadata": {},
   "source": [
    "Another common pattern is the addition of a logical statement to the comprehension. The extended syntax is:\n",
    "\n",
    "```\n",
    "# simple if condition\n",
    "result = [result_based_on_item for item in iterable if condition_based_on_item]\n",
    "# if-else condition\n",
    "result = [result_true if condition else results_false for item in iterable]\n",
    "# if-else condition for dictionaries\n",
    "results = {(key_true if key_condition else key_false) : (value_true if value_condition else value_false ) for items in iterable}\n",
    "```"
   ]
  },
  {
   "cell_type": "code",
   "execution_count": null,
   "id": "59ca5fad",
   "metadata": {},
   "outputs": [
    {
     "name": "stdout",
     "output_type": "stream",
     "text": [
      "[0, 4, 16, 36, 64]\n",
      "{0: 'even', 1: 'odd', 4: 'even', 9: 'odd', 16: 'even', 25: 'odd', 36: 'even', 49: 'odd', 64: 'even', 81: 'odd'}\n"
     ]
    }
   ],
   "source": [
    "# print only even numbers\n",
    "even_numbers = [i for i in list_of_numbers if i % 2 == 0]\n",
    "print(even_numbers)\n",
    "\n",
    "# create a dictionary with even-odd-labeling\n",
    "even_odd = {i : (\"even\" if i % 2 == 0 else \"odd\") for i in list_of_numbers}\n",
    "print(even_odd)"
   ]
  },
  {
   "cell_type": "markdown",
   "id": "78eaa8c7",
   "metadata": {},
   "source": [
    "It is also possible to nest multiple comprehensions and conditionals. However, the resulting statements are often hard to read and error-prone. As a rule of thumb, there should be never more than two `for` statements inside the square or curly brackets."
   ]
  },
  {
   "cell_type": "markdown",
   "id": "1007fa65-d91a-4922-8cab-25b44f94f3ad",
   "metadata": {},
   "source": [
    "## Functions and Lambda functions\n",
    "\n",
    "Functions are the simplest and most common way to avoid code duplication and to improve the program's modularity and readability. In the function header, zero or more function parameters may be defined. Optionally, we can provide default arguments (values) for some of the parameters. The optional parameters always follow at the end of the parameter list. Moreover, functions may or may not return a result."
   ]
  },
  {
   "cell_type": "code",
   "execution_count": null,
   "id": "b3390d0c",
   "metadata": {},
   "outputs": [
    {
     "name": "stdout",
     "output_type": "stream",
     "text": [
      "Hello Horace Lamb!\n"
     ]
    }
   ],
   "source": [
    "# function without return argument\n",
    "def print_greeting(first_name, family_name):\n",
    "    print(f\"Hello {first_name} {family_name}!\")\n",
    "\n",
    "print_greeting(\"Horace\", \"Lamb\")"
   ]
  },
  {
   "cell_type": "code",
   "execution_count": null,
   "id": "0d3990aa",
   "metadata": {},
   "outputs": [
    {
     "name": "stdout",
     "output_type": "stream",
     "text": [
      "a=1, b=2\n",
      "a=1; b=2\n"
     ]
    }
   ],
   "source": [
    "# function with optional and return argument\n",
    "def format_arguments(parameters, arguments, separator=\", \"):\n",
    "    formatted_arguments = separator.join(\n",
    "        [f\"{param}={arg}\" for param, arg in zip(parameters, arguments)]\n",
    "    )\n",
    "    return formatted_arguments\n",
    "\n",
    "# print with default separator\n",
    "print(format_arguments((\"a\", \"b\"), (1, 2)))\n",
    "\n",
    "# print with different separator\n",
    "print(format_arguments((\"a\", \"b\"), (1, 2), \"; \"))"
   ]
  },
  {
   "cell_type": "markdown",
   "id": "1348af8b",
   "metadata": {},
   "source": [
    "Even though Python is an interpreted language without strict typing, it is good practice to use so-called type hints in the function definition. However, note that the type hints are not checked or enforced by the interpreter. Their main purpose is improved code readability and improved documentation, e.g., when using automatic documentation generators like [Sphinx](https://www.sphinx-doc.org/en/master/)."
   ]
  },
  {
   "cell_type": "code",
   "execution_count": null,
   "id": "c5f2aa9b",
   "metadata": {},
   "outputs": [
    {
     "name": "stdout",
     "output_type": "stream",
     "text": [
      "a=1; b=2\n"
     ]
    }
   ],
   "source": [
    "# same as the last function above but with type hints\n",
    "def format_arguments(parameters: list, arguments: list, separator: str = \", \") -> str:\n",
    "    formatted_arguments = separator.join(\n",
    "        [f\"{param}={arg}\" for param, arg in zip(parameters, arguments)]\n",
    "    )\n",
    "    return formatted_arguments\n",
    "\n",
    "print(format_arguments((\"a\", \"b\"), (1, 2), \"; \"))"
   ]
  },
  {
   "cell_type": "markdown",
   "id": "6e8849d2",
   "metadata": {},
   "source": [
    "Python supports multiple assignments in a single statement (line). Moreover, functions can return multiple arguments packed in a tuple. We can assign this tuple to a variable, or we can unpack the tuple into the individual return arguments."
   ]
  },
  {
   "cell_type": "code",
   "execution_count": null,
   "id": "7c66cbd0",
   "metadata": {},
   "outputs": [
    {
     "name": "stdout",
     "output_type": "stream",
     "text": [
      "('x in m', 'y in m/s')\n",
      "The figure shows x in m plotted against y in m/s\n",
      "The figure shows x in m plotted against y in m/s\n"
     ]
    }
   ],
   "source": [
    "# more specific type hinting\n",
    "from typing import Tuple\n",
    "\n",
    "def format_labels(x_label: str, y_label: str, x_unit: str, y_unit: str) -> Tuple[str, str]:\n",
    "    label_with_unit_x = f\"{x_label} in {x_unit}\"\n",
    "    label_with_unit_y = f\"{y_label} in {y_unit}\"\n",
    "    return label_with_unit_x, label_with_unit_y\n",
    "\n",
    "# print the packed return arguments\n",
    "print(format_labels(\"x\", \"y\", \"m\", \"m/s\"))\n",
    "\n",
    "# unpack into individual parameters, then print\n",
    "label_x, label_y = format_labels(\"x\", \"y\", \"m\", \"m/s\")\n",
    "print(f\"The figure shows {label_x} plotted against {label_y}\")\n",
    "\n",
    "# we can combine the unpacking and printing in a single statement using *\n",
    "print(\"The figure shows {:s} plotted against {:s}\".format(*format_labels(\"x\", \"y\", \"m\", \"m/s\")))"
   ]
  },
  {
   "cell_type": "markdown",
   "id": "abdfbfad",
   "metadata": {},
   "source": [
    "Lambda functions are small functions with limited complexity. In contrast to normal functions, lambda-functions consist of a single expression and are typically defined in a single line of code. Due to their limited complexity, they are often defined in place as arguments for other functions. The general syntax is:\n",
    "\n",
    "```\n",
    "lambda argument_1, argument_2, ..., argument_N: what_to_do\n",
    "```\n",
    "If the same lambda-functions ais employed repeatedly, we can also assign it to a variable."
   ]
  },
  {
   "cell_type": "code",
   "execution_count": null,
   "id": "2dd265d2-a58f-4148-be3d-9cae56f659de",
   "metadata": {},
   "outputs": [
    {
     "name": "stdout",
     "output_type": "stream",
     "text": [
      "Folder case_0 has suffix 0\n",
      "Folder case_5 has suffix 5\n",
      "Folder case_10 has suffix 10\n",
      "Folder case_15 has suffix 15\n",
      "Folder case_20 has suffix 20\n",
      "Wrong sorting:  ['case_0', 'case_10', 'case_15', 'case_20', 'case_5']\n",
      "Correct sorting:  ['case_0', 'case_5', 'case_10', 'case_15', 'case_20']\n"
     ]
    }
   ],
   "source": [
    "# use lambda function to extract name suffix\n",
    "get_suffix = lambda name, separator: name.split(separator)[-1]\n",
    "folders = [f\"case_{i}\" for i in range(0, 21, 5)]\n",
    "suffixes = [get_suffix(folder, \"_\") for folder in folders]\n",
    "for folder, suffix in zip(folders, suffixes):\n",
    "    print(f\"Folder {folder} has suffix {suffix}\")\n",
    "\n",
    "# imagine you want to sort the folders according to their suffix;\n",
    "# naively, we could pass the list of folders to the sorted function\n",
    "print(\"Wrong sorting: \", sorted(folders))\n",
    "# as you can see in the output, the items are sorted character by character;\n",
    "# therefore, case_10 is listed before case_5; in some situations we may easily\n",
    "# miss such a mistake, e.g., when testing only suffixes between 0 and 9\n",
    "\n",
    "# solution: we need to be more precise about the sorting criterion;\n",
    "# we want to sort based on the suffix and we want the suffix to be interpreted as integer and not as string\n",
    "# the criterion can be passed to the sort function using the 'key' parameter\n",
    "print(\"Correct sorting: \", sorted(folders, key=lambda case: int(case.split(\"_\")[-1])))"
   ]
  },
  {
   "cell_type": "markdown",
   "id": "21b53a6e",
   "metadata": {},
   "source": [
    "## Object-orientated programming in python\n",
    "\n",
    "As many other programming languages, Python supports object-orientated programming. The following section provides a brief overview of object-orientated programming in python.\n",
    "\n",
    "### General structure and initialization\n",
    "\n",
    "In Python, user-defined data types are defined with the keyword `class`. The class itself needs to have an `.__init__()` method in order to initialize attributes and methods."
   ]
  },
  {
   "cell_type": "code",
   "execution_count": null,
   "id": "792f60d1",
   "metadata": {},
   "outputs": [
    {
     "name": "stdout",
     "output_type": "stream",
     "text": [
      "new class attribute: 42\n"
     ]
    }
   ],
   "source": [
    "# let's define a simple class\n",
    "class SimpleClass():\n",
    "    # currently the __init__() method is empty, so the class won't do anything\n",
    "    def __init__(self):\n",
    "        pass\n",
    "    \n",
    "# the class can now be instantiated\n",
    "new_class = SimpleClass()\n",
    "\n",
    "# and we can add some attributes\n",
    "new_class.new_attribute = 42\n",
    "\n",
    "print(\"new class attribute:\", new_class.new_attribute)"
   ]
  },
  {
   "cell_type": "markdown",
   "id": "db9824b9",
   "metadata": {},
   "source": [
    "The keyword `self` represents the instance of the class and is required for accessing any attributes or methods of the class."
   ]
  },
  {
   "cell_type": "code",
   "execution_count": null,
   "id": "c0371438",
   "metadata": {},
   "outputs": [
    {
     "name": "stdout",
     "output_type": "stream",
     "text": [
      "x, y = 1, 2\n",
      "1 + 2 = 3\n",
      "5 + 37 = 42\n"
     ]
    }
   ],
   "source": [
    "# we can initialize a class directly with attributes and methods as well:\n",
    "class AddNumbers():\n",
    "    # in this case, the value for y is given by default\n",
    "    def __init__(self, x, y = 2):\n",
    "        self.x = x\n",
    "        self.y = y\n",
    "    \n",
    "    # method for adding two numbers\n",
    "    def add_two_numbers(self):\n",
    "        return self.x + self.y\n",
    "    \n",
    "# since the value for y is given by default we can instanciate the class only ba passing in x as argument\n",
    "add = AddNumbers(x=1)\n",
    "print(f\"x, y = {add.x}, {add.y}\")\n",
    "print(f\"{add.x} + {add.y} = {add.add_two_numbers()}\")\n",
    "\n",
    "# alternatively, we can assign values for x and y when creating the instance\n",
    "add_2 = AddNumbers(x=5, y=37)\n",
    "print(f\"{add_2.x} + {add_2.y} = {add_2.add_two_numbers()}\")"
   ]
  },
  {
   "cell_type": "markdown",
   "id": "cbd86067",
   "metadata": {},
   "source": [
    "### Inheritance\n",
    "\n",
    "Python supports inheritance, which allows to inherit methods and properties from other classes. This is quite convenient, because methods which are already implemented can be used and extended without the necessity to write everything from scratch. Considering the previous example, imagine we now want to add two numbers and then compute the mean of it:"
   ]
  },
  {
   "cell_type": "code",
   "execution_count": null,
   "id": "df953bf5",
   "metadata": {},
   "outputs": [
    {
     "name": "stdout",
     "output_type": "stream",
     "text": [
      "mean of 5 and 3 =  4.0\n"
     ]
    }
   ],
   "source": [
    "# we could implement a completly new class from scratch...\n",
    "class ComputeMean():\n",
    "    def __init__(self, x, y):\n",
    "        self.x = x\n",
    "        self.y = y\n",
    "    \n",
    "    # method for adding two numbers\n",
    "    def mean_of_two_numbers(self):\n",
    "        return (self.x + self.y) / 2\n",
    "    \n",
    "# now compute the mean of two numbers\n",
    "comp_mean = ComputeMean(5, 3)\n",
    "print(\"mean of 5 and 3 = \", comp_mean.mean_of_two_numbers())"
   ]
  },
  {
   "cell_type": "code",
   "execution_count": null,
   "id": "f39cec05",
   "metadata": {},
   "outputs": [
    {
     "name": "stdout",
     "output_type": "stream",
     "text": [
      "mean of 8 and 4 =  6.0\n",
      "8 + 4 =  12\n"
     ]
    }
   ],
   "source": [
    "# ... but a more efficient way is inheriting the properties of our previously implemented class 'AddNumbers':\n",
    "class ComputeMean(AddNumbers):\n",
    "    def __init__(self, x, y):\n",
    "        # we need to initialize the parent class with the method 'super()' and also the attributes we want to access\n",
    "        super().__init__(x, y)\n",
    "        \n",
    "    def mean_of_two_numbers(self):\n",
    "        # now we can use the method 'add_two_numbers()' we already implemented in the parent class\n",
    "        return AddNumbers.add_two_numbers(self) / 2\n",
    "    \n",
    "# compute the mean of 8 and 4\n",
    "comp_mean = ComputeMean(8, 4)\n",
    "print(\"mean of 8 and 4 = \", comp_mean.mean_of_two_numbers())\n",
    "\n",
    "# but we can also directly access the 'add_two_numbers' method from the parent class without calling it\n",
    "print(\"8 + 4 = \", comp_mean.add_two_numbers())"
   ]
  },
  {
   "cell_type": "markdown",
   "id": "d2d72e32",
   "metadata": {},
   "source": [
    "The parent class from which we want to inherit the properties needs to be passed into our child class as argument, as can be seen in the above examples. Further, we need to initilize the parent class by calling the built-in `super()` method. This allows us to access methods and other properties of the parent class without the need to implement them again in the child class. When calling the `super()` method, the attributes we want to initialize need to be passed into the `__init()__` method as well, e.g. the following would not work, since we didn't initialize the attribute `y`:"
   ]
  },
  {
   "cell_type": "code",
   "execution_count": null,
   "id": "9a5b7b03",
   "metadata": {},
   "outputs": [
    {
     "ename": "TypeError",
     "evalue": "AddNumbers.__init__() missing 1 required positional argument: 'x'",
     "output_type": "error",
     "traceback": [
      "\u001b[0;31m---------------------------------------------------------------------------\u001b[0m",
      "\u001b[0;31mTypeError\u001b[0m                                 Traceback (most recent call last)",
      "Cell \u001b[0;32mIn [7], line 10\u001b[0m\n\u001b[1;32m      7\u001b[0m         \u001b[39mreturn\u001b[39;00m AddNumbers\u001b[39m.\u001b[39madd_two_numbers(\u001b[39mself\u001b[39m) \u001b[39m/\u001b[39m \u001b[39m2\u001b[39m\n\u001b[1;32m      9\u001b[0m \u001b[39m# compute the mean of 8 and 4\u001b[39;00m\n\u001b[0;32m---> 10\u001b[0m comp_mean \u001b[39m=\u001b[39m ComputeMean(x\u001b[39m=\u001b[39;49m\u001b[39m4\u001b[39;49m, y\u001b[39m=\u001b[39;49m\u001b[39m8\u001b[39;49m)\n\u001b[1;32m     11\u001b[0m \u001b[39mprint\u001b[39m(\u001b[39m\"\u001b[39m\u001b[39mmean of 8 and 4 = \u001b[39m\u001b[39m\"\u001b[39m, comp_mean\u001b[39m.\u001b[39mmean_of_two_numbers())\n",
      "Cell \u001b[0;32mIn [7], line 4\u001b[0m, in \u001b[0;36mComputeMean.__init__\u001b[0;34m(self, x, y)\u001b[0m\n\u001b[1;32m      2\u001b[0m \u001b[39mdef\u001b[39;00m \u001b[39m__init__\u001b[39m(\u001b[39mself\u001b[39m, x, y):\n\u001b[1;32m      3\u001b[0m     \u001b[39m# if we forget to initialize the attributes, then we won't have access to it\u001b[39;00m\n\u001b[0;32m----> 4\u001b[0m     \u001b[39msuper\u001b[39;49m()\u001b[39m.\u001b[39;49m\u001b[39m__init__\u001b[39;49m()\n",
      "\u001b[0;31mTypeError\u001b[0m: AddNumbers.__init__() missing 1 required positional argument: 'x'"
     ]
    }
   ],
   "source": [
    "class ComputeMean(AddNumbers):\n",
    "    def __init__(self, x, y):\n",
    "        # if we forget to initialize the attributes, then we won't have access to it\n",
    "        super().__init__()\n",
    "        \n",
    "    def mean_of_two_numbers(self):\n",
    "        return AddNumbers.add_two_numbers(self) / 2\n",
    "    \n",
    "# compute the mean of 8 and 4\n",
    "comp_mean = ComputeMean(x=4, y=8)\n",
    "print(\"mean of 8 and 4 = \", comp_mean.mean_of_two_numbers())"
   ]
  },
  {
   "cell_type": "code",
   "execution_count": null,
   "id": "0b209f6b-e0d0-4778-afff-f2877592979a",
   "metadata": {},
   "outputs": [
    {
     "name": "stdout",
     "output_type": "stream",
     "text": [
      "mean of 8 and 4 =  5.0\n"
     ]
    }
   ],
   "source": [
    "class ComputeMean(AddNumbers):\n",
    "    def __init__(self, x, y):\n",
    "        # let's just initialize y and see what happens\n",
    "        super().__init__(y)\n",
    "        \n",
    "    def mean_of_two_numbers(self):\n",
    "        return AddNumbers.add_two_numbers(self) / 2\n",
    "    \n",
    "# compute the mean of 8 and 4\n",
    "comp_mean = ComputeMean(x=4, y=8)\n",
    "print(\"mean of 8 and 4 = \", comp_mean.mean_of_two_numbers())"
   ]
  },
  {
   "cell_type": "markdown",
   "id": "8b72d140-6ef9-4f0e-834e-d5266ee880c5",
   "metadata": {},
   "source": [
    "In this case, the parameter `y` which is passed into our `super().__init__()` method is interpreted as `x`, since the `y` parameter is already set by default and therefore not required. The Python interpreter assumes that, if only one argument is given, it has to be the parameter `x`. If we want Python to interpret this one parameter as `y`, we have to use a keyword argument:"
   ]
  },
  {
   "cell_type": "code",
   "execution_count": null,
   "id": "f7a2c99b-8775-4d46-89e4-9dac3396ccdb",
   "metadata": {},
   "outputs": [
    {
     "ename": "TypeError",
     "evalue": "AddNumbers.__init__() missing 1 required positional argument: 'x'",
     "output_type": "error",
     "traceback": [
      "\u001b[0;31m---------------------------------------------------------------------------\u001b[0m",
      "\u001b[0;31mTypeError\u001b[0m                                 Traceback (most recent call last)",
      "Cell \u001b[0;32mIn [11], line 10\u001b[0m\n\u001b[1;32m      7\u001b[0m         \u001b[39mreturn\u001b[39;00m AddNumbers\u001b[39m.\u001b[39madd_two_numbers(\u001b[39mself\u001b[39m) \u001b[39m/\u001b[39m \u001b[39m2\u001b[39m\n\u001b[1;32m      9\u001b[0m \u001b[39m# compute the mean of 8 and 4\u001b[39;00m\n\u001b[0;32m---> 10\u001b[0m comp_mean \u001b[39m=\u001b[39m ComputeMean(x\u001b[39m=\u001b[39;49m\u001b[39m4\u001b[39;49m, y\u001b[39m=\u001b[39;49m\u001b[39m8\u001b[39;49m)\n\u001b[1;32m     11\u001b[0m \u001b[39mprint\u001b[39m(\u001b[39m\"\u001b[39m\u001b[39mmean of 8 and 4 = \u001b[39m\u001b[39m\"\u001b[39m, comp_mean\u001b[39m.\u001b[39mmean_of_two_numbers())\n",
      "Cell \u001b[0;32mIn [11], line 4\u001b[0m, in \u001b[0;36mComputeMean.__init__\u001b[0;34m(self, x, y)\u001b[0m\n\u001b[1;32m      2\u001b[0m \u001b[39mdef\u001b[39;00m \u001b[39m__init__\u001b[39m(\u001b[39mself\u001b[39m, x, y):\n\u001b[1;32m      3\u001b[0m     \u001b[39m# this time we specificly initialize the parameter y as y\u001b[39;00m\n\u001b[0;32m----> 4\u001b[0m     \u001b[39msuper\u001b[39;49m()\u001b[39m.\u001b[39;49m\u001b[39m__init__\u001b[39;49m(y\u001b[39m=\u001b[39;49my)\n",
      "\u001b[0;31mTypeError\u001b[0m: AddNumbers.__init__() missing 1 required positional argument: 'x'"
     ]
    }
   ],
   "source": [
    "class ComputeMean(AddNumbers):\n",
    "    def __init__(self, x, y):\n",
    "        # this time we specificly initialize the parameter y as y\n",
    "        super().__init__(y=y)\n",
    "        \n",
    "    def mean_of_two_numbers(self):\n",
    "        return AddNumbers.add_two_numbers(self) / 2\n",
    "    \n",
    "# compute the mean of 8 and 4\n",
    "comp_mean = ComputeMean(x=4, y=8)\n",
    "print(\"mean of 8 and 4 = \", comp_mean.mean_of_two_numbers())"
   ]
  },
  {
   "cell_type": "markdown",
   "id": "a361f061-edc9-4978-a71b-4592596ea6de",
   "metadata": {},
   "source": [
    "Now we get the error message again, showing us that we forgot to initialize the `x` parameter.\n",
    "\n",
    "### Decorators\n",
    "\n",
    "Functions are represented as objects in python and can therefore be passed into other functions as arguments or returned by functions. Decorators use this property, by taking function objects as arguments and then modifying its behavior. The following examples where adopted from [Python Decorators in 15 Minutes](https://www.youtube.com/watch?v=r7Dtus7N4pI)."
   ]
  },
  {
   "cell_type": "code",
   "execution_count": null,
   "id": "2e472d80-291b-4d01-8991-b771707949b3",
   "metadata": {},
   "outputs": [
    {
     "name": "stdout",
     "output_type": "stream",
     "text": [
      "function 1\n",
      "function 1\n"
     ]
    }
   ],
   "source": [
    "# let's define a function which only prints its name\n",
    "def function1():\n",
    "    print(\"function 1\")\n",
    "    \n",
    "# now we define a function taking another function as argument and then calling this function    \n",
    "def function2(f):\n",
    "    f()\n",
    "    \n",
    "# now we can execute function1...\n",
    "function1()\n",
    "\n",
    "# ... or we can pass function1 into function2 and execute it within function2:\n",
    "function2(function1)"
   ]
  },
  {
   "cell_type": "code",
   "execution_count": null,
   "id": "84ad9276-5531-4764-af75-dbac5d54b751",
   "metadata": {},
   "outputs": [
    {
     "name": "stdout",
     "output_type": "stream",
     "text": [
      "calling function3 with function1 as argument:\n",
      " <function function3.<locals>.some_wrapper_function at 0x7fe30e667ac0>\n"
     ]
    }
   ],
   "source": [
    "# we can extend this example by adding another function into our function2\n",
    "def function3(f):\n",
    "    # let's use this function to execute whatever function is passed into function3\n",
    "    def some_wrapper_function():\n",
    "        print(\"starting function\")\n",
    "        f()\n",
    "        print(\"function ended\")\n",
    "\n",
    "    return some_wrapper_function\n",
    "\n",
    "# calling the wrapper function\n",
    "print(\"calling function3 with function1 as argument:\\n\", function3(function1))"
   ]
  },
  {
   "cell_type": "markdown",
   "id": "640d61c0-9e9d-4961-a0dd-a9b0c3247632",
   "metadata": {},
   "source": [
    "As shown in this example, $function1$ is not executed within the $some\\_wrapper\\_function$. This is because $function3$ returns $some\\_wrapper\\_function$ as an object. In order to execute this object, we need to add parenthesis:"
   ]
  },
  {
   "cell_type": "code",
   "execution_count": null,
   "id": "286a9953-e6e0-47f6-bbf9-51d9d8159594",
   "metadata": {},
   "outputs": [
    {
     "name": "stdout",
     "output_type": "stream",
     "text": [
      "starting function\n",
      "function 1\n",
      "function ended\n"
     ]
    }
   ],
   "source": [
    "# function3 returns an object, still need to execute the function\n",
    "function3(function1)()"
   ]
  },
  {
   "cell_type": "markdown",
   "id": "2387f41e-ba73-46ee-b746-caa2e03bee40",
   "metadata": {},
   "source": [
    "Now we get the expected output. Using this notation, however, can get quite confusing, especially if more complex functions are involved. To avoid this we can assign the returned function object to another variable:"
   ]
  },
  {
   "cell_type": "code",
   "execution_count": null,
   "id": "d5552a33-3859-40bc-b927-082aa64e51a8",
   "metadata": {},
   "outputs": [
    {
     "name": "stdout",
     "output_type": "stream",
     "text": [
      "starting function\n",
      "function 1\n",
      "function ended\n"
     ]
    }
   ],
   "source": [
    "# we can assign the function call to another object, e.g. x and then call x()\n",
    "x = function3(function1)\n",
    "\n",
    "# now the variable x represents the function3 object called with function1 as argument and we can just execute it\n",
    "x()"
   ]
  },
  {
   "cell_type": "markdown",
   "id": "fdd629b9-5dfe-48f6-ac63-161db61e2b8e",
   "metadata": {},
   "source": [
    "Instead of assigning the function object to a variable and then execute this object, Python provides a short hand notation called decorators:"
   ]
  },
  {
   "cell_type": "code",
   "execution_count": null,
   "id": "097296a7-3f2d-4883-8597-ece6519a2c33",
   "metadata": {},
   "outputs": [
    {
     "name": "stdout",
     "output_type": "stream",
     "text": [
      "starting function\n",
      "executing function x using a decorator\n",
      "function ended\n"
     ]
    }
   ],
   "source": [
    "# a decorator is a short notation of executing the fnction object\n",
    "@function3       # this is equivalent to: x = function3(x)\n",
    "def x():\n",
    "    print(\"executing function x using a decorator\")\n",
    "    \n",
    "# since x is an object, we need to add parenthesis to execute it\n",
    "x()"
   ]
  },
  {
   "cell_type": "markdown",
   "id": "76ef67d1-dafd-459e-a17e-ec008dfdd8e1",
   "metadata": {},
   "source": [
    "## Plotting with Matplotlib\n",
    "\n",
    "[Matplotlib](https://matplotlib.org/stable/index.html) is a library for creating plots and visualizing data. This section deals with the basic usage of Matplotlib in order to create simple plots. A more thorough introduction can be found in the references.\n",
    "\n",
    "### Line plots\n",
    "\n",
    "Simple line plots can be created with the method `plot()` located in `matplotlib.pyplot`:"
   ]
  },
  {
   "cell_type": "code",
   "execution_count": null,
   "id": "4deebb77-59b6-4d32-9608-b6b12448aa58",
   "metadata": {},
   "outputs": [
    {
     "data": {
      "image/png": "[encoded data removed]",
      "text/plain": [
       "<Figure size 640x480 with 1 Axes>"
      ]
     },
     "metadata": {},
     "output_type": "display_data"
    }
   ],
   "source": [
    "import matplotlib.pyplot as plt\n",
    "import torch as pt\n",
    "\n",
    "# create some data\n",
    "x = pt.linspace(0, 6, 100)\n",
    "y = pt.sin(x)\n",
    "y2 = pt.cos(x)\n",
    "\n",
    "# now let's plot the data\n",
    "plt.plot(x, y, color=\"black\", label=\"$sin(x)$\")\n",
    "\n",
    "# we can customize the lines as well\n",
    "plt.plot(x, y2, color=\"red\", label=\"$cos(x)$\", marker=\"o\", fillstyle=\"none\", linestyle=\"None\")\n",
    "\n",
    "# add axis labels, a legend and a title\n",
    "plt.legend()\n",
    "plt.xlabel(\"x\")\n",
    "plt.ylabel(\"y\")\n",
    "plt.title(\"$sin(x)$ vs. $cos(x)$\")\n",
    "\n",
    "# in order to diplay the plot, we need to call the show() method\n",
    "plt.show()"
   ]
  },
  {
   "cell_type": "markdown",
   "id": "2553d210-8e55-4c73-b689-7e3a55dc3570",
   "metadata": {},
   "source": [
    "### Scatter plots\n",
    "\n",
    "In the same way, we can create scatter plots using the `scatter` method:"
   ]
  },
  {
   "cell_type": "code",
   "execution_count": null,
   "id": "526e0f9e-ad04-4b15-94d8-f53747739d41",
   "metadata": {},
   "outputs": [
    {
     "data": {
      "image/png": "[encoded data removed]",
      "text/plain": [
       "<Figure size 640x480 with 1 Axes>"
      ]
     },
     "metadata": {},
     "output_type": "display_data"
    }
   ],
   "source": [
    "# this time, let's plot the data as scatter plot, s = size of markers\n",
    "plt.scatter(x, y, color=\"black\", label=\"$sin(x)$\", s=5, marker=\"s\")\n",
    "plt.scatter(x, y2, color=\"red\", label=\"$cos(x)$\", s=20, marker=\"o\", facecolors=\"none\")\n",
    "\n",
    "# zoom in a little bit by setting new x- and y-limits\n",
    "plt.xlim(1.75, 5.75)\n",
    "plt.ylim(-1.05, 0.5)\n",
    "\n",
    "# the rest is the same...\n",
    "plt.legend()\n",
    "plt.xlabel(\"x\")\n",
    "plt.ylabel(\"y\")\n",
    "plt.title(\"$sin(x)$ vs. $cos(x)$\")\n",
    "plt.show()"
   ]
  },
  {
   "cell_type": "markdown",
   "id": "a4e5c5a4-2284-4b6a-ba6c-a2fe9fc38f67",
   "metadata": {},
   "source": [
    "### Contour and filled contour plots\n",
    "\n",
    "Further, contour plots can be created in order to visualize $3D-$data with the `contour()` method:"
   ]
  },
  {
   "cell_type": "code",
   "execution_count": null,
   "id": "ec2575ed-7ffa-43ac-843e-89273fe3040d",
   "metadata": {},
   "outputs": [
    {
     "data": {
      "image/png": "[encoded data removed]",
      "text/plain": [
       "<Figure size 640x480 with 2 Axes>"
      ]
     },
     "metadata": {},
     "output_type": "display_data"
    }
   ],
   "source": [
    "from numpy import meshgrid\n",
    "# create 3D-data\n",
    "x = pt.linspace(0, 1, 100)\n",
    "y = pt.linspace(10, 20, 100)\n",
    "\n",
    "# in order to get one datapoint for each (x, y) tuple, we create a grid of (x, y) tuples with meshgrid\n",
    "x_new, y_new = meshgrid(x, y)\n",
    "\n",
    "# now we can use the grid to generate a matrix of data in z-direction, so for each (x, y) tuple there exist one z data point\n",
    "z = x_new**2 * y_new**2\n",
    "\n",
    "# now create contour plot, levels = number of isolines in the plot\n",
    "plt.contour(x, y, z, levels=30)\n",
    "\n",
    "# again we can add some labels and a colorbar\n",
    "plt.xlabel(\"x\")\n",
    "plt.ylabel(\"y\")\n",
    "plt.colorbar()\n",
    "plt.show()\n"
   ]
  },
  {
   "cell_type": "code",
   "execution_count": null,
   "id": "13527d12-5b07-4edf-927e-3cab16901900",
   "metadata": {},
   "outputs": [
    {
     "data": {
      "image/png": "[encoded data removed]",
      "text/plain": [
       "<Figure size 640x480 with 2 Axes>"
      ]
     },
     "metadata": {},
     "output_type": "display_data"
    }
   ],
   "source": [
    "# alternatively, we can use the contourf() method for making 3D-plots:\n",
    "plt.contourf(x, y, z)\n",
    "plt.xlabel(\"x\")\n",
    "plt.ylabel(\"y\")\n",
    "\n",
    "# in general, the colorbar can be further customized\n",
    "cbar = plt.colorbar()\n",
    "cbar.set_label(label=\"$z$\", fontsize=12)\n",
    "plt.show()"
   ]
  },
  {
   "cell_type": "markdown",
   "id": "a836e94c-bdb1-4cfb-92e7-2c9022f78c0c",
   "metadata": {},
   "source": [
    "### Sub-plots\n",
    "\n",
    "Instead of only creating one plot at a time, Matplotlib provides a `subplots()` method for creating multiple plots within one figure, which also allows us to customize our plots further. There exists a variety of options, which can be found in the [subfigures](https://matplotlib.org/stable/api/_as_gen/matplotlib.pyplot.subplots.html) documentation. A possible implementation could be:"
   ]
  },
  {
   "cell_type": "code",
   "execution_count": null,
   "id": "83e841f3-8bd2-4b1a-8ee1-c2007117f4c8",
   "metadata": {},
   "outputs": [
    {
     "data": {
      "image/png": "[encoded data removed]",
      "text/plain": [
       "<Figure size 2000x400 with 2 Axes>"
      ]
     },
     "metadata": {},
     "output_type": "display_data"
    }
   ],
   "source": [
    "# use the data we already created when plotting the sin(x) and cos(x), but this time we want them to be in seperate plots\n",
    "x = pt.linspace(0, 6, 100)\n",
    "y = pt.sin(x)\n",
    "y_2 = pt.cos(x)\n",
    "\n",
    "# now we create a subfigure with 2 columns and one row, but both plots should have the same y-axis, further\n",
    "# we want the figure to have a size of 20x4 (width x heigth)\n",
    "fig, ax = plt.subplots(nrows=1, ncols=2, figsize=(20, 4), sharey=True)\n",
    "\n",
    "# let's plot the data ax referes to the axis on which we want to plot the data (counting from left -> right)\n",
    "ax[0].plot(x, y, color=\"black\", label=\"$sin(x)$\")\n",
    "ax[1].plot(x, y, color=\"red\", label=\"$cos(x)$\")\n",
    "\n",
    "# when adding labels, the method is now called with a 'set_...' in front of the methods\n",
    "ax[0].set_ylabel(\"$y$\", usetex=True, fontsize=16)\n",
    "\n",
    "# we can increase the space between the x-ticks and the axis label using the keyword 'labelpad' as well\n",
    "ax[0].set_xlabel(\"$x$\", usetex=True, fontsize=16, labelpad=25)\n",
    "ax[1].set_xlabel(\"$x$\", usetex=True, fontsize=16, labelpad=10)\n",
    "\n",
    "# we can set different subtitles as well\n",
    "ax[0].set_title(\"$sin(x)$\")\n",
    "ax[1].set_title(\"$cos(x)$\")\n",
    "\n",
    "# and also customize the legend\n",
    "ax[0].legend(loc=\"upper right\", fontsize=14)\n",
    "ax[1].legend(loc=\"lower left\", fontsize=10)\n",
    "\n",
    "# and adjust the white space between the subplots, so it looks a little bit nicer\n",
    "fig.tight_layout()\n",
    "fig.subplots_adjust(wspace=0.05, top=0.9)\n",
    "\n",
    "plt.show()"
   ]
  },
  {
   "cell_type": "markdown",
   "id": "849473c7-5798-43a1-bd9d-8ab57caedee1",
   "metadata": {},
   "source": [
    "## PyTorch\n",
    "\n",
    "### Working with tensors\n",
    "\n",
    "The [PyTorch](https://pytorch.org/docs/stable/index.html) library provides efficient data structures for operating with large amounts of data, e.g. tensors as well as tools for deep learning and neural networks. The following section gives a brief overview on what tensors are and how to how to operate with them. [Tensors](https://pytorch.org/docs/stable/tensors.html) store elements of a certain type, e.g., floating point numbers in a multi-dimensional matrix. In general, tensors need to be initialized for example with zeros before operating with them, similar to [numpy arrays](https://numpy.org/doc/stable/reference/generated/numpy.array.html). The size of a tensor is defined when initializing the tensor using the keyword argument `size`."
   ]
  },
  {
   "cell_type": "code",
   "execution_count": null,
   "id": "5a811278-30ea-4f6a-8857-ae069e1466d1",
   "metadata": {},
   "outputs": [
    {
     "name": "stdout",
     "output_type": "stream",
     "text": [
      "1x1 tensor:\n",
      " tensor([[0.]])\n",
      "\n",
      "3x1 column vector:\n",
      " tensor([[0.],\n",
      "        [0.],\n",
      "        [0.]])\n",
      "\n",
      "3x3 matrix:\n",
      " tensor([[1., 1., 1.],\n",
      "        [1., 1., 1.],\n",
      "        [1., 1., 1.]])\n"
     ]
    }
   ],
   "source": [
    "import torch as pt\n",
    "\n",
    "# creating a 1x1 tensor filled with zeros, the size argument takes a tuple with (number of rows, number of columns)\n",
    "t = pt.zeros(size=(1, 1))\n",
    "print(\"1x1 tensor:\\n\", t)\n",
    "\n",
    "# similarily, we can create an column vector [x, y, z]^T filled with zeros\n",
    "t = pt.zeros(size=(3, 1))\n",
    "print(\"\\n3x1 column vector:\\n\", t)\n",
    "\n",
    "# in the same way, we can also create a 3x3 matrix filled with ones\n",
    "t = pt.ones(size=(3, 3))\n",
    "print(\"\\n3x3 matrix:\\n\", t)"
   ]
  },
  {
   "cell_type": "markdown",
   "id": "c84e8605-3374-40bc-ab3f-178fb1f2436e",
   "metadata": {},
   "source": [
    "Alternatively, other data types such as lists can be converted to tensors. It is important that the list elements have to be of the same data type."
   ]
  },
  {
   "cell_type": "code",
   "execution_count": null,
   "id": "df86f6d0-ef87-4414-839f-d96dbcc0a54f",
   "metadata": {},
   "outputs": [
    {
     "name": "stdout",
     "output_type": "stream",
     "text": [
      "original list:\n",
      " [1, 2, 3]\n",
      "\n",
      "converted to tensor:\n",
      " tensor([1, 2, 3])\n",
      "\n",
      "original list:\n",
      " [[1, 2], [3, 4]]\n",
      "\n",
      "converted to tensor:\n",
      " tensor([[1, 2],\n",
      "        [3, 4]])\n"
     ]
    }
   ],
   "source": [
    "# creating a list and converting it to a tensor\n",
    "a = [1, 2, 3]\n",
    "a_tensor = pt.tensor(a)\n",
    "print(\"original list:\\n\", a)\n",
    "print(\"\\nconverted to tensor:\\n\", a_tensor)\n",
    "\n",
    "# this also works for nested lists\n",
    "b = [[1, 2], [3, 4]]\n",
    "b_tensor = pt.tensor(b)\n",
    "print(\"\\noriginal list:\\n\", b)\n",
    "print(\"\\nconverted to tensor:\\n\", b_tensor)"
   ]
  },
  {
   "cell_type": "markdown",
   "id": "2c469cc7-a278-4ee5-b90b-7d3900d9d6e7",
   "metadata": {},
   "source": [
    "When converting lists to tensors, some problems may occur as shown in the following examples:"
   ]
  },
  {
   "cell_type": "code",
   "execution_count": null,
   "id": "52bd4d3d-39ff-4387-8ff8-869c5e4116ee",
   "metadata": {},
   "outputs": [
    {
     "ename": "TypeError",
     "evalue": "new(): invalid data type 'str'",
     "output_type": "error",
     "traceback": [
      "\u001b[0;31m---------------------------------------------------------------------------\u001b[0m",
      "\u001b[0;31mTypeError\u001b[0m                                 Traceback (most recent call last)",
      "Cell \u001b[0;32mIn [24], line 3\u001b[0m\n\u001b[1;32m      1\u001b[0m \u001b[39m# all list elements have to be of the same data type, otherwise an error occurs:\u001b[39;00m\n\u001b[1;32m      2\u001b[0m a \u001b[39m=\u001b[39m [\u001b[39m1\u001b[39m, \u001b[39m2\u001b[39m, \u001b[39m\"\u001b[39m\u001b[39ma\u001b[39m\u001b[39m\"\u001b[39m]\n\u001b[0;32m----> 3\u001b[0m b \u001b[39m=\u001b[39m pt\u001b[39m.\u001b[39;49mtensor(a)\n",
      "\u001b[0;31mTypeError\u001b[0m: new(): invalid data type 'str'"
     ]
    }
   ],
   "source": [
    "# all list elements have to be of the same data type, otherwise an error occurs:\n",
    "a = [1, 2, \"a\"]\n",
    "b = pt.tensor(a)"
   ]
  },
  {
   "cell_type": "code",
   "execution_count": null,
   "id": "e8ccd821-35ee-4f54-b710-cf71cf912963",
   "metadata": {},
   "outputs": [
    {
     "ename": "ValueError",
     "evalue": "expected sequence of length 2 at dim 1 (got 3)",
     "output_type": "error",
     "traceback": [
      "\u001b[0;31m---------------------------------------------------------------------------\u001b[0m",
      "\u001b[0;31mValueError\u001b[0m                                Traceback (most recent call last)",
      "Cell \u001b[0;32mIn [25], line 5\u001b[0m\n\u001b[1;32m      2\u001b[0m a \u001b[39m=\u001b[39m [[\u001b[39m1\u001b[39m, \u001b[39m2\u001b[39m], [\u001b[39m3\u001b[39m, \u001b[39m4\u001b[39m, \u001b[39m5\u001b[39m]]\n\u001b[1;32m      4\u001b[0m \u001b[39m# this is not working, because 1st element is 2 long and 2nd element has a length of 3\u001b[39;00m\n\u001b[0;32m----> 5\u001b[0m b \u001b[39m=\u001b[39m pt\u001b[39m.\u001b[39;49mtensor(a)\n",
      "\u001b[0;31mValueError\u001b[0m: expected sequence of length 2 at dim 1 (got 3)"
     ]
    }
   ],
   "source": [
    "# also if nested lists are to be converted, the dimensions have to be consistent throughout the list\n",
    "a = [[1, 2], [3, 4, 5]]\n",
    "\n",
    "# this is not working, because 1st element is 2 long and 2nd element has a length of 3\n",
    "b = pt.tensor(a)"
   ]
  },
  {
   "cell_type": "markdown",
   "id": "7c5a1eaf-6c93-4baf-8a21-f7a09730c66e",
   "metadata": {},
   "source": [
    "When initializing a tensor, the size of the tensor needs to be defined. The general syntax for the `size` argument is `size=(dim=0, dim=1, dim=2, ...)`, the first dimension `dim=0` refers to the number of rows and `dim=1` to the number of columns. The $3^{rd}$ dimension denotes the number of elements within each element of the (dim=0 * dim=1) sized matrix and so on. When operating with tensors, single elements can be accessed as well as complete columns, rows or matrices within the tensor, which will be illustrated by the following examples. A more comprehensive introduction can be found in the [PyTorch docs](https://pytorch.org/tutorials/beginner/introyt/tensors_deeper_tutorial.html) for tensors."
   ]
  },
  {
   "cell_type": "code",
   "execution_count": null,
   "id": "2ec6823c-fdd1-4323-9b4d-7980d3bed429",
   "metadata": {},
   "outputs": [
    {
     "name": "stdout",
     "output_type": "stream",
     "text": [
      "3x3 tensor with random numbers:\n",
      " tensor([[-1.1325,  0.2688, -1.0330],\n",
      "        [ 0.3791, -0.8139, -0.2489],\n",
      "        [-0.4488, -0.2883,  0.4956]])\n"
     ]
    }
   ],
   "source": [
    "# create a 2x3 tensor filled with random numbers\n",
    "random_tensor = pt.randn(size=(3, 3))\n",
    "\n",
    "# this tensor has 3 rows and 3 columns\n",
    "print(\"3x3 tensor with random numbers:\\n\", random_tensor)"
   ]
  },
  {
   "cell_type": "code",
   "execution_count": null,
   "id": "52f3ed8e-529b-44c0-8e9a-2e75679faad7",
   "metadata": {},
   "outputs": [
    {
     "name": "stdout",
     "output_type": "stream",
     "text": [
      "2nd element of 1st row:  tensor(0.2688)\n",
      "last element of 1st row: tensor(-1.0330)\n",
      "\n",
      "all columns of 1st row: tensor([-1.1325,  0.2688, -1.0330])\n",
      "all rows of 2nd colunm: tensor([ 0.2688, -0.8139, -0.2883])\n",
      "\n",
      "2x2 matrix of tensor:\n",
      " tensor([[-1.1325,  0.2688],\n",
      "        [ 0.3791, -0.8139]])\n",
      "\n",
      "2x2 matrix of tensor:\n",
      " tensor([[-0.8139, -0.2489],\n",
      "        [-0.2883,  0.4956]])\n"
     ]
    }
   ],
   "source": [
    "# now let's access the 2nd element of the first row (indices start at zero)\n",
    "print(\"2nd element of 1st row: \", random_tensor[0, 1])\n",
    "\n",
    "# we can also access the last element of the 1st row by using [-1] as index:\n",
    "print(\"last element of 1st row:\", random_tensor[0, -1])\n",
    "\n",
    "# complete rows or columns can be accessed by using [:]\n",
    "print(\"\\nall columns of 1st row:\", random_tensor[0, :])\n",
    "print(\"all rows of 2nd colunm:\", random_tensor[:, 1])\n",
    "\n",
    "# now lets get the a 2x2 submatrix of the tensoor containing the rows 1, 2 and columns 1, 2:\n",
    "print(\"\\n2x2 matrix of tensor:\\n\", random_tensor[:2, :2])\n",
    "\n",
    "# similarily, we can get the elements of the last two rows and columns:\n",
    "print(\"\\n2x2 matrix of tensor:\\n\", random_tensor[1:, 1:])"
   ]
  },
  {
   "cell_type": "code",
   "execution_count": null,
   "id": "0a54991b-9139-477b-a17c-b3e8d085fbac",
   "metadata": {},
   "outputs": [
    {
     "name": "stdout",
     "output_type": "stream",
     "text": [
      "original tensor:\n",
      " tensor([[0.9397, 0.2593, 0.8610, 0.0948],\n",
      "        [0.3179, 0.1401, 0.5237, 0.4738],\n",
      "        [0.0370, 0.2705, 0.0169, 0.9482],\n",
      "        [0.4524, 0.7740, 0.4464, 0.3420]])\n",
      "\n",
      "rows 1-3 & columns 2-4:\n",
      " tensor([[0.5237, 0.4738],\n",
      "        [0.0169, 0.9482]])\n"
     ]
    }
   ],
   "source": [
    "# further, we can specify ranges which we want to access\n",
    "random_tensor = pt.rand(size=(4, 4))\n",
    "print(\"original tensor:\\n\", random_tensor)\n",
    "      \n",
    "# get columns 1-3 and rows 2-4\n",
    "print(\"\\nrows 1-3 & columns 2-4:\\n\", random_tensor[1:3, 2:4])"
   ]
  },
  {
   "cell_type": "markdown",
   "id": "100f2d3d-7bed-446a-8fc8-cb4f00c73872",
   "metadata": {},
   "source": [
    "As can be seen in this example, when using the range `[1:3, 2:4]`, the stop indices `3, 4` are excluded resulting in a 2x2 tensor as output. In general, the size of a tensor can be determined by using the `size()` method:"
   ]
  },
  {
   "cell_type": "code",
   "execution_count": null,
   "id": "57fa6f4b-9a2c-4b1f-a09e-ae29ef034315",
   "metadata": {},
   "outputs": [
    {
     "name": "stdout",
     "output_type": "stream",
     "text": [
      "size of the original tensor:  torch.Size([4, 4])\n",
      "\n",
      "size of the sub-matrix within the tensor:  torch.Size([2, 2])\n"
     ]
    }
   ],
   "source": [
    "# get the size of this tensor\n",
    "print(\"size of the original tensor: \", random_tensor.size())\n",
    "print(\"\\nsize of the sub-matrix within the tensor: \", random_tensor[1:3, 2:4].size())"
   ]
  },
  {
   "cell_type": "markdown",
   "id": "c7b2a831-d32e-4357-931d-59d3df32d699",
   "metadata": {},
   "source": [
    "### Common tensor operations\n",
    "\n",
    "#### Algebraic operations\n",
    "\n",
    "A great advantage of using tensors is the fact that algebraic operations, such as elements-wise addition, can easily be done using `+, -, *, /`:"
   ]
  },
  {
   "cell_type": "code",
   "execution_count": null,
   "id": "4ca167cf-8c8f-4e73-8f78-10dc3fd4f9cb",
   "metadata": {},
   "outputs": [
    {
     "name": "stdout",
     "output_type": "stream",
     "text": [
      "tensor([2, 3, 4])\n",
      "\n",
      "x =  tensor([[4, 1, 3],\n",
      "        [3, 3, 1]])\n",
      "\n",
      "y =  tensor([[1, 0, 3],\n",
      "        [3, 3, 1]])\n",
      "\n",
      "x + y =  tensor([[5, 1, 6],\n",
      "        [6, 6, 2]])\n"
     ]
    }
   ],
   "source": [
    "# create two tensors\n",
    "a = pt.tensor([1, 2, 3])\n",
    "b = pt.tensor([1, 1, 1])\n",
    "\n",
    "# now add them element-wise:\n",
    "c = a + b\n",
    "print(c)\n",
    "\n",
    "# of course, this can be extended to higher dimensions:\n",
    "x = pt.randint(low=0, high=5, size=(2, 3))\n",
    "y = pt.randint(low=0, high=5, size=(2, 3))\n",
    "print(\"\\nx = \", x)\n",
    "print(\"\\ny = \", y)\n",
    "print(\"\\nx + y = \", x + y)"
   ]
  },
  {
   "cell_type": "code",
   "execution_count": null,
   "id": "79fd6216-4898-477c-843e-4a1333eb83c5",
   "metadata": {},
   "outputs": [
    {
     "name": "stdout",
     "output_type": "stream",
     "text": [
      "x = \n",
      " tensor([[1, 0, 0],\n",
      "        [2, 0, 2]])\n",
      "\n",
      "y = \n",
      " tensor([[0],\n",
      "        [1],\n",
      "        [1]])\n",
      "\n",
      "x * y = \n",
      " tensor([[0],\n",
      "        [2]])\n"
     ]
    }
   ],
   "source": [
    "# a matrix-vector product can be computed using @\n",
    "x = pt.randint(low=0, high=3, size=(2, 3))\n",
    "y = pt.randint(low=0, high=3, size=(3, 1))\n",
    "print(\"x = \\n\", x)\n",
    "print(\"\\ny = \\n\", y)\n",
    "\n",
    "# compute the matrix-vector product of x and y\n",
    "print(\"\\nx * y = \\n\", x @ y)"
   ]
  },
  {
   "cell_type": "markdown",
   "id": "76a4b533-2c0f-461a-a9a3-05efc68d5782",
   "metadata": {},
   "source": [
    "#### flatten()\n",
    " \n",
    "The `flatten()` method reshapes an arbitrary $n$-dimensional tensor to a one-dimensional tensor:"
   ]
  },
  {
   "cell_type": "code",
   "execution_count": null,
   "id": "5c7f9b2b-cdcc-4d81-866d-70114a88d79b",
   "metadata": {},
   "outputs": [
    {
     "name": "stdout",
     "output_type": "stream",
     "text": [
      "original tensor:\n",
      " tensor([[0.8534, 0.7454, 0.6552],\n",
      "        [0.6830, 0.7364, 0.7621]])\n",
      "\n",
      "flattened tensor:\n",
      " tensor([0.8534, 0.7454, 0.6552, 0.6830, 0.7364, 0.7621])\n",
      "\n",
      "size of original tensor: torch.Size([2, 3])\n",
      "size of flattened tensor: torch.Size([6])\n"
     ]
    }
   ],
   "source": [
    "# create tensor\n",
    "x = pt.rand(size=(2, 3))\n",
    "\n",
    "# then flatten the tensor\n",
    "y = x.flatten()\n",
    "\n",
    "print(\"original tensor:\\n\", x)\n",
    "print(\"\\nflattened tensor:\\n\", y)\n",
    "print(\"\\nsize of original tensor:\", x.size())\n",
    "print(\"size of flattened tensor:\", y.size())"
   ]
  },
  {
   "cell_type": "markdown",
   "id": "2dccd061-c671-4b84-8a1e-acfe072d64f3",
   "metadata": {},
   "source": [
    "#### reshape()\n",
    "\n",
    "In contrast to `flatten()`, `reshape()` can be used to reshape a tensor to specific dimensions instead of reshaping it to a one-dimensional tensor. An important requirement for using the `reshape()` method is that the output tensor has the same number of elements as the input tensor."
   ]
  },
  {
   "cell_type": "code",
   "execution_count": null,
   "id": "913011ae-2fa1-4b0f-9074-b20df5200f0c",
   "metadata": {},
   "outputs": [
    {
     "name": "stdout",
     "output_type": "stream",
     "text": [
      "original tensor:\n",
      " tensor([[0.6319, 0.4387],\n",
      "        [0.8049, 0.8187],\n",
      "        [0.4356, 0.5494],\n",
      "        [0.4285, 0.0310],\n",
      "        [0.7303, 0.7181],\n",
      "        [0.3153, 0.4595]])\n",
      "\n",
      "reshaped tensor:\n",
      " tensor([[0.6319, 0.4387, 0.8049, 0.8187, 0.4356, 0.5494, 0.4285, 0.0310, 0.7303,\n",
      "         0.7181, 0.3153, 0.4595]])\n",
      "\n",
      "reshaped tensor:\n",
      " tensor([[0.6319, 0.4387, 0.8049, 0.8187],\n",
      "        [0.4356, 0.5494, 0.4285, 0.0310],\n",
      "        [0.7303, 0.7181, 0.3153, 0.4595]])\n"
     ]
    }
   ],
   "source": [
    "# create tensor with 6 rows and 2 columns\n",
    "x = pt.rand(size=(6, 2))\n",
    "print(\"original tensor:\\n\", x)\n",
    "\n",
    "# reshape it to a row-vector\n",
    "y = pt.reshape(x, shape=(1, 12))\n",
    "print(\"\\nreshaped tensor:\\n\", y)\n",
    "\n",
    "# alternatively, reshape it to a matrix with 3 rows and 4 columns\n",
    "z = pt.reshape(x, shape=(3, 4))\n",
    "print(\"\\nreshaped tensor:\\n\", z)"
   ]
  },
  {
   "cell_type": "markdown",
   "id": "c9514101-af69-4ee9-810e-102936589328",
   "metadata": {},
   "source": [
    "When using `reshape()` the dimensions have to match, meaning the number of elements need to be the same. The following will not work:"
   ]
  },
  {
   "cell_type": "code",
   "execution_count": null,
   "id": "dc3769e0-5464-41e9-af95-4486b2151868",
   "metadata": {},
   "outputs": [
    {
     "ename": "RuntimeError",
     "evalue": "shape '[3, 3]' is invalid for input of size 12",
     "output_type": "error",
     "traceback": [
      "\u001b[0;31m---------------------------------------------------------------------------\u001b[0m",
      "\u001b[0;31mRuntimeError\u001b[0m                              Traceback (most recent call last)",
      "Cell \u001b[0;32mIn [34], line 5\u001b[0m\n\u001b[1;32m      2\u001b[0m x \u001b[39m=\u001b[39m pt\u001b[39m.\u001b[39mrand(size\u001b[39m=\u001b[39m(\u001b[39m6\u001b[39m, \u001b[39m2\u001b[39m))\n\u001b[1;32m      4\u001b[0m \u001b[39m# this will not work since x has 6*2=12 elements and y would only have 3*3=9 elements\u001b[39;00m\n\u001b[0;32m----> 5\u001b[0m y \u001b[39m=\u001b[39m pt\u001b[39m.\u001b[39;49mreshape(x, shape\u001b[39m=\u001b[39;49m(\u001b[39m3\u001b[39;49m, \u001b[39m3\u001b[39;49m))\n",
      "\u001b[0;31mRuntimeError\u001b[0m: shape '[3, 3]' is invalid for input of size 12"
     ]
    }
   ],
   "source": [
    "# create tensor\n",
    "x = pt.rand(size=(6, 2))\n",
    "\n",
    "# this will not work since x has 6*2=12 elements and y would only have 3*3=9 elements\n",
    "y = pt.reshape(x, shape=(3, 3))"
   ]
  },
  {
   "cell_type": "markdown",
   "id": "a0f40806-acca-4496-9cc6-434c6b6ef56c",
   "metadata": {},
   "source": [
    "#### squeeze() and unsqueeze()\n",
    "\n",
    "The `squeeze()` method removes dimensions with the size of $1$ from a tensor. If we have for example a $3x2x1$-dimensional tensor, using the `squeeze()` method would lead to a tensor with the dimensions of $3x2$ by removing the $3^{rd}$ dimension (since the $3^{rd}$ dimension is $1$). If there exist multiple dimensions with the size of $1$, using `squeeze()` removes all of them. A specific dimension which shall be removed can be specified by the keyword argument `dim`, in case this is unwanted. The `squeeze()` method is frequently used, e.g. when passing features into a neural network, as shown in [lecture 3](https://github.com/AndreWeiner/ml-cfd-lecture/blob/main/notebooks/ml_intro.ipynb). Consequently, the `unsqueeze()` method inserts a dimension of the size $1$ at a specified dimension of the input tensor."
   ]
  },
  {
   "cell_type": "code",
   "execution_count": null,
   "id": "5e141f4d-390a-48dd-9e9b-f9c410f01fca",
   "metadata": {},
   "outputs": [
    {
     "name": "stdout",
     "output_type": "stream",
     "text": [
      "original tensor:\n",
      " tensor([[0.9764],\n",
      "        [0.7306],\n",
      "        [0.9423]])\n",
      "\n",
      "squeezed tensor:\n",
      " tensor([0.9764, 0.7306, 0.9423])\n",
      "\n",
      "unsqueezed tensor (dim=0):\n",
      " tensor([[0.9764, 0.7306, 0.9423]])\n",
      "\n",
      "unsqueezed tensor (dim=1):\n",
      " tensor([[0.9764],\n",
      "        [0.7306],\n",
      "        [0.9423]])\n",
      "\n",
      "size of original tensor: torch.Size([3, 1])\n",
      "size of squeezed tensor: torch.Size([3])\n",
      "size of unsqueezed tensor (dim=0): torch.Size([1, 3])\n",
      "size of unsqueezed tensor (dim=0): torch.Size([3, 1])\n"
     ]
    }
   ],
   "source": [
    "# create tensor\n",
    "x = pt.rand(size=(3, 1))\n",
    "\n",
    "# then squeeze the tensor\n",
    "y = x.squeeze()\n",
    "\n",
    "# unsqueeze the tensor in \"row\"-dimension\n",
    "z = y.unsqueeze(dim=0)\n",
    "\n",
    "# unsqueeze the tensor in \"column\"-dimension\n",
    "z_2 = y.unsqueeze(dim=1)\n",
    "\n",
    "print(\"original tensor:\\n\", x)\n",
    "print(\"\\nsqueezed tensor:\\n\", y)\n",
    "print(\"\\nunsqueezed tensor (dim=0):\\n\", z)\n",
    "print(\"\\nunsqueezed tensor (dim=1):\\n\", z_2)\n",
    "\n",
    "print(\"\\nsize of original tensor:\", x.size())\n",
    "print(\"size of squeezed tensor:\", y.size())\n",
    "print(\"size of unsqueezed tensor (dim=0):\", z.size())\n",
    "print(\"size of unsqueezed tensor (dim=0):\", z_2.size())"
   ]
  },
  {
   "cell_type": "code",
   "execution_count": null,
   "id": "b41c97aa-ba86-4531-809b-61ed011f7629",
   "metadata": {},
   "outputs": [
    {
     "name": "stdout",
     "output_type": "stream",
     "text": [
      "original tensor:\n",
      " tensor([[[[0.0249, 0.6773]],\n",
      "\n",
      "         [[0.7910, 0.5663]],\n",
      "\n",
      "         [[0.2787, 0.2979]]]])\n",
      "\n",
      "squeezed tensor:\n",
      " tensor([[0.0249, 0.6773],\n",
      "        [0.7910, 0.5663],\n",
      "        [0.2787, 0.2979]])\n",
      "\n",
      "squeezed tensor for 3rd dim:\n",
      " tensor([[[0.0249, 0.6773],\n",
      "         [0.7910, 0.5663],\n",
      "         [0.2787, 0.2979]]])\n",
      "\n",
      "size of original tensor: torch.Size([1, 3, 1, 2])\n",
      "size of squeezed tensor: torch.Size([3, 2])\n",
      "size of squeezed tensor for 3rd dim: torch.Size([1, 3, 2])\n"
     ]
    }
   ],
   "source": [
    "# by using the keyword argument 'dim', the dimension to be removed can be specified in case there exist multiple dimensions with the size of 1\n",
    "x = pt.rand(size=(1, 3, 1, 2))\n",
    "\n",
    "# remove all dimesions with the size of 1\n",
    "y = x.squeeze()\n",
    "\n",
    "# only remove the last dimension\n",
    "z = x.squeeze(dim=2)\n",
    "\n",
    "print(\"original tensor:\\n\", x)\n",
    "print(\"\\nsqueezed tensor:\\n\", y)\n",
    "print(\"\\nsqueezed tensor for 3rd dim:\\n\", z)\n",
    "\n",
    "print(\"\\nsize of original tensor:\", x.size())\n",
    "print(\"size of squeezed tensor:\", y.size())\n",
    "print(\"size of squeezed tensor for 3rd dim:\", z.size())"
   ]
  },
  {
   "cell_type": "markdown",
   "id": "520f7f6f-c7bf-46b5-8bb4-20f6d7d88bcf",
   "metadata": {},
   "source": [
    "#### zeros() vs. zeros_like()\n",
    "\n",
    "In the previous examples, tensors were always initialized with zeros using the `zeros()` method. The `zeros_like()` method, however, is an efficient way to generate a tensor filled with zeros by using another tensor. For example, consider having a tensor $x$ filled with some values and we want to create a tensor $y$, which has the same size of $x$ but is filled with zeros. Instead of using `y = pt.zeros(size=x.size())` we can create $y$ as `y = pt.zeros_like(x)`."
   ]
  },
  {
   "cell_type": "code",
   "execution_count": null,
   "id": "a80f8421-72cc-4ae8-a7c2-041acaecac6e",
   "metadata": {},
   "outputs": [
    {
     "name": "stdout",
     "output_type": "stream",
     "text": [
      "tensor initialized with zeros:\n",
      " tensor([[0., 0.],\n",
      "        [0., 0.]])\n",
      "\n",
      "tensor initialized with random numbers:\n",
      " tensor([[0.8827, 0.1368],\n",
      "        [0.0349, 0.8776]])\n",
      "\n",
      "using zeros_like() method:\n",
      " tensor([[0., 0.],\n",
      "        [0., 0.]])\n"
     ]
    }
   ],
   "source": [
    "# creating a tensor filled with zeros\n",
    "x = pt.zeros(size=(2, 2))\n",
    "\n",
    "# create tensor filled with some random numbers\n",
    "y = pt.rand(size=(2, 2))\n",
    "\n",
    "# use zeros_like() to create tensor of the same shape as y, but filled with zeros\n",
    "z = pt.zeros_like(y)\n",
    "\n",
    "print(\"tensor initialized with zeros:\\n\", x)\n",
    "print(\"\\ntensor initialized with random numbers:\\n\", y)\n",
    "print(\"\\nusing zeros_like() method:\\n\", z)"
   ]
  },
  {
   "cell_type": "markdown",
   "id": "a0066c69-dbcf-48c2-bbad-b85ac877c9f5",
   "metadata": {},
   "source": [
    "#### min() vs. argmin() \n",
    "The `min()` method in torch returns the minimum of a $n-$dimensional tensor. In a lot of cases, additionally the position of the minimum element is required. To get the index of the minimum element, we can use the `argmin()` method of torch. The maximum element and it's position can analogously be determined by using `max()` and `argmax()` respectively."
   ]
  },
  {
   "cell_type": "code",
   "execution_count": null,
   "id": "9067a27b-004e-41f8-8c15-68080579ebe4",
   "metadata": {},
   "outputs": [
    {
     "name": "stdout",
     "output_type": "stream",
     "text": [
      "x =  tensor([[0.3725, 0.4079, 0.6791, 0.5484, 0.3855]])\n",
      "min(x) = 0.3725 at position 0\n"
     ]
    }
   ],
   "source": [
    "# creating tensor filled with random numbers\n",
    "x = pt.rand(size=(1, 5))\n",
    "\n",
    "print(\"x = \", x)\n",
    "print(f\"min(x) = {'{:.4f}'.format(pt.min(x).item())} at position {pt.argmin(x).item()}\")"
   ]
  },
  {
   "cell_type": "markdown",
   "id": "34aa1d6f-c022-435e-8421-6403f015cfb7",
   "metadata": {},
   "source": [
    "#### Combining tensor operations\n",
    "\n",
    "We only looked at single tensor operations so far. When programming in Python, however, we can combine these methods in order shorten the code while at the same time making it more efficient. The following example illustrates a possible implementation for calculating the $L_2-$norm of a vector:"
   ]
  },
  {
   "cell_type": "code",
   "execution_count": null,
   "id": "b863c52e-a42d-419d-ba0f-82b21a06f3d2",
   "metadata": {},
   "outputs": [
    {
     "name": "stdout",
     "output_type": "stream",
     "text": [
      "L2(x, y) =  0.026688523590564728\n",
      "L2(x, y) =  0.026688523590564728\n"
     ]
    }
   ],
   "source": [
    "# let's define two vectors\n",
    "x = pt.rand(size=(3, 1))\n",
    "y = pt.rand(size=(3, 1))\n",
    "\n",
    "# now we want to calculate the L2-norm between the vector elements without combining methods\n",
    "l2 = x-y\n",
    "l2 = l2.square()\n",
    "l2 = l2.mean()\n",
    "print(\"L2(x, y) = \", l2.item())\n",
    "\n",
    "# a more clear and efficient way:\n",
    "print(\"L2(x, y) = \", (x-y).square().mean().item())"
   ]
  },
  {
   "cell_type": "markdown",
   "id": "122fa1a7-9ad2-448a-8bea-9598f25d12b7",
   "metadata": {},
   "source": [
    "## 5. Handling column-like data with Pandas\n",
    "\n",
    "[Pandas](https://pandas.pydata.org/) is a library providing many tools for data analysis. In Pandas so called `DataFrame`s are largely used, which is a similar way of structuring data as in the built-in `dict()`. Since Pandas provides a vast amount of tools, within this section only the `read_csv()` method, which is frequently used throughout the lecture and exercise, shall be presented.\n",
    "\n",
    "The `read_csv()` method can be used to read in $.csv$ files column-like data. Although the method is named `read_csv()`, other file types can be read in as well, while the data within the files can be separated by any arbitrary separator. This separator has to be specified as keyword argument when calling the function. The following example illustrates a possible use of the `read_csv()` method. "
   ]
  },
  {
   "cell_type": "code",
   "execution_count": null,
   "id": "96815d1e-1d14-4a86-99ce-d69687dd4b8e",
   "metadata": {},
   "outputs": [],
   "source": [
    "dummy_str = \"\"\"\n",
    "       XFOIL         Version 6.93\n",
    "  \n",
    " Calculated polar for: NACA 67-414                                     \n",
    "  \n",
    " 1 1 Reynolds number fixed          Mach number fixed         \n",
    "  \n",
    " xtrf =   1.000 (top)        1.000 (bottom)  \n",
    " Mach =   0.500     Re =     5.000 e 6     Ncrit =  13.000 13.000\n",
    "  \n",
    "  alpha     CL        CD       CDp       CM    Top_Xtr Bot_Xtr    CQ       CDq  \n",
    " ------- -------- --------- --------- -------- ------- ------- -------- --------\n",
    "   0.000   0.4239 0.0032031 0.0010239  -0.1011  0.7862  0.7914  0.00000  0.00000\n",
    "   0.250   0.4581 0.0032021 0.0010260  -0.1015  0.7833  0.7957  0.00000  0.00000\n",
    "   0.500   0.4914 0.0032155 0.0010364  -0.1017  0.7799  0.7989  0.00000  0.00000\n",
    "   0.750   0.5251 0.0032287 0.0010587  -0.1020  0.7757  0.8017  0.00000  0.00000\n",
    "   1.000   0.5594 0.0032471 0.0010826  -0.1024  0.7717  0.8043  0.00000  0.00000\n",
    "   1.250   0.5917 0.0032885 0.0011012  -0.1023  0.7661  0.8058  0.00000  0.00000\n",
    "   1.500   0.6259 0.0032757 0.0011005  -0.1027  0.7603  0.8069  0.00000  0.00000\n",
    "   1.750   0.6575 0.0032830 0.0011012  -0.1025  0.7521  0.8084  0.00000  0.00000\n",
    "   2.000   0.6872 0.0033220 0.0011216  -0.1018  0.7399  0.8093  0.00000  0.00000\n",
    "\"\"\"\n",
    "\n",
    "# we wrap the string above in a file-like object\n",
    "from io import StringIO\n",
    "\n",
    "dummy_csv = StringIO(dummy_str)"
   ]
  },
  {
   "cell_type": "markdown",
   "id": "22a13c35-ca3e-437c-ac27-2fead62d8a32",
   "metadata": {},
   "source": [
    "Now, we want to read in this data using the `read_csv()` method. Firstly, we need to get rid of the header since it contains no relevant data. This can be achieved by using the keyword `skiprow=9`, meaning we want to ignore whatever data is in rows $0-9$. Secondly, we have to define the separator as white space `sep=r\"\\s+\"`, because our data is not separated by commas, which is the default value for the `read_csv()` method. Lastly, we want the names of the columns in the file to be the names in the dataframe in order to access them later by name. This can be done using the keyword `header=0`, meaning we want the strings in the $1^{st}$ row to be set as column names (we neglect the rows $0...9$, therefore pandas starts to read in at row $10$ of the original data file)."
   ]
  },
  {
   "cell_type": "code",
   "execution_count": null,
   "id": "8a51672e-71a9-448e-b7a6-c2ef2162445f",
   "metadata": {},
   "outputs": [
    {
     "name": "stdout",
     "output_type": "stream",
     "text": [
      "     alpha        CL         CD        CDp        CM  Top_Xtr  Bot_Xtr  \\\n",
      "0  -------  --------  ---------  ---------  --------  -------  -------   \n",
      "1    0.000    0.4239  0.0032031  0.0010239   -0.1011   0.7862   0.7914   \n",
      "2    0.250    0.4581  0.0032021  0.0010260   -0.1015   0.7833   0.7957   \n",
      "3    0.500    0.4914  0.0032155  0.0010364   -0.1017   0.7799   0.7989   \n",
      "4    0.750    0.5251  0.0032287  0.0010587   -0.1020   0.7757   0.8017   \n",
      "\n",
      "         CQ       CDq  \n",
      "0  --------  --------  \n",
      "1   0.00000   0.00000  \n",
      "2   0.00000   0.00000  \n",
      "3   0.00000   0.00000  \n",
      "4   0.00000   0.00000  \n"
     ]
    }
   ],
   "source": [
    "from pandas import read_csv\n",
    "\n",
    "# let's import this file\n",
    "# for a real .csv file, replace dummy_csv with the file path\n",
    "data = read_csv(dummy_csv, sep=r\"\\s+\", skiprows=9, header=0)\n",
    "\n",
    "# we can print out the first few lines to see if we did everything correcly using data.head():\n",
    "print(data.head())"
   ]
  },
  {
   "cell_type": "markdown",
   "id": "f0f12955-02f1-478e-a547-d14fa43cb51a",
   "metadata": {},
   "source": [
    "Alternatively, we can specify which columns we want to read in using the keyword `usecols` and change the names of these columns as well with the keyword `names`:"
   ]
  },
  {
   "cell_type": "code",
   "execution_count": null,
   "id": "a3790862-03f1-4b79-bd83-0b4e5f9503e8",
   "metadata": {},
   "outputs": [
    {
     "name": "stdout",
     "output_type": "stream",
     "text": [
      "       aoa        cl\n",
      "0  -------  --------\n",
      "1    0.000    0.4239\n",
      "2    0.250    0.4581\n",
      "3    0.500    0.4914\n",
      "4    0.750    0.5251\n"
     ]
    }
   ],
   "source": [
    "# only read in the 1st two columns and give them a different name\n",
    "data = read_csv(StringIO(dummy_str), sep=r\"\\s+\", skiprows=9, header=0, usecols=[0, 1], names=[\"aoa\", \"cl\"])\n",
    "print(data.head())"
   ]
  },
  {
   "cell_type": "markdown",
   "id": "9d6b0af1-b617-4bcd-8440-b00d400cca7e",
   "metadata": {},
   "source": [
    "The data in the dataframe can now be accessed by the names of the columns, similarly to dicts, e.g., by typing `aoa = data[\"aoa\"]`, we would assign all the data of the `aoa` column to the variable `aoa`."
   ]
  },
  {
   "cell_type": "markdown",
   "id": "ab299f15-c5e1-4fd6-b54e-afdecc50a02d",
   "metadata": {},
   "source": [
    "## Dealing with error messages and debugging code\n",
    "\n",
    "When writing code, making mistakes is envidable. The following section deals with common mistakes when writing code and how to interpret and solve error messages. However, the here presented suggestions and examples should be understand just as guidance, since everybody follows a slighty different approach when it comes to dealing with bugs.\n",
    "\n",
    "In general, the usage of an integrated development environment (IDE) such as [Visual Studio Code](https://code.visualstudio.com/) or [PyCharm](https://www.jetbrains.com/pycharm/) is highly recommended. IDE's provide useful tools for software development, e.g. a debugger, in which the written code can be debugged. The code can here be executed line-by-line while all relevant information is displayed and directly accessible. Further, IDE's provide useful functionality such as autocomplete and automatically enclosing any open brackets, which makes writing code faster and less prone to errors.\n",
    "\n",
    "When encountering an error, the python interpreter displays an error message, as already shown in some of the previous examples. The error message itself consists of the position of the error (line where the error was encountered) and what the error actually is (error message). In more complex code, Python additionally provides a so called $traceback$ of the error, which represents the complete \"path\" from the main script (or function) to the line of code where the error was encountered.\n",
    "\n",
    "Let's have a look at some common errors and possible way how to fix them."
   ]
  },
  {
   "cell_type": "code",
   "execution_count": null,
   "id": "81f8a1f2-7acc-4000-9aac-999663b95cb1",
   "metadata": {},
   "outputs": [
    {
     "ename": "IndentationError",
     "evalue": "unindent does not match any outer indentation level (<tokenize>, line 5)",
     "output_type": "error",
     "traceback": [
      "\u001b[0;36m  File \u001b[0;32m<tokenize>:5\u001b[0;36m\u001b[0m\n\u001b[0;31m    else:\u001b[0m\n\u001b[0m    ^\u001b[0m\n\u001b[0;31mIndentationError\u001b[0m\u001b[0;31m:\u001b[0m unindent does not match any outer indentation level\n"
     ]
    }
   ],
   "source": [
    "# 1st example: indentation error\n",
    "for i in range(3):\n",
    "    if i == 1:\n",
    "        print(i)\n",
    "   else:\n",
    "        print(i+1)"
   ]
  },
  {
   "cell_type": "markdown",
   "id": "dae5d6ee-8ef3-49a7-9d9e-1e2c2dc25717",
   "metadata": {},
   "source": [
    "In this example, the code itself seems to be fine. A look at the end of the error message, however, tells us that there is something wrong with the `else` statement. The `IndentationError` occurs, if the blocks of code are not aligned correctly. We can fix this by adding one space in front of the `else` statement, so that it is aligned with the `if` statement."
   ]
  },
  {
   "cell_type": "code",
   "execution_count": null,
   "id": "02a85e75-a79d-4bc9-bdf9-763a3fdcc256",
   "metadata": {},
   "outputs": [
    {
     "ename": "TypeError",
     "evalue": "subplot() takes 1 or 3 positional arguments but 2 were given",
     "output_type": "error",
     "traceback": [
      "\u001b[0;31m---------------------------------------------------------------------------\u001b[0m",
      "\u001b[0;31mTypeError\u001b[0m                                 Traceback (most recent call last)",
      "Cell \u001b[0;32mIn [53], line 17\u001b[0m\n\u001b[1;32m     15\u001b[0m x \u001b[39m=\u001b[39m [\u001b[39m1\u001b[39m, \u001b[39m2\u001b[39m, \u001b[39m3\u001b[39m]\n\u001b[1;32m     16\u001b[0m y \u001b[39m=\u001b[39m [\u001b[39m0.5\u001b[39m, \u001b[39m0.8\u001b[39m, \u001b[39m1.5\u001b[39m]\n\u001b[0;32m---> 17\u001b[0m plot_data(x, y)\n",
      "Cell \u001b[0;32mIn [53], line 6\u001b[0m, in \u001b[0;36mplot_data\u001b[0;34m(x, y)\u001b[0m\n\u001b[1;32m      5\u001b[0m \u001b[39mdef\u001b[39;00m \u001b[39mplot_data\u001b[39m(x, y):\n\u001b[0;32m----> 6\u001b[0m     fig, ax \u001b[39m=\u001b[39m plt\u001b[39m.\u001b[39;49msubplot(\u001b[39m1\u001b[39;49m, \u001b[39m1\u001b[39;49m)\n\u001b[1;32m      7\u001b[0m     ax\u001b[39m.\u001b[39mplot(x, y, color\u001b[39m=\u001b[39m\u001b[39m\"\u001b[39m\u001b[39mblack\u001b[39m\u001b[39m\"\u001b[39m)\n\u001b[1;32m      8\u001b[0m     ax\u001b[39m.\u001b[39mset_xlabel(\u001b[39m\"\u001b[39m\u001b[39mx\u001b[39m\u001b[39m\"\u001b[39m)\n",
      "File \u001b[0;32m~/Development/ml-cfd-lecture/ml-cfd/lib/python3.10/site-packages/matplotlib/pyplot.py:1254\u001b[0m, in \u001b[0;36msubplot\u001b[0;34m(*args, **kwargs)\u001b[0m\n\u001b[1;32m   1251\u001b[0m fig \u001b[39m=\u001b[39m gcf()\n\u001b[1;32m   1253\u001b[0m \u001b[39m# First, search for an existing subplot with a matching spec.\u001b[39;00m\n\u001b[0;32m-> 1254\u001b[0m key \u001b[39m=\u001b[39m SubplotSpec\u001b[39m.\u001b[39;49m_from_subplot_args(fig, args)\n\u001b[1;32m   1256\u001b[0m \u001b[39mfor\u001b[39;00m ax \u001b[39min\u001b[39;00m fig\u001b[39m.\u001b[39maxes:\n\u001b[1;32m   1257\u001b[0m     \u001b[39m# if we found an Axes at the position sort out if we can re-use it\u001b[39;00m\n\u001b[1;32m   1258\u001b[0m     \u001b[39mif\u001b[39;00m \u001b[39mhasattr\u001b[39m(ax, \u001b[39m'\u001b[39m\u001b[39mget_subplotspec\u001b[39m\u001b[39m'\u001b[39m) \u001b[39mand\u001b[39;00m ax\u001b[39m.\u001b[39mget_subplotspec() \u001b[39m==\u001b[39m key:\n\u001b[1;32m   1259\u001b[0m         \u001b[39m# if the user passed no kwargs, re-use\u001b[39;00m\n",
      "File \u001b[0;32m~/Development/ml-cfd-lecture/ml-cfd/lib/python3.10/site-packages/matplotlib/gridspec.py:598\u001b[0m, in \u001b[0;36mSubplotSpec._from_subplot_args\u001b[0;34m(figure, args)\u001b[0m\n\u001b[1;32m    596\u001b[0m     rows, cols, num \u001b[39m=\u001b[39m args\n\u001b[1;32m    597\u001b[0m \u001b[39melse\u001b[39;00m:\n\u001b[0;32m--> 598\u001b[0m     \u001b[39mraise\u001b[39;00m \u001b[39mTypeError\u001b[39;00m(\u001b[39mf\u001b[39m\u001b[39m\"\u001b[39m\u001b[39msubplot() takes 1 or 3 positional arguments but \u001b[39m\u001b[39m\"\u001b[39m\n\u001b[1;32m    599\u001b[0m                     \u001b[39mf\u001b[39m\u001b[39m\"\u001b[39m\u001b[39m{\u001b[39;00m\u001b[39mlen\u001b[39m(args)\u001b[39m}\u001b[39;00m\u001b[39m were given\u001b[39m\u001b[39m\"\u001b[39m)\n\u001b[1;32m    601\u001b[0m gs \u001b[39m=\u001b[39m GridSpec\u001b[39m.\u001b[39m_check_gridspec_exists(figure, rows, cols)\n\u001b[1;32m    602\u001b[0m \u001b[39mif\u001b[39;00m gs \u001b[39mis\u001b[39;00m \u001b[39mNone\u001b[39;00m:\n",
      "\u001b[0;31mTypeError\u001b[0m: subplot() takes 1 or 3 positional arguments but 2 were given"
     ]
    },
    {
     "data": {
      "text/plain": [
       "<Figure size 640x480 with 0 Axes>"
      ]
     },
     "metadata": {},
     "output_type": "display_data"
    }
   ],
   "source": [
    "# 2nd example: how to deal with tracebacks\n",
    "import matplotlib.pyplot as plt\n",
    "\n",
    "# create some function for plotting data\n",
    "def plot_data(x, y):\n",
    "    fig, ax = plt.subplot(1, 1)\n",
    "    ax.plot(x, y, color=\"black\")\n",
    "    ax.set_xlabel(\"x\")\n",
    "    ax.set_ylabel(\"y\")\n",
    "    plt.show()\n",
    "    \n",
    "# 'if __name__==\"__main__\":' means that the following code is only executed when this script is executed as 'main',\n",
    "# but if we call the 'plot_data' function from another script, this won't be executed\n",
    "if __name__==\"__main__\":\n",
    "    x = [1, 2, 3]\n",
    "    y = [0.5, 0.8, 1.5]\n",
    "    plot_data(x, y)\n",
    "    "
   ]
  },
  {
   "cell_type": "markdown",
   "id": "18fc3c49-0f62-44cc-98bd-332864f65214",
   "metadata": {},
   "source": [
    "In this example, the error message looks quite complicated. The last line of the error message tells us that we encountered a `ValueError` due to invalid arguments for the method `plt.subplot()`. Whenever getting an error caused by libraries, it is likely that we made a mistake in our code rather than that the library has a bug, since in general libraries are tested and regularly updated. So in this case it makes sense to start at the top of the error message. The first entry tells us that the error has something to do with calling out `plot_data()` function in the main script. Within this function, the statement `fig, ax = plt.subplot(1, 1)` is listed as next in the error message. Something in this line caused matplotlib to raise an `ValueError` as shown by the $3^{rd}$ entry of the error message. If we take a close look at this error message, we can see that matplotlib prints out the statement `\"The subplot index argument to subplot() appears to be a boolean. Did you intend to use subplots()?\"`. By looking again into our `plot_data()` function, we can see that we typed `plt.subplot()` instead of `plt.subplots()` which then lead to this error.\n",
    "\n",
    "In a lot of cases the cause of an error is rather simple as shown in the previous examples. Some commonly made mistakes may be:\n",
    "\n",
    "- forgotten or wrong brackets, e.g. using `()` instead of `[]` when trying to access elements of a list (in contrast to other languages such as Matlab, where `()` is used to access elements)\n",
    "- too many brackets, e.g. because some expression was deleted but the closing bracket is still present: `call_some_method(parameter))`\n",
    "- confusing similar methods, such as `plt.xlabel(\"...\")` vs. `ax.set_xlabel(\"...\")` methods within the matplotlib.pyplot library\n",
    "- using a wrong separator when reading in files, e.g., with the pandas library\n",
    "- Python is quite sensitive to indents (in contrast to other languages such as C++), meaning each block of code needs to be aligned"
   ]
  },
  {
   "cell_type": "markdown",
   "id": "e3868c70-9432-4994-813b-d018e502d365",
   "metadata": {},
   "source": [
    "## References\n",
    "\n",
    "### Python documentation:\n",
    "\n",
    "- [python docs](https://docs.python.org/3.3/library/functions.html) for built-in functions\n",
    "- [python docs](https://docs.python.org/3/tutorial/controlflow.html) for flow control statements\n",
    "- [python docs](https://docs.python.org/3/tutorial/datastructures.html#looping-techniques) for lists\n",
    "- [python docs](https://docs.python.org/3/tutorial/classes.html) for classes (especially section 9.3, 9.5)\n",
    "- [python docs](https://docs.python.org/3/glossary.html#term-decorator) for decorators\n",
    "- [python docs](https://docs.python.org/3.3/library/functions.html#property) for the @property decorator\n",
    "- [flowTorch](https://flowmodelingcontrol.github.io/flowtorch-docs/1.1/index.html) library\n",
    "- [Matplotlib](https://matplotlib.org/stable/index.html) library\n",
    "- [read_csv](https://pandas.pydata.org/docs/reference/api/pandas.read_csv.html) method in pandas\n",
    "- [Pandas](https://pandas.pydata.org/docs/user_guide/index.html#user-guide) user guide\n",
    "- [PyTorch docs](https://pytorch.org/docs/stable/index.html) general\n",
    "- [PyTorch docs](https://pytorch.org/tutorials/beginner/introyt/tensors_deeper_tutorial.html) for tensors\n",
    "\n",
    "### Other references:\n",
    "\n",
    "- [lambda expressions](https://realpython.com/python-lambda/)\n",
    "- [decorators](https://realpython.com/primer-on-python-decorators/)\n",
    "- [Python Decorators in 15 Minutes](https://www.youtube.com/watch?v=r7Dtus7N4pI)"
   ]
  },
  {
   "cell_type": "code",
   "execution_count": null,
   "id": "414d0625-910e-45b1-b959-a5cd9c00fc37",
   "metadata": {},
   "outputs": [],
   "source": []
  }
 ],
 "metadata": {
  "kernelspec": {
   "display_name": "Python 3.10.6 ('ml-cfd': venv)",
   "language": "python",
   "name": "python3"
  },
  "language_info": {
   "codemirror_mode": {
    "name": "ipython",
    "version": 3
   },
   "file_extension": ".py",
   "mimetype": "text/x-python",
   "name": "python",
   "nbconvert_exporter": "python",
   "pygments_lexer": "ipython3",
   "version": "3.10.6"
  },
  "vscode": {
   "interpreter": {
    "hash": "cbb112329e189d437c2dd20cb32069784312f3fb0cc6892ecadf8f4f78f994e7"
   }
  }
 },
 "nbformat": 4,
 "nbformat_minor": 5
}
